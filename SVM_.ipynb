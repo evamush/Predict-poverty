{
 "cells": [
  {
   "cell_type": "code",
   "execution_count": 1,
   "metadata": {
    "collapsed": true
   },
   "outputs": [],
   "source": [
    "%matplotlib inline\n",
    "\n",
    "import os\n",
    "\n",
    "import numpy as np\n",
    "import pandas as pd\n",
    "\n",
    "import matplotlib.pyplot as plt\n",
    "\n",
    "# data directory\n",
    "DATA_DIR = os.path.join( 'data', 'processed')\n",
    "\n",
    "data_paths = {'A': {'train': os.path.join(DATA_DIR, 'A', 'A_hhold_train.csv'), \n",
    "                    'test':  os.path.join(DATA_DIR, 'A', 'A_hhold_test.csv'),\n",
    "                    'Itrain': os.path.join(DATA_DIR, 'A', 'A_indiv_train.csv'),\n",
    "                    'Itest': os.path.join(DATA_DIR, 'A', 'A_indiv_test.csv')}, \n",
    "              \n",
    "              'B': {'train': os.path.join(DATA_DIR, 'B', 'B_hhold_train.csv'), \n",
    "                    'test':  os.path.join(DATA_DIR, 'B', 'B_hhold_test.csv'),\n",
    "                    'Itrain': os.path.join(DATA_DIR, 'B', 'B_indiv_train.csv'),\n",
    "                    'Itest': os.path.join(DATA_DIR, 'B', 'B_indiv_test.csv')}, \n",
    "              \n",
    "              'C': {'train': os.path.join(DATA_DIR, 'C', 'C_hhold_train.csv'), \n",
    "                    'test':  os.path.join(DATA_DIR, 'C', 'C_hhold_test.csv'),\n",
    "                    'Itrain': os.path.join(DATA_DIR, 'C', 'C_indiv_train.csv'),\n",
    "                    'Itest': os.path.join(DATA_DIR, 'C', 'C_indiv_test.csv')}}"
   ]
  },
  {
   "cell_type": "raw",
   "metadata": {
    "collapsed": true
   },
   "source": [
    "# Standardize features\n",
    "def standardize(df, numeric_only=True):\n",
    "    numeric = df.select_dtypes(include=['int64', 'float64'])\n",
    "    \n",
    "    # subtracy mean and divide by std\n",
    "    df[numeric.columns] = (numeric - numeric.mean()) / numeric.std()\n",
    "    \n",
    "    return df\n",
    "    \n",
    "\n",
    "def pre_process_data(df, enforce_cols=None):\n",
    "    print(\"Input shape:\\t{}\".format(df.shape))\n",
    "        \n",
    "\n",
    "    df = standardize(df)\n",
    "    print(\"After standardization {}\".format(df.shape))\n",
    "        \n",
    "    # create dummy variables for categoricals\n",
    "    df = pd.get_dummies(df)\n",
    "    print(\"After converting categoricals:\\t{}\".format(df.shape))\n",
    "    \n",
    "\n",
    "    # match test set and training set columns\n",
    "    if enforce_cols is not None:\n",
    "        to_drop = np.setdiff1d(df.columns, enforce_cols)\n",
    "        to_add = np.setdiff1d(enforce_cols, df.columns)\n",
    "\n",
    "        df.drop(to_drop, axis=1, inplace=True)\n",
    "        df = df.assign(**{c: 0 for c in to_add})\n",
    "    \n",
    "    df.fillna(0, inplace=True)\n",
    "    \n",
    "    return df"
   ]
  },
  {
   "cell_type": "code",
   "execution_count": 29,
   "metadata": {
    "collapsed": true
   },
   "outputs": [],
   "source": [
    "# Standardize features\n",
    "def standardize(df, numeric_only=True):\n",
    "    numeric = df.select_dtypes(include=['int64', 'float64'])\n",
    "    df[numeric.columns] = (numeric - numeric.mean()) / numeric.std()\n",
    "    return df\n",
    "    \n",
    "\n",
    "def pre_process_data(df, enforce_cols=None):\n",
    "#     df = standardize(df)\n",
    "    df = pd.get_dummies(df)\n",
    "    print(\"After converting categoricals:\\t{}\".format(df.shape))\n",
    "    if enforce_cols is not None:\n",
    "        to_drop = np.setdiff1d(df.columns, enforce_cols)\n",
    "        to_add = np.setdiff1d(enforce_cols, df.columns)\n",
    "\n",
    "        df.drop(to_drop, axis=1, inplace=True)\n",
    "        df = df.assign(**{c: 0 for c in to_add})\n",
    "    \n",
    "    df.fillna(0, inplace=True)\n",
    "    \n",
    "    return df \n",
    "def drop(df, col, threshold):\n",
    "    poor_count = sum(df['poor'])\n",
    "    non_count = df.shape[0]-poor_count\n",
    "    col_poor = Counter(df[col][df['poor'] == True])\n",
    "    col_non_poor = Counter(df[col][df['poor'] == False])\n",
    "    key = set(col_poor.keys())|set(col_poor.keys())\n",
    "    poor_value, non_poor_value = any([i/poor_count>threshold for i in col_poor.values()]), any([i/non_count>threshold for i in col_non_poor.values()])\n",
    "    if poor_value & non_poor_value:\n",
    "        return df.drop([col],axis=1)\n",
    "    else: return df\n",
    "\n",
    "def drop_col(hhold, indi, hhold_threshold, indi_threshold):\n",
    "    hhold_poor = sum(hhold['poor'])\n",
    "    hhold_no = hhold.shape[0] - hhold_poor\n",
    "    indi_poor = sum(indi['poor'])\n",
    "    indi_no = indi.shape[0] - indi_poor\n",
    "    for col in hhold:\n",
    "        if col == 'poor' or col == 'country': continue\n",
    "        h_col_poor = Counter(hhold[col][hhold['poor'] == True])\n",
    "        h_col_non = Counter(hhold[col][hhold['poor'] == False])\n",
    "        if any([i/hhold_poor>hhold_threshold for i in h_col_poor.values()]) & any([i/hhold_no>hhold_threshold for i in h_col_non.values()]):\n",
    "            hhold = hhold.drop([col], axis = 1)\n",
    "    for col in indi:\n",
    "        if col == 'poor' or col == 'country' or col == 'iid': continue\n",
    "        i_col_poor = Counter(indi[col][indi['poor'] == True])\n",
    "        i_col_non = Counter(indi[col][indi['poor'] == False])\n",
    "        if any([i/indi_poor>indi_threshold for i in i_col_poor.values()]) & any([i/indi_no>indi_threshold for i in i_col_non.values()]):\n",
    "            indi = indi.drop([col], axis = 1)\n",
    "    return hhold, indi.drop(['poor','country'],axis=1)\n",
    "    \n",
    "def combine_hhold_indi(hhold, indi):\n",
    "    hhold = pre_process_data(hhold)\n",
    "    iid_count = pd.DataFrame(indi.groupby('id')['iid'].count())\n",
    "    iid_count.columns = ['family_numbers']\n",
    "    indi = indi.drop('iid',axis=1)\n",
    "    indi_num = indi.select_dtypes(include=['int64', 'float64'])\n",
    "    indi_obj = indi.drop(list(indi_num.columns), axis = 1)\n",
    "    indi_obj = pd.get_dummies(indi_obj)\n",
    "    indi_num = indi_num.fillna(indi_num.mean())\n",
    "    indi_obj = pre_process_data(indi_obj)\n",
    "    indi_num = indi_num.groupby('id')[list(indi_num.columns)].mean()\n",
    "#     indi_num = standardize(indi_num)\n",
    "    indi_obj = indi_obj.groupby('id')[list(indi_obj.columns)].sum()/indi_obj.groupby('id')[list(indi_obj.columns)].count()\n",
    "    com = pd.concat([iid_count,indi_num,indi_obj,hhold],axis=1)\n",
    "    com.fillna(-100,inplace=True)\n",
    "    return com\n",
    "\n",
    "def order(df_test, df_train, ori_test):\n",
    "    new_df = pd.DataFrame()\n",
    "    for key in df_train:\n",
    "        new_df[key] = df_test[key]\n",
    "    new_df = new_df.loc[ori_test.index]\n",
    "    return new_df\n",
    "def mll(y_true,y_pred):\n",
    "    loss = 0\n",
    "    for i in range(3):\n",
    "        for j in range(len(y_true[i])):\n",
    "            loss += y_true[i][j]*np.log(y_pred[i][j])+(1-y_true[i][j])*np.log(1-y_pred[i][j])\n",
    "        loss = loss / (j+1)\n",
    "    return -loss/3\n",
    "\n",
    "def combine_test_hhold_indi(hhold, indi, train):\n",
    "    hhold = pre_process_data(hhold.drop('country',axis = 1))\n",
    "    iid_count = pd.DataFrame(indi.groupby('id')['iid'].count())\n",
    "    iid_count.columns = ['family_numbers']\n",
    "    indi = indi.drop('iid',axis=1)\n",
    "    indi_num = indi.select_dtypes(include=['int64', 'float64'])\n",
    "    indi_obj = indi.drop(list(indi_num.columns), axis = 1)\n",
    "    indi_obj = pd.get_dummies(indi_obj)\n",
    "    indi_num = indi_num.fillna(indi_num.mean())\n",
    "    indi_obj = pre_process_data(indi_obj)\n",
    "    indi_num = indi_num.groupby('id')[list(indi_num.columns)].mean()\n",
    "#     indi_num = standardize(indi_num)\n",
    "    indi_obj = indi_obj.groupby('id')[list(indi_obj.columns)].sum()/indi_obj.groupby('id')[list(indi_obj.columns)].count()\n",
    "    com = pd.concat([iid_count,indi_num,indi_obj,hhold],axis=1)\n",
    "    to_drop = np.setdiff1d(com.columns, train.columns)\n",
    "    to_add = np.setdiff1d(train.columns, com.columns)\n",
    "\n",
    "    com.drop(to_drop, axis=1, inplace=True)\n",
    "    com = com.assign(**{c: 0 for c in to_add})\n",
    "    \n",
    "    com.fillna(0, inplace=True)\n",
    "    return com"
   ]
  },
  {
   "cell_type": "code",
   "execution_count": 39,
   "metadata": {
    "collapsed": true
   },
   "outputs": [],
   "source": [
    "# load training data\n",
    "a_train = pd.read_csv(data_paths['A']['train'], index_col='id')\n",
    "b_train = pd.read_csv(data_paths['B']['train'], index_col='id')\n",
    "c_train = pd.read_csv(data_paths['C']['train'], index_col='id')\n",
    "\n",
    "ai_train = pd.read_csv(data_paths['A']['Itrain'], index_col='id')\n",
    "bi_train = pd.read_csv(data_paths['B']['Itrain'], index_col='id').drop('wJthinfa',axis=1)\n",
    "ci_train = pd.read_csv(data_paths['C']['Itrain'], index_col='id')"
   ]
  },
  {
   "cell_type": "code",
   "execution_count": 40,
   "metadata": {
    "collapsed": true
   },
   "outputs": [],
   "source": [
    "# load test data\n",
    "a_test = pd.read_csv(data_paths['A']['test'], index_col='id')\n",
    "b_test = pd.read_csv(data_paths['B']['test'], index_col='id')\n",
    "c_test = pd.read_csv(data_paths['C']['test'], index_col='id')\n",
    "ai_test = pd.read_csv(data_paths['A']['Itest'], index_col='id')\n",
    "bi_test = pd.read_csv(data_paths['B']['Itest'], index_col='id').drop('wJthinfa',axis=1)\n",
    "ci_test = pd.read_csv(data_paths['C']['Itest'], index_col='id')"
   ]
  },
  {
   "cell_type": "code",
   "execution_count": 41,
   "metadata": {},
   "outputs": [
    {
     "name": "stdout",
     "output_type": "stream",
     "text": [
      "After converting categoricals:\t(8203, 612)\n",
      "After converting categoricals:\t(37560, 255)\n",
      "After converting categoricals:\t(3255, 1221)\n",
      "After converting categoricals:\t(20252, 1039)\n",
      "After converting categoricals:\t(6469, 741)\n",
      "After converting categoricals:\t(29913, 279)\n"
     ]
    }
   ],
   "source": [
    "train_a,train_ai = drop_col(a_train,ai_train,0.95,0.95)\n",
    "A_train = combine_hhold_indi(train_a,train_ai)\n",
    "train_b,train_bi = drop_col(b_train,bi_train,0.95,0.95)\n",
    "B_train = combine_hhold_indi(train_b,train_bi)\n",
    "train_c,train_ci = drop_col(c_train,ci_train,0.95,0.95)\n",
    "C_train = combine_hhold_indi(train_c,train_ci)\n",
    "A_train = A_train.sample(frac=1)\n",
    "B_train = B_train.sample(frac=1)\n",
    "C_train = C_train.sample(frac=1)"
   ]
  },
  {
   "cell_type": "code",
   "execution_count": 59,
   "metadata": {},
   "outputs": [
    {
     "name": "stdout",
     "output_type": "stream",
     "text": [
      "After converting categoricals:\t(4041, 850)\n",
      "After converting categoricals:\t(18535, 271)\n",
      "After converting categoricals:\t(1604, 1418)\n",
      "After converting categoricals:\t(10066, 1502)\n",
      "After converting categoricals:\t(3187, 772)\n",
      "After converting categoricals:\t(14701, 296)\n"
     ]
    }
   ],
   "source": [
    "aX_train = A_train.drop('poor', axis = 1) \n",
    "ay_train = A_train['poor'].values\n",
    "bX_train = B_train.drop('poor', axis = 1) \n",
    "by_train = B_train['poor'].values\n",
    "cX_train = C_train.drop('poor', axis = 1) \n",
    "cy_train = C_train['poor'].values\n",
    "A_test = combine_test_hhold_indi(a_test, ai_test, aX_train)\n",
    "B_test = combine_test_hhold_indi(b_test, bi_test, bX_train)\n",
    "C_test = combine_test_hhold_indi(c_test, ci_test, cX_train)\n",
    "A_test = order(A_test, ax, a_test)\n",
    "B_test = order(B_test, bx, b_test)\n",
    "C_test = order(C_test, cx, c_test)"
   ]
  },
  {
   "cell_type": "raw",
   "metadata": {},
   "source": [
    "print(\"Country A\")\n",
    "aX_train = pre_process_data(a_train.drop('poor', axis=1))\n",
    "ay_train = np.ravel(a_train.poor)\n",
    "\n",
    "print(\"\\nCountry B\")\n",
    "bX_train = pre_process_data(b_train.drop('poor', axis=1))\n",
    "by_train = np.ravel(b_train.poor)\n",
    "\n",
    "print(\"\\nCountry C\")\n",
    "cX_train = pre_process_data(c_train.drop('poor', axis=1))\n",
    "cy_train = np.ravel(c_train.poor)"
   ]
  },
  {
   "cell_type": "raw",
   "metadata": {
    "collapsed": true
   },
   "source": [
    "aX_train = aX_train.drop(['country_A'],axis=1)\n",
    "bX_train = bX_train.drop(['country_B'],axis=1)\n",
    "cX_train = cX_train.drop(['country_C'],axis=1)"
   ]
  },
  {
   "cell_type": "raw",
   "metadata": {},
   "source": [
    "# process the test data\n",
    "a_test = pre_process_data(a_test, enforce_cols=aX_train.columns)\n",
    "b_test = pre_process_data(b_test, enforce_cols=bX_train.columns)\n",
    "c_test = pre_process_data(c_test, enforce_cols=cX_train.columns)"
   ]
  },
  {
   "cell_type": "raw",
   "metadata": {
    "collapsed": true
   },
   "source": [
    "def order(df_test, df_train):\n",
    "    new_df = pd.DataFrame()\n",
    "    for key in df_train:\n",
    "        new_df[key] = df_test[key]\n",
    "    return new_df\n",
    "\n",
    "a_test = order(a_test, aX_train)\n",
    "b_test = order(b_test, bX_train)\n",
    "c_test = order(c_test, cX_train)"
   ]
  },
  {
   "cell_type": "code",
   "execution_count": 43,
   "metadata": {
    "collapsed": true
   },
   "outputs": [],
   "source": [
    "def make_country_sub(preds, test_feat, country):\n",
    "    # make sure we code the country correctly\n",
    "    country_codes = ['A', 'B', 'C']\n",
    "    \n",
    "    # get just the poor probabilities\n",
    "    country_sub = pd.DataFrame(data=preds[:, 1],  # proba p=1\n",
    "                               columns=['poor'], \n",
    "                               index=test_feat.index)\n",
    "\n",
    "    \n",
    "    # add the country code for joining later\n",
    "    country_sub[\"country\"] = country\n",
    "    return country_sub[[\"country\", \"poor\"]]"
   ]
  },
  {
   "cell_type": "code",
   "execution_count": 58,
   "metadata": {
    "collapsed": true
   },
   "outputs": [],
   "source": [
    "from sklearn.svm import SVC\n",
    "from sklearn.model_selection import GridSearchCV\n",
    "from sklearn import preprocessing, decomposition, model_selection, metrics, pipeline\n",
    "from sklearn.cross_validation import StratifiedKFold,train_test_split\n",
    "from sklearn.ensemble import RandomForestClassifier\n",
    "\n",
    "def transform(trainfeatures, testfeatures, n,**kwargs):\n",
    "    svd = decomposition.TruncatedSVD(n_components=n)\n",
    "    svd.fit(trainfeatures)\n",
    "    trainfeatures_svd = svd.transform(trainfeatures)\n",
    "    testfeatures_svd = svd.transform(testfeatures)\n",
    "    \n",
    "    scl = preprocessing.StandardScaler()\n",
    "    scl.fit(trainfeatures_svd)\n",
    "    trainfeatures_svd_scl = scl.transform(trainfeatures_svd)\n",
    "    testfeatures_svd_scl = scl.transform(testfeatures_svd)   \n",
    "    return trainfeatures_svd_scl,testfeatures_svd_scl"
   ]
  },
  {
   "cell_type": "code",
   "execution_count": 62,
   "metadata": {
    "collapsed": true
   },
   "outputs": [],
   "source": [
    "trans_atrain, trans_atest = transform(aX_train, A_test, 340)\n",
    "trans_btrain, trans_btest = transform(bX_train, B_test, 440)\n",
    "trans_ctrain, trans_ctest = transform(cX_train, C_test, 160)"
   ]
  },
  {
   "cell_type": "code",
   "execution_count": 66,
   "metadata": {
    "collapsed": true
   },
   "outputs": [],
   "source": [
    "svm_model = SVC()\n",
    "#parameters = [{'C': [1, 10, 100, 1000],'gamma': [1e-3, 1e-4], 'probability':['True']}]\n",
    "#parameters = [{\"C\":[0.1, 1, 10], \"gamma\": [1, 0.1, 0.01]}]\n",
    "#parameters = [{'C': [1, 10, 100, 1000],'gamma': [0.001,0.0001],'kernel': ['rbf']},\n",
    "              #{'C': [1, 10, 100], 'kernel': ['linear']}]\n",
    "#parameters = [{'C': [1,30,60,100],'gamma': [0.1,0.01,0.003,0.005],'class_weight':['balanced'],'kernel': ['rbf']}]\n",
    "parameters = [{'C': [0.1,1,10],'gamma': [1,0.1,0.01],'class_weight':['balanced'],'kernel': ['rbf']}]\n"
   ]
  },
  {
   "cell_type": "code",
   "execution_count": 68,
   "metadata": {},
   "outputs": [
    {
     "name": "stdout",
     "output_type": "stream",
     "text": [
      "Fitting 5 folds for each of 16 candidates, totalling 80 fits\n",
      "[CV] C=1, class_weight=balanced, gamma=0.1, kernel=rbf ...............\n",
      "[CV] C=1, class_weight=balanced, gamma=0.1, kernel=rbf ...............\n",
      "[CV] C=1, class_weight=balanced, gamma=0.1, kernel=rbf ...............\n",
      "[CV] C=1, class_weight=balanced, gamma=0.1, kernel=rbf ...............\n",
      "[CV] C=1, class_weight=balanced, gamma=0.1, kernel=rbf ...............\n",
      "[CV]  C=1, class_weight=balanced, gamma=0.1, kernel=rbf, total=  41.8s\n",
      "[CV]  C=1, class_weight=balanced, gamma=0.1, kernel=rbf, total=  41.8s\n",
      "[CV] C=1, class_weight=balanced, gamma=0.01, kernel=rbf ..............\n",
      "[CV]  C=1, class_weight=balanced, gamma=0.1, kernel=rbf, total=  41.8s\n",
      "[CV] C=1, class_weight=balanced, gamma=0.01, kernel=rbf ..............\n",
      "[CV] C=1, class_weight=balanced, gamma=0.01, kernel=rbf ..............\n",
      "[CV]  C=1, class_weight=balanced, gamma=0.1, kernel=rbf, total=  41.7s\n",
      "[CV]  C=1, class_weight=balanced, gamma=0.1, kernel=rbf, total=  41.6s\n",
      "[CV] C=1, class_weight=balanced, gamma=0.01, kernel=rbf ..............\n",
      "[CV] C=1, class_weight=balanced, gamma=0.01, kernel=rbf ..............\n",
      "[CV]  C=1, class_weight=balanced, gamma=0.01, kernel=rbf, total=  39.1s\n",
      "[CV] C=1, class_weight=balanced, gamma=0.003, kernel=rbf .............\n",
      "[CV]  C=1, class_weight=balanced, gamma=0.01, kernel=rbf, total=  39.1s\n",
      "[CV] C=1, class_weight=balanced, gamma=0.003, kernel=rbf .............\n",
      "[CV]  C=1, class_weight=balanced, gamma=0.01, kernel=rbf, total=  39.1s\n",
      "[CV] C=1, class_weight=balanced, gamma=0.003, kernel=rbf .............\n",
      "[CV]  C=1, class_weight=balanced, gamma=0.01, kernel=rbf, total=  39.1s\n",
      "[CV]  C=1, class_weight=balanced, gamma=0.01, kernel=rbf, total=  39.2s\n",
      "[CV] C=1, class_weight=balanced, gamma=0.003, kernel=rbf .............\n",
      "[CV] C=1, class_weight=balanced, gamma=0.003, kernel=rbf .............\n",
      "[CV]  C=1, class_weight=balanced, gamma=0.003, kernel=rbf, total=  24.0s\n",
      "[CV] C=1, class_weight=balanced, gamma=0.005, kernel=rbf .............\n",
      "[CV]  C=1, class_weight=balanced, gamma=0.003, kernel=rbf, total=  23.7s\n",
      "[CV] C=1, class_weight=balanced, gamma=0.005, kernel=rbf .............\n",
      "[CV]  C=1, class_weight=balanced, gamma=0.003, kernel=rbf, total=  23.9s\n",
      "[CV]  C=1, class_weight=balanced, gamma=0.003, kernel=rbf, total=  23.7s\n",
      "[CV] C=1, class_weight=balanced, gamma=0.005, kernel=rbf .............\n",
      "[CV] C=1, class_weight=balanced, gamma=0.005, kernel=rbf .............\n",
      "[CV]  C=1, class_weight=balanced, gamma=0.003, kernel=rbf, total=  23.9s\n",
      "[CV] C=1, class_weight=balanced, gamma=0.005, kernel=rbf .............\n",
      "[CV]  C=1, class_weight=balanced, gamma=0.005, kernel=rbf, total=  27.7s\n",
      "[CV] C=30, class_weight=balanced, gamma=0.1, kernel=rbf ..............\n",
      "[CV]  C=1, class_weight=balanced, gamma=0.005, kernel=rbf, total=  27.8s\n",
      "[CV] C=30, class_weight=balanced, gamma=0.1, kernel=rbf ..............\n",
      "[CV]  C=1, class_weight=balanced, gamma=0.005, kernel=rbf, total=  27.7s\n",
      "[CV] C=30, class_weight=balanced, gamma=0.1, kernel=rbf ..............\n",
      "[CV]  C=1, class_weight=balanced, gamma=0.005, kernel=rbf, total=  27.7s\n",
      "[CV] C=30, class_weight=balanced, gamma=0.1, kernel=rbf ..............\n",
      "[CV]  C=1, class_weight=balanced, gamma=0.005, kernel=rbf, total=  28.0s\n",
      "[CV] C=30, class_weight=balanced, gamma=0.1, kernel=rbf ..............\n",
      "[CV]  C=30, class_weight=balanced, gamma=0.1, kernel=rbf, total=  43.3s\n",
      "[CV]  C=30, class_weight=balanced, gamma=0.1, kernel=rbf, total=  43.2s\n",
      "[CV] C=30, class_weight=balanced, gamma=0.01, kernel=rbf .............\n",
      "[CV] C=30, class_weight=balanced, gamma=0.01, kernel=rbf .............\n",
      "[CV]  C=30, class_weight=balanced, gamma=0.1, kernel=rbf, total=  43.0s\n",
      "[CV] C=30, class_weight=balanced, gamma=0.01, kernel=rbf .............\n",
      "[CV]  C=30, class_weight=balanced, gamma=0.1, kernel=rbf, total=  43.0s\n",
      "[CV] C=30, class_weight=balanced, gamma=0.01, kernel=rbf .............\n",
      "[CV]  C=30, class_weight=balanced, gamma=0.1, kernel=rbf, total=  42.9s\n",
      "[CV] C=30, class_weight=balanced, gamma=0.01, kernel=rbf .............\n",
      "[CV]  C=30, class_weight=balanced, gamma=0.01, kernel=rbf, total=  49.1s\n",
      "[CV]  C=30, class_weight=balanced, gamma=0.01, kernel=rbf, total=  49.1s\n",
      "[CV] C=30, class_weight=balanced, gamma=0.003, kernel=rbf ............\n",
      "[CV] C=30, class_weight=balanced, gamma=0.003, kernel=rbf ............\n",
      "[CV]  C=30, class_weight=balanced, gamma=0.01, kernel=rbf, total=  49.1s\n",
      "[CV] C=30, class_weight=balanced, gamma=0.003, kernel=rbf ............\n",
      "[CV]  C=30, class_weight=balanced, gamma=0.01, kernel=rbf, total=  48.9s\n",
      "[CV] C=30, class_weight=balanced, gamma=0.003, kernel=rbf ............\n",
      "[CV]  C=30, class_weight=balanced, gamma=0.01, kernel=rbf, total=  48.9s\n",
      "[CV] C=30, class_weight=balanced, gamma=0.003, kernel=rbf ............\n",
      "[CV]  C=30, class_weight=balanced, gamma=0.003, kernel=rbf, total=  40.1s\n",
      "[CV]  C=30, class_weight=balanced, gamma=0.003, kernel=rbf, total=  40.2s\n",
      "[CV] C=30, class_weight=balanced, gamma=0.005, kernel=rbf ............\n",
      "[CV] C=30, class_weight=balanced, gamma=0.005, kernel=rbf ............\n"
     ]
    },
    {
     "name": "stderr",
     "output_type": "stream",
     "text": [
      "[Parallel(n_jobs=5)]: Done  31 tasks      | elapsed:  7.3min\n"
     ]
    },
    {
     "name": "stdout",
     "output_type": "stream",
     "text": [
      "[CV]  C=30, class_weight=balanced, gamma=0.003, kernel=rbf, total=  39.6s\n",
      "[CV] C=30, class_weight=balanced, gamma=0.005, kernel=rbf ............\n",
      "[CV]  C=30, class_weight=balanced, gamma=0.003, kernel=rbf, total=  40.1s\n",
      "[CV] C=30, class_weight=balanced, gamma=0.005, kernel=rbf ............\n",
      "[CV]  C=30, class_weight=balanced, gamma=0.003, kernel=rbf, total=  39.7s\n",
      "[CV] C=30, class_weight=balanced, gamma=0.005, kernel=rbf ............\n",
      "[CV]  C=30, class_weight=balanced, gamma=0.005, kernel=rbf, total=  35.4s\n",
      "[CV] C=60, class_weight=balanced, gamma=0.1, kernel=rbf ..............\n",
      "[CV]  C=30, class_weight=balanced, gamma=0.005, kernel=rbf, total=  35.4s\n",
      "[CV] C=60, class_weight=balanced, gamma=0.1, kernel=rbf ..............\n",
      "[CV]  C=30, class_weight=balanced, gamma=0.005, kernel=rbf, total=  35.0s\n",
      "[CV] C=60, class_weight=balanced, gamma=0.1, kernel=rbf ..............\n",
      "[CV]  C=30, class_weight=balanced, gamma=0.005, kernel=rbf, total=  35.4s\n",
      "[CV] C=60, class_weight=balanced, gamma=0.1, kernel=rbf ..............\n",
      "[CV]  C=30, class_weight=balanced, gamma=0.005, kernel=rbf, total=  35.0s\n",
      "[CV] C=60, class_weight=balanced, gamma=0.1, kernel=rbf ..............\n",
      "[CV]  C=60, class_weight=balanced, gamma=0.1, kernel=rbf, total=  44.8s\n",
      "[CV] C=60, class_weight=balanced, gamma=0.01, kernel=rbf .............\n",
      "[CV]  C=60, class_weight=balanced, gamma=0.1, kernel=rbf, total=  45.0s\n",
      "[CV] C=60, class_weight=balanced, gamma=0.01, kernel=rbf .............\n",
      "[CV]  C=60, class_weight=balanced, gamma=0.1, kernel=rbf, total=  44.7s\n",
      "[CV] C=60, class_weight=balanced, gamma=0.01, kernel=rbf .............\n",
      "[CV]  C=60, class_weight=balanced, gamma=0.1, kernel=rbf, total=  44.7s\n",
      "[CV] C=60, class_weight=balanced, gamma=0.01, kernel=rbf .............\n",
      "[CV]  C=60, class_weight=balanced, gamma=0.1, kernel=rbf, total=  44.6s\n",
      "[CV] C=60, class_weight=balanced, gamma=0.01, kernel=rbf .............\n",
      "[CV]  C=60, class_weight=balanced, gamma=0.01, kernel=rbf, total=  38.7s\n",
      "[CV] C=60, class_weight=balanced, gamma=0.003, kernel=rbf ............\n",
      "[CV]  C=60, class_weight=balanced, gamma=0.01, kernel=rbf, total=  38.7s\n",
      "[CV] C=60, class_weight=balanced, gamma=0.003, kernel=rbf ............\n",
      "[CV]  C=60, class_weight=balanced, gamma=0.01, kernel=rbf, total=  38.7s\n",
      "[CV] C=60, class_weight=balanced, gamma=0.003, kernel=rbf ............\n",
      "[CV]  C=60, class_weight=balanced, gamma=0.01, kernel=rbf, total=  38.6s\n",
      "[CV] C=60, class_weight=balanced, gamma=0.003, kernel=rbf ............\n",
      "[CV]  C=60, class_weight=balanced, gamma=0.01, kernel=rbf, total=  38.6s\n",
      "[CV] C=60, class_weight=balanced, gamma=0.003, kernel=rbf ............\n",
      "[CV]  C=60, class_weight=balanced, gamma=0.003, kernel=rbf, total=  34.1s\n",
      "[CV] C=60, class_weight=balanced, gamma=0.005, kernel=rbf ............\n",
      "[CV]  C=60, class_weight=balanced, gamma=0.003, kernel=rbf, total=  34.0s\n",
      "[CV] C=60, class_weight=balanced, gamma=0.005, kernel=rbf ............\n",
      "[CV]  C=60, class_weight=balanced, gamma=0.003, kernel=rbf, total=  34.2s\n",
      "[CV] C=60, class_weight=balanced, gamma=0.005, kernel=rbf ............\n",
      "[CV]  C=60, class_weight=balanced, gamma=0.003, kernel=rbf, total=  33.9s\n",
      "[CV] C=60, class_weight=balanced, gamma=0.005, kernel=rbf ............\n",
      "[CV]  C=60, class_weight=balanced, gamma=0.003, kernel=rbf, total=  33.8s\n",
      "[CV] C=60, class_weight=balanced, gamma=0.005, kernel=rbf ............\n",
      "[CV]  C=60, class_weight=balanced, gamma=0.005, kernel=rbf, total=  37.7s\n",
      "[CV] C=100, class_weight=balanced, gamma=0.1, kernel=rbf .............\n",
      "[CV]  C=60, class_weight=balanced, gamma=0.005, kernel=rbf, total=  37.6s\n",
      "[CV] C=100, class_weight=balanced, gamma=0.1, kernel=rbf .............\n",
      "[CV]  C=60, class_weight=balanced, gamma=0.005, kernel=rbf, total=  37.3s\n",
      "[CV] C=100, class_weight=balanced, gamma=0.1, kernel=rbf .............\n",
      "[CV]  C=60, class_weight=balanced, gamma=0.005, kernel=rbf, total=  37.6s\n",
      "[CV] C=100, class_weight=balanced, gamma=0.1, kernel=rbf .............\n",
      "[CV]  C=60, class_weight=balanced, gamma=0.005, kernel=rbf, total=  37.2s\n",
      "[CV] C=100, class_weight=balanced, gamma=0.1, kernel=rbf .............\n",
      "[CV]  C=100, class_weight=balanced, gamma=0.1, kernel=rbf, total=  41.6s\n",
      "[CV] C=100, class_weight=balanced, gamma=0.01, kernel=rbf ............\n",
      "[CV]  C=100, class_weight=balanced, gamma=0.1, kernel=rbf, total=  41.4s\n",
      "[CV] C=100, class_weight=balanced, gamma=0.01, kernel=rbf ............\n",
      "[CV]  C=100, class_weight=balanced, gamma=0.1, kernel=rbf, total=  41.4s\n",
      "[CV] C=100, class_weight=balanced, gamma=0.01, kernel=rbf ............\n",
      "[CV]  C=100, class_weight=balanced, gamma=0.1, kernel=rbf, total=  41.3s\n",
      "[CV] C=100, class_weight=balanced, gamma=0.01, kernel=rbf ............\n",
      "[CV]  C=100, class_weight=balanced, gamma=0.1, kernel=rbf, total=  41.2s\n",
      "[CV] C=100, class_weight=balanced, gamma=0.01, kernel=rbf ............\n",
      "[CV]  C=100, class_weight=balanced, gamma=0.01, kernel=rbf, total=  45.3s\n",
      "[CV] C=100, class_weight=balanced, gamma=0.003, kernel=rbf ...........\n",
      "[CV]  C=100, class_weight=balanced, gamma=0.01, kernel=rbf, total=  45.3s\n",
      "[CV] C=100, class_weight=balanced, gamma=0.003, kernel=rbf ...........\n",
      "[CV]  C=100, class_weight=balanced, gamma=0.01, kernel=rbf, total=  45.2s\n",
      "[CV] C=100, class_weight=balanced, gamma=0.003, kernel=rbf ...........\n",
      "[CV]  C=100, class_weight=balanced, gamma=0.01, kernel=rbf, total=  45.0s\n",
      "[CV] C=100, class_weight=balanced, gamma=0.003, kernel=rbf ...........\n",
      "[CV]  C=100, class_weight=balanced, gamma=0.01, kernel=rbf, total=  44.9s\n",
      "[CV] C=100, class_weight=balanced, gamma=0.003, kernel=rbf ...........\n",
      "[CV]  C=100, class_weight=balanced, gamma=0.003, kernel=rbf, total=  44.8s\n",
      "[CV]  C=100, class_weight=balanced, gamma=0.003, kernel=rbf, total=  44.6s\n",
      "[CV] C=100, class_weight=balanced, gamma=0.005, kernel=rbf ...........\n",
      "[CV] C=100, class_weight=balanced, gamma=0.005, kernel=rbf ...........\n",
      "[CV]  C=100, class_weight=balanced, gamma=0.003, kernel=rbf, total=  44.7s\n",
      "[CV] C=100, class_weight=balanced, gamma=0.005, kernel=rbf ...........\n",
      "[CV]  C=100, class_weight=balanced, gamma=0.003, kernel=rbf, total=  44.2s\n",
      "[CV] C=100, class_weight=balanced, gamma=0.005, kernel=rbf ...........\n",
      "[CV]  C=100, class_weight=balanced, gamma=0.003, kernel=rbf, total=  44.6s\n",
      "[CV] C=100, class_weight=balanced, gamma=0.005, kernel=rbf ...........\n",
      "[CV]  C=100, class_weight=balanced, gamma=0.005, kernel=rbf, total=  53.6s\n",
      "[CV]  C=100, class_weight=balanced, gamma=0.005, kernel=rbf, total=  53.7s\n",
      "[CV]  C=100, class_weight=balanced, gamma=0.005, kernel=rbf, total=  53.5s\n",
      "[CV]  C=100, class_weight=balanced, gamma=0.005, kernel=rbf, total=  53.9s\n",
      "[CV]  C=100, class_weight=balanced, gamma=0.005, kernel=rbf, total=  53.7s\n"
     ]
    },
    {
     "name": "stderr",
     "output_type": "stream",
     "text": [
      "[Parallel(n_jobs=5)]: Done  80 out of  80 | elapsed: 17.3min finished\n"
     ]
    }
   ],
   "source": [
    "model_A = GridSearchCV(svm_model,param_grid=parameters, n_jobs=5,\n",
    "                       cv=StratifiedKFold(ay_train, n_folds=5,shuffle=True),\n",
    "                       scoring='roc_auc',\n",
    "                       verbose=2).fit(trans_atrain, ay_train)"
   ]
  },
  {
   "cell_type": "code",
   "execution_count": 79,
   "metadata": {},
   "outputs": [
    {
     "name": "stdout",
     "output_type": "stream",
     "text": [
      "Fitting 5 folds for each of 16 candidates, totalling 80 fits\n",
      "[CV] C=1, class_weight=balanced, gamma=0.1, kernel=rbf ...............\n",
      "[CV] C=1, class_weight=balanced, gamma=0.1, kernel=rbf ...............\n",
      "[CV] C=1, class_weight=balanced, gamma=0.1, kernel=rbf ...............\n",
      "[CV] C=1, class_weight=balanced, gamma=0.1, kernel=rbf ...............\n",
      "[CV] C=1, class_weight=balanced, gamma=0.1, kernel=rbf ...............\n",
      "[CV]  C=1, class_weight=balanced, gamma=0.1, kernel=rbf, total=  10.9s\n",
      "[CV] C=1, class_weight=balanced, gamma=0.01, kernel=rbf ..............\n",
      "[CV]  C=1, class_weight=balanced, gamma=0.1, kernel=rbf, total=  11.0s\n",
      "[CV] C=1, class_weight=balanced, gamma=0.01, kernel=rbf ..............\n",
      "[CV]  C=1, class_weight=balanced, gamma=0.1, kernel=rbf, total=  11.1s\n",
      "[CV] C=1, class_weight=balanced, gamma=0.01, kernel=rbf ..............\n",
      "[CV]  C=1, class_weight=balanced, gamma=0.1, kernel=rbf, total=  11.1s\n",
      "[CV] C=1, class_weight=balanced, gamma=0.01, kernel=rbf ..............\n",
      "[CV]  C=1, class_weight=balanced, gamma=0.1, kernel=rbf, total=  11.3s\n",
      "[CV] C=1, class_weight=balanced, gamma=0.01, kernel=rbf ..............\n",
      "[CV]  C=1, class_weight=balanced, gamma=0.01, kernel=rbf, total=  12.3s\n",
      "[CV] C=1, class_weight=balanced, gamma=0.003, kernel=rbf .............\n",
      "[CV]  C=1, class_weight=balanced, gamma=0.01, kernel=rbf, total=  12.3s\n",
      "[CV] C=1, class_weight=balanced, gamma=0.003, kernel=rbf .............\n",
      "[CV]  C=1, class_weight=balanced, gamma=0.01, kernel=rbf, total=  12.2s\n",
      "[CV] C=1, class_weight=balanced, gamma=0.003, kernel=rbf .............\n",
      "[CV]  C=1, class_weight=balanced, gamma=0.01, kernel=rbf, total=  12.1s\n",
      "[CV] C=1, class_weight=balanced, gamma=0.003, kernel=rbf .............\n",
      "[CV]  C=1, class_weight=balanced, gamma=0.01, kernel=rbf, total=  12.1s\n",
      "[CV] C=1, class_weight=balanced, gamma=0.003, kernel=rbf .............\n",
      "[CV]  C=1, class_weight=balanced, gamma=0.003, kernel=rbf, total=   9.6s\n",
      "[CV] C=1, class_weight=balanced, gamma=0.005, kernel=rbf .............\n",
      "[CV]  C=1, class_weight=balanced, gamma=0.003, kernel=rbf, total=  10.1s\n",
      "[CV] C=1, class_weight=balanced, gamma=0.005, kernel=rbf .............\n",
      "[CV]  C=1, class_weight=balanced, gamma=0.003, kernel=rbf, total=   9.8s\n",
      "[CV]  C=1, class_weight=balanced, gamma=0.003, kernel=rbf, total=   9.6s\n",
      "[CV] C=1, class_weight=balanced, gamma=0.005, kernel=rbf .............\n",
      "[CV] C=1, class_weight=balanced, gamma=0.005, kernel=rbf .............\n",
      "[CV]  C=1, class_weight=balanced, gamma=0.003, kernel=rbf, total=   9.7s\n",
      "[CV] C=1, class_weight=balanced, gamma=0.005, kernel=rbf .............\n",
      "[CV]  C=1, class_weight=balanced, gamma=0.005, kernel=rbf, total=  12.9s\n",
      "[CV] C=30, class_weight=balanced, gamma=0.1, kernel=rbf ..............\n",
      "[CV]  C=1, class_weight=balanced, gamma=0.005, kernel=rbf, total=  12.9s\n",
      "[CV] C=30, class_weight=balanced, gamma=0.1, kernel=rbf ..............\n",
      "[CV]  C=1, class_weight=balanced, gamma=0.005, kernel=rbf, total=  12.8s\n",
      "[CV] C=30, class_weight=balanced, gamma=0.1, kernel=rbf ..............\n",
      "[CV]  C=1, class_weight=balanced, gamma=0.005, kernel=rbf, total=  12.7s\n",
      "[CV] C=30, class_weight=balanced, gamma=0.1, kernel=rbf ..............\n",
      "[CV]  C=1, class_weight=balanced, gamma=0.005, kernel=rbf, total=  12.7s\n",
      "[CV] C=30, class_weight=balanced, gamma=0.1, kernel=rbf ..............\n",
      "[CV]  C=30, class_weight=balanced, gamma=0.1, kernel=rbf, total=   7.6s\n",
      "[CV] C=30, class_weight=balanced, gamma=0.01, kernel=rbf .............\n",
      "[CV]  C=30, class_weight=balanced, gamma=0.1, kernel=rbf, total=   7.5s\n",
      "[CV] C=30, class_weight=balanced, gamma=0.01, kernel=rbf .............\n",
      "[CV]  C=30, class_weight=balanced, gamma=0.1, kernel=rbf, total=   7.4s\n",
      "[CV] C=30, class_weight=balanced, gamma=0.01, kernel=rbf .............\n",
      "[CV]  C=30, class_weight=balanced, gamma=0.1, kernel=rbf, total=   7.3s\n",
      "[CV] C=30, class_weight=balanced, gamma=0.01, kernel=rbf .............\n",
      "[CV]  C=30, class_weight=balanced, gamma=0.1, kernel=rbf, total=   7.2s\n",
      "[CV] C=30, class_weight=balanced, gamma=0.01, kernel=rbf .............\n",
      "[CV]  C=30, class_weight=balanced, gamma=0.01, kernel=rbf, total=   7.4s\n",
      "[CV] C=30, class_weight=balanced, gamma=0.003, kernel=rbf ............\n",
      "[CV]  C=30, class_weight=balanced, gamma=0.01, kernel=rbf, total=   7.3s\n",
      "[CV] C=30, class_weight=balanced, gamma=0.003, kernel=rbf ............\n",
      "[CV]  C=30, class_weight=balanced, gamma=0.01, kernel=rbf, total=   7.3s\n",
      "[CV]  C=30, class_weight=balanced, gamma=0.01, kernel=rbf, total=   7.2s\n",
      "[CV] C=30, class_weight=balanced, gamma=0.003, kernel=rbf ............\n",
      "[CV] C=30, class_weight=balanced, gamma=0.003, kernel=rbf ............\n",
      "[CV]  C=30, class_weight=balanced, gamma=0.01, kernel=rbf, total=   7.2s\n",
      "[CV] C=30, class_weight=balanced, gamma=0.003, kernel=rbf ............\n",
      "[CV]  C=30, class_weight=balanced, gamma=0.003, kernel=rbf, total=   6.7s\n",
      "[CV] C=30, class_weight=balanced, gamma=0.005, kernel=rbf ............\n",
      "[CV]  C=30, class_weight=balanced, gamma=0.003, kernel=rbf, total=   6.4s\n",
      "[CV] C=30, class_weight=balanced, gamma=0.005, kernel=rbf ............\n"
     ]
    },
    {
     "name": "stderr",
     "output_type": "stream",
     "text": [
      "[Parallel(n_jobs=5)]: Done  31 tasks      | elapsed:  1.8min\n"
     ]
    },
    {
     "name": "stdout",
     "output_type": "stream",
     "text": [
      "[CV]  C=30, class_weight=balanced, gamma=0.003, kernel=rbf, total=   6.5s\n",
      "[CV] C=30, class_weight=balanced, gamma=0.005, kernel=rbf ............\n",
      "[CV]  C=30, class_weight=balanced, gamma=0.003, kernel=rbf, total=   6.4s\n",
      "[CV] C=30, class_weight=balanced, gamma=0.005, kernel=rbf ............\n",
      "[CV]  C=30, class_weight=balanced, gamma=0.003, kernel=rbf, total=   6.5s\n",
      "[CV] C=30, class_weight=balanced, gamma=0.005, kernel=rbf ............\n",
      "[CV]  C=30, class_weight=balanced, gamma=0.005, kernel=rbf, total=   7.6s\n",
      "[CV] C=60, class_weight=balanced, gamma=0.1, kernel=rbf ..............\n",
      "[CV]  C=30, class_weight=balanced, gamma=0.005, kernel=rbf, total=   7.5s\n",
      "[CV] C=60, class_weight=balanced, gamma=0.1, kernel=rbf ..............\n",
      "[CV]  C=30, class_weight=balanced, gamma=0.005, kernel=rbf, total=   7.3s\n",
      "[CV] C=60, class_weight=balanced, gamma=0.1, kernel=rbf ..............\n",
      "[CV]  C=30, class_weight=balanced, gamma=0.005, kernel=rbf, total=   7.3s\n",
      "[CV]  C=30, class_weight=balanced, gamma=0.005, kernel=rbf, total=   7.2s\n",
      "[CV] C=60, class_weight=balanced, gamma=0.1, kernel=rbf ..............\n",
      "[CV] C=60, class_weight=balanced, gamma=0.1, kernel=rbf ..............\n",
      "[CV]  C=60, class_weight=balanced, gamma=0.1, kernel=rbf, total=   8.1s\n",
      "[CV] C=60, class_weight=balanced, gamma=0.01, kernel=rbf .............\n",
      "[CV]  C=60, class_weight=balanced, gamma=0.1, kernel=rbf, total=   8.1s\n",
      "[CV] C=60, class_weight=balanced, gamma=0.01, kernel=rbf .............\n",
      "[CV]  C=60, class_weight=balanced, gamma=0.1, kernel=rbf, total=   8.0s\n",
      "[CV] C=60, class_weight=balanced, gamma=0.01, kernel=rbf .............\n",
      "[CV]  C=60, class_weight=balanced, gamma=0.1, kernel=rbf, total=   7.9s\n",
      "[CV] C=60, class_weight=balanced, gamma=0.01, kernel=rbf .............\n",
      "[CV]  C=60, class_weight=balanced, gamma=0.1, kernel=rbf, total=   7.9s\n",
      "[CV] C=60, class_weight=balanced, gamma=0.01, kernel=rbf .............\n",
      "[CV]  C=60, class_weight=balanced, gamma=0.01, kernel=rbf, total=   7.4s\n",
      "[CV] C=60, class_weight=balanced, gamma=0.003, kernel=rbf ............\n",
      "[CV]  C=60, class_weight=balanced, gamma=0.01, kernel=rbf, total=   7.4s\n",
      "[CV] C=60, class_weight=balanced, gamma=0.003, kernel=rbf ............\n",
      "[CV]  C=60, class_weight=balanced, gamma=0.01, kernel=rbf, total=   7.2s\n",
      "[CV] C=60, class_weight=balanced, gamma=0.003, kernel=rbf ............\n",
      "[CV]  C=60, class_weight=balanced, gamma=0.01, kernel=rbf, total=   7.1s\n",
      "[CV] C=60, class_weight=balanced, gamma=0.003, kernel=rbf ............\n",
      "[CV]  C=60, class_weight=balanced, gamma=0.01, kernel=rbf, total=   7.1s\n",
      "[CV] C=60, class_weight=balanced, gamma=0.003, kernel=rbf ............\n",
      "[CV]  C=60, class_weight=balanced, gamma=0.003, kernel=rbf, total=  11.2s\n",
      "[CV] C=60, class_weight=balanced, gamma=0.005, kernel=rbf ............\n",
      "[CV]  C=60, class_weight=balanced, gamma=0.003, kernel=rbf, total=  11.4s\n",
      "[CV] C=60, class_weight=balanced, gamma=0.005, kernel=rbf ............\n",
      "[CV]  C=60, class_weight=balanced, gamma=0.003, kernel=rbf, total=  11.7s\n",
      "[CV] C=60, class_weight=balanced, gamma=0.005, kernel=rbf ............\n",
      "[CV]  C=60, class_weight=balanced, gamma=0.003, kernel=rbf, total=  11.7s\n",
      "[CV] C=60, class_weight=balanced, gamma=0.005, kernel=rbf ............\n",
      "[CV]  C=60, class_weight=balanced, gamma=0.003, kernel=rbf, total=  11.7s\n",
      "[CV] C=60, class_weight=balanced, gamma=0.005, kernel=rbf ............\n",
      "[CV]  C=60, class_weight=balanced, gamma=0.005, kernel=rbf, total=  13.3s\n",
      "[CV] C=100, class_weight=balanced, gamma=0.1, kernel=rbf .............\n",
      "[CV]  C=60, class_weight=balanced, gamma=0.005, kernel=rbf, total=  13.2s\n",
      "[CV] C=100, class_weight=balanced, gamma=0.1, kernel=rbf .............\n",
      "[CV]  C=60, class_weight=balanced, gamma=0.005, kernel=rbf, total=  13.4s\n",
      "[CV] C=100, class_weight=balanced, gamma=0.1, kernel=rbf .............\n",
      "[CV]  C=60, class_weight=balanced, gamma=0.005, kernel=rbf, total=  13.3s\n",
      "[CV] C=100, class_weight=balanced, gamma=0.1, kernel=rbf .............\n",
      "[CV]  C=60, class_weight=balanced, gamma=0.005, kernel=rbf, total=  13.3s\n",
      "[CV] C=100, class_weight=balanced, gamma=0.1, kernel=rbf .............\n",
      "[CV]  C=100, class_weight=balanced, gamma=0.1, kernel=rbf, total=  14.3s\n",
      "[CV] C=100, class_weight=balanced, gamma=0.01, kernel=rbf ............\n",
      "[CV]  C=100, class_weight=balanced, gamma=0.1, kernel=rbf, total=  14.3s\n",
      "[CV] C=100, class_weight=balanced, gamma=0.01, kernel=rbf ............\n",
      "[CV]  C=100, class_weight=balanced, gamma=0.1, kernel=rbf, total=  14.6s\n",
      "[CV] C=100, class_weight=balanced, gamma=0.01, kernel=rbf ............\n",
      "[CV]  C=100, class_weight=balanced, gamma=0.1, kernel=rbf, total=  14.5s\n",
      "[CV] C=100, class_weight=balanced, gamma=0.01, kernel=rbf ............\n",
      "[CV]  C=100, class_weight=balanced, gamma=0.1, kernel=rbf, total=  14.5s\n",
      "[CV] C=100, class_weight=balanced, gamma=0.01, kernel=rbf ............\n",
      "[CV]  C=100, class_weight=balanced, gamma=0.01, kernel=rbf, total=  12.4s\n",
      "[CV] C=100, class_weight=balanced, gamma=0.003, kernel=rbf ...........\n",
      "[CV]  C=100, class_weight=balanced, gamma=0.01, kernel=rbf, total=  12.6s\n",
      "[CV] C=100, class_weight=balanced, gamma=0.003, kernel=rbf ...........\n",
      "[CV]  C=100, class_weight=balanced, gamma=0.01, kernel=rbf, total=  12.0s\n",
      "[CV] C=100, class_weight=balanced, gamma=0.003, kernel=rbf ...........\n",
      "[CV]  C=100, class_weight=balanced, gamma=0.01, kernel=rbf, total=  11.9s\n",
      "[CV] C=100, class_weight=balanced, gamma=0.003, kernel=rbf ...........\n",
      "[CV]  C=100, class_weight=balanced, gamma=0.01, kernel=rbf, total=  11.8s\n",
      "[CV] C=100, class_weight=balanced, gamma=0.003, kernel=rbf ...........\n",
      "[CV]  C=100, class_weight=balanced, gamma=0.003, kernel=rbf, total=  10.7s\n",
      "[CV]  C=100, class_weight=balanced, gamma=0.003, kernel=rbf, total=  10.6s\n",
      "[CV] C=100, class_weight=balanced, gamma=0.005, kernel=rbf ...........\n",
      "[CV] C=100, class_weight=balanced, gamma=0.005, kernel=rbf ...........\n",
      "[CV]  C=100, class_weight=balanced, gamma=0.003, kernel=rbf, total=  11.1s\n",
      "[CV] C=100, class_weight=balanced, gamma=0.005, kernel=rbf ...........\n",
      "[CV]  C=100, class_weight=balanced, gamma=0.003, kernel=rbf, total=  11.1s\n",
      "[CV] C=100, class_weight=balanced, gamma=0.005, kernel=rbf ...........\n",
      "[CV]  C=100, class_weight=balanced, gamma=0.003, kernel=rbf, total=  11.3s\n",
      "[CV] C=100, class_weight=balanced, gamma=0.005, kernel=rbf ...........\n",
      "[CV]  C=100, class_weight=balanced, gamma=0.005, kernel=rbf, total=   7.5s\n",
      "[CV]  C=100, class_weight=balanced, gamma=0.005, kernel=rbf, total=   7.5s\n",
      "[CV]  C=100, class_weight=balanced, gamma=0.005, kernel=rbf, total=   7.5s\n",
      "[CV]  C=100, class_weight=balanced, gamma=0.005, kernel=rbf, total=   7.5s\n",
      "[CV]  C=100, class_weight=balanced, gamma=0.005, kernel=rbf, total=   7.5s\n"
     ]
    },
    {
     "name": "stderr",
     "output_type": "stream",
     "text": [
      "[Parallel(n_jobs=5)]: Done  80 out of  80 | elapsed:  4.4min finished\n"
     ]
    }
   ],
   "source": [
    "model_B = GridSearchCV(svm_model,param_grid=parameters, n_jobs=5,\n",
    "                       cv=StratifiedKFold(by_train, n_folds=5,shuffle=True),\n",
    "                       scoring='roc_auc',\n",
    "                       verbose=2,\n",
    "                       refit=True).fit(trans_btrain, by_train)"
   ]
  },
  {
   "cell_type": "code",
   "execution_count": 81,
   "metadata": {},
   "outputs": [
    {
     "name": "stdout",
     "output_type": "stream",
     "text": [
      "Fitting 5 folds for each of 16 candidates, totalling 80 fits\n",
      "[CV] C=1, class_weight=balanced, gamma=0.1, kernel=rbf ...............\n",
      "[CV] C=1, class_weight=balanced, gamma=0.1, kernel=rbf ...............\n",
      "[CV] C=1, class_weight=balanced, gamma=0.1, kernel=rbf ...............\n",
      "[CV] C=1, class_weight=balanced, gamma=0.1, kernel=rbf ...............\n",
      "[CV] C=1, class_weight=balanced, gamma=0.1, kernel=rbf ...............\n",
      "[CV]  C=1, class_weight=balanced, gamma=0.1, kernel=rbf, total=  19.0s\n",
      "[CV]  C=1, class_weight=balanced, gamma=0.1, kernel=rbf, total=  19.0s\n",
      "[CV] C=1, class_weight=balanced, gamma=0.01, kernel=rbf ..............\n",
      "[CV] C=1, class_weight=balanced, gamma=0.01, kernel=rbf ..............\n",
      "[CV]  C=1, class_weight=balanced, gamma=0.1, kernel=rbf, total=  19.3s\n",
      "[CV] C=1, class_weight=balanced, gamma=0.01, kernel=rbf ..............\n",
      "[CV]  C=1, class_weight=balanced, gamma=0.1, kernel=rbf, total=  19.2s\n",
      "[CV]  C=1, class_weight=balanced, gamma=0.1, kernel=rbf, total=  19.3s\n",
      "[CV] C=1, class_weight=balanced, gamma=0.01, kernel=rbf ..............\n",
      "[CV] C=1, class_weight=balanced, gamma=0.01, kernel=rbf ..............\n",
      "[CV]  C=1, class_weight=balanced, gamma=0.01, kernel=rbf, total=   9.0s\n",
      "[CV]  C=1, class_weight=balanced, gamma=0.01, kernel=rbf, total=   9.3s\n",
      "[CV] C=1, class_weight=balanced, gamma=0.003, kernel=rbf .............\n",
      "[CV] C=1, class_weight=balanced, gamma=0.003, kernel=rbf .............\n",
      "[CV]  C=1, class_weight=balanced, gamma=0.01, kernel=rbf, total=   9.3s\n",
      "[CV] C=1, class_weight=balanced, gamma=0.003, kernel=rbf .............\n",
      "[CV]  C=1, class_weight=balanced, gamma=0.01, kernel=rbf, total=   9.1s\n",
      "[CV]  C=1, class_weight=balanced, gamma=0.01, kernel=rbf, total=   9.2s\n",
      "[CV] C=1, class_weight=balanced, gamma=0.003, kernel=rbf .............\n",
      "[CV] C=1, class_weight=balanced, gamma=0.003, kernel=rbf .............\n",
      "[CV]  C=1, class_weight=balanced, gamma=0.003, kernel=rbf, total=   6.8s\n",
      "[CV] C=1, class_weight=balanced, gamma=0.005, kernel=rbf .............\n",
      "[CV]  C=1, class_weight=balanced, gamma=0.003, kernel=rbf, total=   6.8s\n",
      "[CV] C=1, class_weight=balanced, gamma=0.005, kernel=rbf .............\n",
      "[CV]  C=1, class_weight=balanced, gamma=0.003, kernel=rbf, total=   6.6s\n",
      "[CV] C=1, class_weight=balanced, gamma=0.005, kernel=rbf .............\n",
      "[CV]  C=1, class_weight=balanced, gamma=0.003, kernel=rbf, total=   6.8s\n",
      "[CV] C=1, class_weight=balanced, gamma=0.005, kernel=rbf .............\n",
      "[CV]  C=1, class_weight=balanced, gamma=0.003, kernel=rbf, total=   6.8s\n",
      "[CV] C=1, class_weight=balanced, gamma=0.005, kernel=rbf .............\n",
      "[CV]  C=1, class_weight=balanced, gamma=0.005, kernel=rbf, total=   6.9s\n",
      "[CV] C=30, class_weight=balanced, gamma=0.1, kernel=rbf ..............\n",
      "[CV]  C=1, class_weight=balanced, gamma=0.005, kernel=rbf, total=   6.9s\n",
      "[CV] C=30, class_weight=balanced, gamma=0.1, kernel=rbf ..............\n",
      "[CV]  C=1, class_weight=balanced, gamma=0.005, kernel=rbf, total=   6.7s\n",
      "[CV] C=30, class_weight=balanced, gamma=0.1, kernel=rbf ..............\n",
      "[CV]  C=1, class_weight=balanced, gamma=0.005, kernel=rbf, total=   6.9s\n",
      "[CV] C=30, class_weight=balanced, gamma=0.1, kernel=rbf ..............\n",
      "[CV]  C=1, class_weight=balanced, gamma=0.005, kernel=rbf, total=   6.6s\n",
      "[CV] C=30, class_weight=balanced, gamma=0.1, kernel=rbf ..............\n",
      "[CV]  C=30, class_weight=balanced, gamma=0.1, kernel=rbf, total=  14.4s\n",
      "[CV] C=30, class_weight=balanced, gamma=0.01, kernel=rbf .............\n",
      "[CV]  C=30, class_weight=balanced, gamma=0.1, kernel=rbf, total=  14.3s\n",
      "[CV] C=30, class_weight=balanced, gamma=0.01, kernel=rbf .............\n",
      "[CV]  C=30, class_weight=balanced, gamma=0.1, kernel=rbf, total=  14.3s\n",
      "[CV] C=30, class_weight=balanced, gamma=0.01, kernel=rbf .............\n",
      "[CV]  C=30, class_weight=balanced, gamma=0.1, kernel=rbf, total=  14.3s\n",
      "[CV] C=30, class_weight=balanced, gamma=0.01, kernel=rbf .............\n",
      "[CV]  C=30, class_weight=balanced, gamma=0.1, kernel=rbf, total=  14.2s\n",
      "[CV] C=30, class_weight=balanced, gamma=0.01, kernel=rbf .............\n",
      "[CV]  C=30, class_weight=balanced, gamma=0.01, kernel=rbf, total=  10.4s\n",
      "[CV] C=30, class_weight=balanced, gamma=0.003, kernel=rbf ............\n",
      "[CV]  C=30, class_weight=balanced, gamma=0.01, kernel=rbf, total=  10.4s\n",
      "[CV] C=30, class_weight=balanced, gamma=0.003, kernel=rbf ............\n",
      "[CV]  C=30, class_weight=balanced, gamma=0.01, kernel=rbf, total=  10.4s\n",
      "[CV]  C=30, class_weight=balanced, gamma=0.01, kernel=rbf, total=  10.2s\n",
      "[CV] C=30, class_weight=balanced, gamma=0.003, kernel=rbf ............\n",
      "[CV] C=30, class_weight=balanced, gamma=0.003, kernel=rbf ............\n",
      "[CV]  C=30, class_weight=balanced, gamma=0.01, kernel=rbf, total=  10.2s\n",
      "[CV] C=30, class_weight=balanced, gamma=0.003, kernel=rbf ............\n",
      "[CV]  C=30, class_weight=balanced, gamma=0.003, kernel=rbf, total=   6.1s\n",
      "[CV]  C=30, class_weight=balanced, gamma=0.003, kernel=rbf, total=   6.1s\n",
      "[CV] C=30, class_weight=balanced, gamma=0.005, kernel=rbf ............\n",
      "[CV] C=30, class_weight=balanced, gamma=0.005, kernel=rbf ............\n"
     ]
    },
    {
     "name": "stderr",
     "output_type": "stream",
     "text": [
      "[Parallel(n_jobs=5)]: Done  31 tasks      | elapsed:  2.0min\n"
     ]
    },
    {
     "name": "stdout",
     "output_type": "stream",
     "text": [
      "[CV]  C=30, class_weight=balanced, gamma=0.003, kernel=rbf, total=   6.0s\n",
      "[CV] C=30, class_weight=balanced, gamma=0.005, kernel=rbf ............\n",
      "[CV]  C=30, class_weight=balanced, gamma=0.003, kernel=rbf, total=   6.1s\n",
      "[CV] C=30, class_weight=balanced, gamma=0.005, kernel=rbf ............\n",
      "[CV]  C=30, class_weight=balanced, gamma=0.003, kernel=rbf, total=   5.9s\n",
      "[CV] C=30, class_weight=balanced, gamma=0.005, kernel=rbf ............\n",
      "[CV]  C=30, class_weight=balanced, gamma=0.005, kernel=rbf, total=   6.8s\n",
      "[CV] C=60, class_weight=balanced, gamma=0.1, kernel=rbf ..............\n",
      "[CV]  C=30, class_weight=balanced, gamma=0.005, kernel=rbf, total=   6.8s\n",
      "[CV] C=60, class_weight=balanced, gamma=0.1, kernel=rbf ..............\n",
      "[CV]  C=30, class_weight=balanced, gamma=0.005, kernel=rbf, total=   6.5s\n",
      "[CV] C=60, class_weight=balanced, gamma=0.1, kernel=rbf ..............\n",
      "[CV]  C=30, class_weight=balanced, gamma=0.005, kernel=rbf, total=   6.6s\n",
      "[CV] C=60, class_weight=balanced, gamma=0.1, kernel=rbf ..............\n",
      "[CV]  C=30, class_weight=balanced, gamma=0.005, kernel=rbf, total=   6.5s\n",
      "[CV] C=60, class_weight=balanced, gamma=0.1, kernel=rbf ..............\n",
      "[CV]  C=60, class_weight=balanced, gamma=0.1, kernel=rbf, total=  13.7s\n",
      "[CV] C=60, class_weight=balanced, gamma=0.01, kernel=rbf .............\n",
      "[CV]  C=60, class_weight=balanced, gamma=0.1, kernel=rbf, total=  13.6s\n",
      "[CV] C=60, class_weight=balanced, gamma=0.01, kernel=rbf .............\n",
      "[CV]  C=60, class_weight=balanced, gamma=0.1, kernel=rbf, total=  13.5s\n",
      "[CV] C=60, class_weight=balanced, gamma=0.01, kernel=rbf .............\n",
      "[CV]  C=60, class_weight=balanced, gamma=0.1, kernel=rbf, total=  13.5s\n",
      "[CV] C=60, class_weight=balanced, gamma=0.01, kernel=rbf .............\n",
      "[CV]  C=60, class_weight=balanced, gamma=0.1, kernel=rbf, total=  13.4s\n",
      "[CV] C=60, class_weight=balanced, gamma=0.01, kernel=rbf .............\n",
      "[CV]  C=60, class_weight=balanced, gamma=0.01, kernel=rbf, total=  10.7s\n",
      "[CV] C=60, class_weight=balanced, gamma=0.003, kernel=rbf ............\n",
      "[CV]  C=60, class_weight=balanced, gamma=0.01, kernel=rbf, total=  10.7s\n",
      "[CV] C=60, class_weight=balanced, gamma=0.003, kernel=rbf ............\n",
      "[CV]  C=60, class_weight=balanced, gamma=0.01, kernel=rbf, total=  10.7s\n",
      "[CV]  C=60, class_weight=balanced, gamma=0.01, kernel=rbf, total=  10.6s\n",
      "[CV] C=60, class_weight=balanced, gamma=0.003, kernel=rbf ............\n",
      "[CV] C=60, class_weight=balanced, gamma=0.003, kernel=rbf ............\n",
      "[CV]  C=60, class_weight=balanced, gamma=0.01, kernel=rbf, total=  10.5s\n",
      "[CV] C=60, class_weight=balanced, gamma=0.003, kernel=rbf ............\n",
      "[CV]  C=60, class_weight=balanced, gamma=0.003, kernel=rbf, total=   8.2s\n",
      "[CV] C=60, class_weight=balanced, gamma=0.005, kernel=rbf ............\n",
      "[CV]  C=60, class_weight=balanced, gamma=0.003, kernel=rbf, total=   8.1s\n",
      "[CV] C=60, class_weight=balanced, gamma=0.005, kernel=rbf ............\n",
      "[CV]  C=60, class_weight=balanced, gamma=0.003, kernel=rbf, total=   8.2s\n",
      "[CV] C=60, class_weight=balanced, gamma=0.005, kernel=rbf ............\n",
      "[CV]  C=60, class_weight=balanced, gamma=0.003, kernel=rbf, total=   8.3s\n",
      "[CV] C=60, class_weight=balanced, gamma=0.005, kernel=rbf ............\n",
      "[CV]  C=60, class_weight=balanced, gamma=0.003, kernel=rbf, total=   8.3s\n",
      "[CV] C=60, class_weight=balanced, gamma=0.005, kernel=rbf ............\n",
      "[CV]  C=60, class_weight=balanced, gamma=0.005, kernel=rbf, total=   8.1s\n",
      "[CV]  C=60, class_weight=balanced, gamma=0.005, kernel=rbf, total=   7.9s\n",
      "[CV] C=100, class_weight=balanced, gamma=0.1, kernel=rbf .............\n",
      "[CV] C=100, class_weight=balanced, gamma=0.1, kernel=rbf .............\n",
      "[CV]  C=60, class_weight=balanced, gamma=0.005, kernel=rbf, total=   7.6s\n",
      "[CV] C=100, class_weight=balanced, gamma=0.1, kernel=rbf .............\n",
      "[CV]  C=60, class_weight=balanced, gamma=0.005, kernel=rbf, total=   7.7s\n",
      "[CV] C=100, class_weight=balanced, gamma=0.1, kernel=rbf .............\n",
      "[CV]  C=60, class_weight=balanced, gamma=0.005, kernel=rbf, total=   7.6s\n",
      "[CV] C=100, class_weight=balanced, gamma=0.1, kernel=rbf .............\n",
      "[CV]  C=100, class_weight=balanced, gamma=0.1, kernel=rbf, total=  13.6s\n",
      "[CV]  C=100, class_weight=balanced, gamma=0.1, kernel=rbf, total=  13.6s\n",
      "[CV] C=100, class_weight=balanced, gamma=0.01, kernel=rbf ............\n",
      "[CV] C=100, class_weight=balanced, gamma=0.01, kernel=rbf ............\n",
      "[CV]  C=100, class_weight=balanced, gamma=0.1, kernel=rbf, total=  13.5s\n",
      "[CV] C=100, class_weight=balanced, gamma=0.01, kernel=rbf ............\n",
      "[CV]  C=100, class_weight=balanced, gamma=0.1, kernel=rbf, total=  13.5s\n",
      "[CV] C=100, class_weight=balanced, gamma=0.01, kernel=rbf ............\n",
      "[CV]  C=100, class_weight=balanced, gamma=0.1, kernel=rbf, total=  13.5s\n",
      "[CV] C=100, class_weight=balanced, gamma=0.01, kernel=rbf ............\n",
      "[CV]  C=100, class_weight=balanced, gamma=0.01, kernel=rbf, total=  11.1s\n",
      "[CV] C=100, class_weight=balanced, gamma=0.003, kernel=rbf ...........\n",
      "[CV]  C=100, class_weight=balanced, gamma=0.01, kernel=rbf, total=  11.2s\n",
      "[CV] C=100, class_weight=balanced, gamma=0.003, kernel=rbf ...........\n",
      "[CV]  C=100, class_weight=balanced, gamma=0.01, kernel=rbf, total=  11.2s\n",
      "[CV] C=100, class_weight=balanced, gamma=0.003, kernel=rbf ...........\n",
      "[CV]  C=100, class_weight=balanced, gamma=0.01, kernel=rbf, total=  11.2s\n",
      "[CV] C=100, class_weight=balanced, gamma=0.003, kernel=rbf ...........\n",
      "[CV]  C=100, class_weight=balanced, gamma=0.01, kernel=rbf, total=  11.1s\n",
      "[CV] C=100, class_weight=balanced, gamma=0.003, kernel=rbf ...........\n",
      "[CV]  C=100, class_weight=balanced, gamma=0.003, kernel=rbf, total=   6.9s\n",
      "[CV] C=100, class_weight=balanced, gamma=0.005, kernel=rbf ...........\n",
      "[CV]  C=100, class_weight=balanced, gamma=0.003, kernel=rbf, total=   6.8s\n",
      "[CV] C=100, class_weight=balanced, gamma=0.005, kernel=rbf ...........\n",
      "[CV]  C=100, class_weight=balanced, gamma=0.003, kernel=rbf, total=   6.7s\n",
      "[CV] C=100, class_weight=balanced, gamma=0.005, kernel=rbf ...........\n",
      "[CV]  C=100, class_weight=balanced, gamma=0.003, kernel=rbf, total=   6.7s\n",
      "[CV] C=100, class_weight=balanced, gamma=0.005, kernel=rbf ...........\n",
      "[CV]  C=100, class_weight=balanced, gamma=0.003, kernel=rbf, total=   6.4s\n",
      "[CV] C=100, class_weight=balanced, gamma=0.005, kernel=rbf ...........\n",
      "[CV]  C=100, class_weight=balanced, gamma=0.005, kernel=rbf, total=   7.9s\n",
      "[CV]  C=100, class_weight=balanced, gamma=0.005, kernel=rbf, total=   8.0s\n",
      "[CV]  C=100, class_weight=balanced, gamma=0.005, kernel=rbf, total=   7.8s\n",
      "[CV]  C=100, class_weight=balanced, gamma=0.005, kernel=rbf, total=   7.6s\n",
      "[CV]  C=100, class_weight=balanced, gamma=0.005, kernel=rbf, total=   7.7s\n"
     ]
    },
    {
     "name": "stderr",
     "output_type": "stream",
     "text": [
      "[Parallel(n_jobs=5)]: Done  80 out of  80 | elapsed:  4.3min finished\n"
     ]
    }
   ],
   "source": [
    "model_C = GridSearchCV(svm_model,param_grid=parameters, n_jobs=5,\n",
    "                       cv=StratifiedKFold(cy_train, n_folds=5,shuffle=True),\n",
    "                       scoring='roc_auc',\n",
    "                       verbose=2,\n",
    "                       refit=True).fit(trans_ctrain, cy_train)"
   ]
  },
  {
   "cell_type": "code",
   "execution_count": 85,
   "metadata": {},
   "outputs": [
    {
     "name": "stdout",
     "output_type": "stream",
     "text": [
      "Raw ACU score 0.947856551668\n",
      "C: 30\n",
      "class_weight: 'balanced'\n",
      "gamma: 0.003\n",
      "kernel: 'rbf'\n"
     ]
    },
    {
     "name": "stderr",
     "output_type": "stream",
     "text": [
      "/Library/Frameworks/Python.framework/Versions/3.6/lib/python3.6/site-packages/sklearn/model_selection/_search.py:761: DeprecationWarning: The grid_scores_ attribute was deprecated in version 0.18 in favor of the more elaborate cv_results_ attribute. The grid_scores_ attribute will not be available from 0.20\n",
      "  DeprecationWarning)\n"
     ]
    }
   ],
   "source": [
    "best_parameters, score, _ = max(model_A_10.grid_scores_, key=lambda x:x[1])\n",
    "print('Raw ACU score', score)\n",
    "\n",
    "for param_name in sorted(best_parameters.keys()):\n",
    "    print(\"%s: %r\"%(param_name, best_parameters[param_name]))"
   ]
  },
  {
   "cell_type": "code",
   "execution_count": 80,
   "metadata": {},
   "outputs": [
    {
     "name": "stdout",
     "output_type": "stream",
     "text": [
      "Raw ACU score 0.795449531144\n",
      "C: 1\n",
      "class_weight: 'balanced'\n",
      "gamma: 0.003\n",
      "kernel: 'rbf'\n"
     ]
    },
    {
     "name": "stderr",
     "output_type": "stream",
     "text": [
      "/Library/Frameworks/Python.framework/Versions/3.6/lib/python3.6/site-packages/sklearn/model_selection/_search.py:761: DeprecationWarning: The grid_scores_ attribute was deprecated in version 0.18 in favor of the more elaborate cv_results_ attribute. The grid_scores_ attribute will not be available from 0.20\n",
      "  DeprecationWarning)\n"
     ]
    }
   ],
   "source": [
    "best_parameters, score, _ = max(model_B.grid_scores_, key=lambda x:x[1])\n",
    "print('Raw ACU score', score)\n",
    "\n",
    "for param_name in sorted(best_parameters.keys()):\n",
    "    print(\"%s: %r\"%(param_name, best_parameters[param_name]))"
   ]
  },
  {
   "cell_type": "code",
   "execution_count": 82,
   "metadata": {},
   "outputs": [
    {
     "name": "stdout",
     "output_type": "stream",
     "text": [
      "Raw ACU score 0.928627598648\n",
      "C: 1\n",
      "class_weight: 'balanced'\n",
      "gamma: 0.003\n",
      "kernel: 'rbf'\n"
     ]
    },
    {
     "name": "stderr",
     "output_type": "stream",
     "text": [
      "/Library/Frameworks/Python.framework/Versions/3.6/lib/python3.6/site-packages/sklearn/model_selection/_search.py:761: DeprecationWarning: The grid_scores_ attribute was deprecated in version 0.18 in favor of the more elaborate cv_results_ attribute. The grid_scores_ attribute will not be available from 0.20\n",
      "  DeprecationWarning)\n"
     ]
    }
   ],
   "source": [
    "best_parameters, score, _ = max(model_C.grid_scores_, key=lambda x:x[1])\n",
    "print('Raw ACU score', score)\n",
    "\n",
    "for param_name in sorted(best_parameters.keys()):\n",
    "    print(\"%s: %r\"%(param_name, best_parameters[param_name]))"
   ]
  },
  {
   "cell_type": "code",
   "execution_count": 74,
   "metadata": {
    "collapsed": true
   },
   "outputs": [],
   "source": [
    "from sklearn.model_selection import learning_curve\n",
    "def plot_learning_curve(estimator, title, X, y, ylim=None, cv=None,\n",
    "                        n_jobs=1, train_sizes=np.linspace(.1, 1.0, 5)):\n",
    "    \"\"\"\n",
    "    Generate a simple plot of the test and training learning curve.\n",
    "\n",
    "    Parameters\n",
    "    ----------\n",
    "    estimator : object type that implements the \"fit\" and \"predict\" methods\n",
    "        An object of that type which is cloned for each validation.\n",
    "\n",
    "    title : string\n",
    "        Title for the chart.\n",
    "\n",
    "    X : array-like, shape (n_samples, n_features)\n",
    "        Training vector, where n_samples is the number of samples and\n",
    "        n_features is the number of features.\n",
    "\n",
    "    y : array-like, shape (n_samples) or (n_samples, n_features), optional\n",
    "        Target relative to X for classification or regression;\n",
    "        None for unsupervised learning.\n",
    "\n",
    "    ylim : tuple, shape (ymin, ymax), optional\n",
    "        Defines minimum and maximum yvalues plotted.\n",
    "\n",
    "    cv : int, cross-validation generator or an iterable, optional\n",
    "        Determines the cross-validation splitting strategy.\n",
    "        Possible inputs for cv are:\n",
    "          - None, to use the default 3-fold cross-validation,\n",
    "          - integer, to specify the number of folds.\n",
    "          - An object to be used as a cross-validation generator.\n",
    "          - An iterable yielding train/test splits.\n",
    "\n",
    "        For integer/None inputs, if ``y`` is binary or multiclass,\n",
    "        :class:`StratifiedKFold` used. If the estimator is not a classifier\n",
    "        or if ``y`` is neither binary nor multiclass, :class:`KFold` is used.\n",
    "\n",
    "        Refer :ref:`User Guide <cross_validation>` for the various\n",
    "        cross-validators that can be used here.\n",
    "\n",
    "    n_jobs : integer, optional\n",
    "        Number of jobs to run in parallel (default 1).\n",
    "    \"\"\"\n",
    "    plt.figure()\n",
    "    plt.title(title)\n",
    "    if ylim is not None:\n",
    "        plt.ylim(*ylim)\n",
    "    plt.xlabel(\"Training examples\")\n",
    "    plt.ylabel(\"Score\")\n",
    "    train_sizes, train_scores, test_scores = learning_curve(\n",
    "        estimator, X, y, cv=cv, n_jobs=n_jobs, train_sizes=train_sizes)\n",
    "    train_scores_mean = np.mean(train_scores, axis=1)\n",
    "    train_scores_std = np.std(train_scores, axis=1)\n",
    "    test_scores_mean = np.mean(test_scores, axis=1)\n",
    "    test_scores_std = np.std(test_scores, axis=1)\n",
    "    plt.grid()\n",
    "\n",
    "    plt.fill_between(train_sizes, train_scores_mean - train_scores_std,\n",
    "                     train_scores_mean + train_scores_std, alpha=0.1,\n",
    "                     color=\"r\")\n",
    "    plt.fill_between(train_sizes, test_scores_mean - test_scores_std,\n",
    "                     test_scores_mean + test_scores_std, alpha=0.1, color=\"g\")\n",
    "    plt.plot(train_sizes, train_scores_mean, 'o-', color=\"r\",\n",
    "             label=\"Training score\")\n",
    "    plt.plot(train_sizes, test_scores_mean, 'o-', color=\"g\",\n",
    "             label=\"Cross-validation score\")\n",
    "\n",
    "    plt.legend(loc=\"best\")\n",
    "    return plt\n"
   ]
  },
  {
   "cell_type": "code",
   "execution_count": 76,
   "metadata": {
    "collapsed": true
   },
   "outputs": [],
   "source": [
    "model_A = SVC(C=30 , gamma= 0.003,kernel='rbf',class_weight='balanced', probability=True).fit(trans_atrain, ay_train)"
   ]
  },
  {
   "cell_type": "code",
   "execution_count": 88,
   "metadata": {
    "collapsed": true
   },
   "outputs": [],
   "source": [
    "model_B = SVC(C=1 , gamma= 0.003,kernel='rbf',class_weight='balanced', probability=True).fit(trans_btrain, by_train)"
   ]
  },
  {
   "cell_type": "code",
   "execution_count": 89,
   "metadata": {
    "collapsed": true
   },
   "outputs": [],
   "source": [
    "model_C = SVC(C=1, gamma= 0.003 ,kernel='rbf',class_weight='balanced', probability=True).fit(trans_ctrain, cy_train)"
   ]
  },
  {
   "cell_type": "code",
   "execution_count": null,
   "metadata": {
    "collapsed": true
   },
   "outputs": [],
   "source": [
    "model_A = SVC(C=10 , gamma= 0.001, kernel='rbf', probability=True).fit(trans_atrain, ay_train)\n",
    "model_B = SVC(C=30 , gamma= 0.003,kernel='rbf',class_weight='balanced', probability=True).fit(trans_btrain, by_train)\n",
    "model_C = SVC(C=3500, gamma= 0.0001 ,kernel='rbf', probability=True).fit(trans_ctrain, cy_train)"
   ]
  },
  {
   "cell_type": "code",
   "execution_count": null,
   "metadata": {
    "collapsed": true
   },
   "outputs": [],
   "source": [
    "title = 'Learning Curves (SVM, linear kernel)' \n",
    "plot_learning_curve(model_A, title, aX_train, ay_train, cv=StratifiedKFold(ay_train, n_folds=5,shuffle=True))\n",
    "plt.show()"
   ]
  },
  {
   "cell_type": "code",
   "execution_count": 90,
   "metadata": {
    "collapsed": true
   },
   "outputs": [],
   "source": [
    "a_preds = model_A.predict_proba(trans_atest)\n",
    "b_preds = model_B.predict_proba(trans_btest)\n",
    "c_preds = model_C.predict_proba(trans_ctest)\n",
    "\n",
    "# convert preds to data frames\n",
    "a_sub = make_country_sub(a_preds, a_test, 'A')\n",
    "b_sub = make_country_sub(b_preds, b_test, 'B')\n",
    "c_sub = make_country_sub(c_preds, c_test, 'C')"
   ]
  },
  {
   "cell_type": "code",
   "execution_count": 91,
   "metadata": {},
   "outputs": [
    {
     "data": {
      "text/html": [
       "<div>\n",
       "<style scoped>\n",
       "    .dataframe tbody tr th:only-of-type {\n",
       "        vertical-align: middle;\n",
       "    }\n",
       "\n",
       "    .dataframe tbody tr th {\n",
       "        vertical-align: top;\n",
       "    }\n",
       "\n",
       "    .dataframe thead th {\n",
       "        text-align: right;\n",
       "    }\n",
       "</style>\n",
       "<table border=\"1\" class=\"dataframe\">\n",
       "  <thead>\n",
       "    <tr style=\"text-align: right;\">\n",
       "      <th></th>\n",
       "      <th>country</th>\n",
       "      <th>poor</th>\n",
       "    </tr>\n",
       "    <tr>\n",
       "      <th>id</th>\n",
       "      <th></th>\n",
       "      <th></th>\n",
       "    </tr>\n",
       "  </thead>\n",
       "  <tbody>\n",
       "    <tr>\n",
       "      <th>418</th>\n",
       "      <td>A</td>\n",
       "      <td>0.494756</td>\n",
       "    </tr>\n",
       "    <tr>\n",
       "      <th>41249</th>\n",
       "      <td>A</td>\n",
       "      <td>0.003597</td>\n",
       "    </tr>\n",
       "    <tr>\n",
       "      <th>16205</th>\n",
       "      <td>A</td>\n",
       "      <td>0.255519</td>\n",
       "    </tr>\n",
       "    <tr>\n",
       "      <th>97501</th>\n",
       "      <td>A</td>\n",
       "      <td>0.001413</td>\n",
       "    </tr>\n",
       "    <tr>\n",
       "      <th>67756</th>\n",
       "      <td>A</td>\n",
       "      <td>0.990229</td>\n",
       "    </tr>\n",
       "  </tbody>\n",
       "</table>\n",
       "</div>"
      ],
      "text/plain": [
       "      country      poor\n",
       "id                     \n",
       "418         A  0.494756\n",
       "41249       A  0.003597\n",
       "16205       A  0.255519\n",
       "97501       A  0.001413\n",
       "67756       A  0.990229"
      ]
     },
     "execution_count": 91,
     "metadata": {},
     "output_type": "execute_result"
    }
   ],
   "source": [
    "submission = pd.concat([a_sub, b_sub, c_sub])\n",
    "submission.head()"
   ]
  },
  {
   "cell_type": "code",
   "execution_count": 92,
   "metadata": {
    "collapsed": true
   },
   "outputs": [],
   "source": [
    "submission.to_csv('SVC_improved.csv')"
   ]
  },
  {
   "cell_type": "code",
   "execution_count": null,
   "metadata": {
    "collapsed": true
   },
   "outputs": [],
   "source": []
  },
  {
   "cell_type": "code",
   "execution_count": null,
   "metadata": {
    "collapsed": true
   },
   "outputs": [],
   "source": []
  },
  {
   "cell_type": "raw",
   "metadata": {
    "collapsed": true
   },
   "source": [
    "trans_atrain, trans_atest = transform(aX_train, a_test, 340)\n",
    "trans_btrain, trans_btest = transform(bX_train, b_test, 440)\n",
    "trans_ctrain, trans_ctest = transform(cX_train, c_test, 160)"
   ]
  },
  {
   "cell_type": "raw",
   "metadata": {},
   "source": [
    "C_range = 10.0 ** np.arange(-4, 4)\n",
    "gamma_range = 10.0 ** np.arange(-4, 4)\n",
    "param_grid = dict(gamma=gamma_range.tolist(), C=C_range.tolist())"
   ]
  },
  {
   "cell_type": "code",
   "execution_count": 102,
   "metadata": {
    "collapsed": true
   },
   "outputs": [],
   "source": [
    "svm_model = SVC()\n",
    "#parameters = [{'C': [1, 10, 100, 1000],'gamma': [1e-3, 1e-4], 'probability':['True']}]\n",
    "#parameters = [{\"C\":[0.1, 1, 10], \"gamma\": [1, 0.1, 0.01]}]\n",
    "#parameters = [{'C': [1, 10, 100, 1000],'gamma': [0.001,0.0001],'kernel': ['rbf']},\n",
    "              #{'C': [1, 10, 100], 'kernel': ['linear']}]\n",
    "parameters = [{'C': [1,30,60,100],'gamma': [0.1,0.01,0.003,0.005],'class_weight':['balanced'],'kernel': ['rbf']}]"
   ]
  },
  {
   "cell_type": "code",
   "execution_count": 21,
   "metadata": {
    "scrolled": true
   },
   "outputs": [
    {
     "name": "stdout",
     "output_type": "stream",
     "text": [
      "Fitting 5 folds for each of 11 candidates, totalling 55 fits\n",
      "[CV] C=1, gamma=0.001, kernel=rbf ....................................\n",
      "[CV] C=1, gamma=0.001, kernel=rbf ....................................\n",
      "[CV] C=1, gamma=0.001, kernel=rbf ....................................\n",
      "[CV] C=1, gamma=0.001, kernel=rbf ....................................\n",
      "[CV] C=1, gamma=0.001, kernel=rbf ....................................\n",
      "[CV] ..................... C=1, gamma=0.001, kernel=rbf, total=  26.6s\n",
      "[CV] C=1, gamma=0.0001, kernel=rbf ...................................\n",
      "[CV] ..................... C=1, gamma=0.001, kernel=rbf, total=  26.5s\n",
      "[CV] ..................... C=1, gamma=0.001, kernel=rbf, total=  26.7s\n",
      "[CV] C=1, gamma=0.0001, kernel=rbf ...................................\n",
      "[CV] C=1, gamma=0.0001, kernel=rbf ...................................\n",
      "[CV] ..................... C=1, gamma=0.001, kernel=rbf, total=  26.9s\n",
      "[CV] C=1, gamma=0.0001, kernel=rbf ...................................\n",
      "[CV] ..................... C=1, gamma=0.001, kernel=rbf, total=  27.0s\n",
      "[CV] C=1, gamma=0.0001, kernel=rbf ...................................\n",
      "[CV] .................... C=1, gamma=0.0001, kernel=rbf, total=  41.7s\n",
      "[CV] C=10, gamma=0.001, kernel=rbf ...................................\n",
      "[CV] .................... C=1, gamma=0.0001, kernel=rbf, total=  41.6s\n",
      "[CV] C=10, gamma=0.001, kernel=rbf ...................................\n",
      "[CV] .................... C=1, gamma=0.0001, kernel=rbf, total=  41.7s\n",
      "[CV] C=10, gamma=0.001, kernel=rbf ...................................\n",
      "[CV] .................... C=1, gamma=0.0001, kernel=rbf, total=  41.8s\n",
      "[CV] C=10, gamma=0.001, kernel=rbf ...................................\n",
      "[CV] .................... C=1, gamma=0.0001, kernel=rbf, total=  41.7s\n",
      "[CV] C=10, gamma=0.001, kernel=rbf ...................................\n",
      "[CV] .................... C=10, gamma=0.001, kernel=rbf, total=  25.3s\n",
      "[CV] C=10, gamma=0.0001, kernel=rbf ..................................\n",
      "[CV] .................... C=10, gamma=0.001, kernel=rbf, total=  25.6s\n",
      "[CV] C=10, gamma=0.0001, kernel=rbf ..................................\n",
      "[CV] .................... C=10, gamma=0.001, kernel=rbf, total=  25.3s\n",
      "[CV] C=10, gamma=0.0001, kernel=rbf ..................................\n",
      "[CV] .................... C=10, gamma=0.001, kernel=rbf, total=  25.7s\n",
      "[CV] C=10, gamma=0.0001, kernel=rbf ..................................\n",
      "[CV] .................... C=10, gamma=0.001, kernel=rbf, total=  25.6s\n",
      "[CV] C=10, gamma=0.0001, kernel=rbf ..................................\n",
      "[CV] ................... C=10, gamma=0.0001, kernel=rbf, total=  29.8s\n",
      "[CV] C=100, gamma=0.001, kernel=rbf ..................................\n",
      "[CV] ................... C=10, gamma=0.0001, kernel=rbf, total=  29.7s\n",
      "[CV] C=100, gamma=0.001, kernel=rbf ..................................\n",
      "[CV] ................... C=10, gamma=0.0001, kernel=rbf, total=  29.7s\n",
      "[CV] C=100, gamma=0.001, kernel=rbf ..................................\n",
      "[CV] ................... C=10, gamma=0.0001, kernel=rbf, total=  29.9s\n",
      "[CV] C=100, gamma=0.001, kernel=rbf ..................................\n",
      "[CV] ................... C=10, gamma=0.0001, kernel=rbf, total=  30.1s\n",
      "[CV] C=100, gamma=0.001, kernel=rbf ..................................\n",
      "[CV] ................... C=100, gamma=0.001, kernel=rbf, total=  31.2s\n",
      "[CV] C=100, gamma=0.0001, kernel=rbf .................................\n",
      "[CV] ................... C=100, gamma=0.001, kernel=rbf, total=  31.5s\n",
      "[CV] C=100, gamma=0.0001, kernel=rbf .................................\n",
      "[CV] ................... C=100, gamma=0.001, kernel=rbf, total=  32.0s\n",
      "[CV] ................... C=100, gamma=0.001, kernel=rbf, total=  31.8s\n",
      "[CV] C=100, gamma=0.0001, kernel=rbf .................................\n",
      "[CV] C=100, gamma=0.0001, kernel=rbf .................................\n",
      "[CV] ................... C=100, gamma=0.001, kernel=rbf, total=  31.6s\n",
      "[CV] C=100, gamma=0.0001, kernel=rbf .................................\n",
      "[CV] .................. C=100, gamma=0.0001, kernel=rbf, total=  22.3s\n",
      "[CV] C=1000, gamma=0.001, kernel=rbf .................................\n",
      "[CV] .................. C=100, gamma=0.0001, kernel=rbf, total=  22.8s\n",
      "[CV] C=1000, gamma=0.001, kernel=rbf .................................\n",
      "[CV] .................. C=100, gamma=0.0001, kernel=rbf, total=  22.6s\n",
      "[CV] C=1000, gamma=0.001, kernel=rbf .................................\n",
      "[CV] .................. C=100, gamma=0.0001, kernel=rbf, total=  22.7s\n",
      "[CV] C=1000, gamma=0.001, kernel=rbf .................................\n",
      "[CV] .................. C=100, gamma=0.0001, kernel=rbf, total=  22.4s\n",
      "[CV] C=1000, gamma=0.001, kernel=rbf .................................\n",
      "[CV] .................. C=1000, gamma=0.001, kernel=rbf, total=  26.0s\n",
      "[CV] C=1000, gamma=0.0001, kernel=rbf ................................\n",
      "[CV] .................. C=1000, gamma=0.001, kernel=rbf, total=  26.1s\n",
      "[CV] C=1000, gamma=0.0001, kernel=rbf ................................\n",
      "[CV] .................. C=1000, gamma=0.001, kernel=rbf, total=  26.5s\n",
      "[CV] C=1000, gamma=0.0001, kernel=rbf ................................\n"
     ]
    },
    {
     "name": "stderr",
     "output_type": "stream",
     "text": [
      "[Parallel(n_jobs=5)]: Done  31 tasks      | elapsed:  5.4min\n"
     ]
    },
    {
     "name": "stdout",
     "output_type": "stream",
     "text": [
      "[CV] .................. C=1000, gamma=0.001, kernel=rbf, total=  26.4s\n",
      "[CV] C=1000, gamma=0.0001, kernel=rbf ................................\n",
      "[CV] .................. C=1000, gamma=0.001, kernel=rbf, total=  26.1s\n",
      "[CV] C=1000, gamma=0.0001, kernel=rbf ................................\n",
      "[CV] ................. C=1000, gamma=0.0001, kernel=rbf, total=  35.8s\n",
      "[CV] C=1, kernel=linear ..............................................\n",
      "[CV] ................. C=1000, gamma=0.0001, kernel=rbf, total=  36.2s\n",
      "[CV] C=1, kernel=linear ..............................................\n",
      "[CV] ................. C=1000, gamma=0.0001, kernel=rbf, total=  36.5s\n",
      "[CV] C=1, kernel=linear ..............................................\n",
      "[CV] ................. C=1000, gamma=0.0001, kernel=rbf, total=  36.6s\n",
      "[CV] C=1, kernel=linear ..............................................\n",
      "[CV] ................. C=1000, gamma=0.0001, kernel=rbf, total=  37.0s\n",
      "[CV] C=1, kernel=linear ..............................................\n",
      "[CV] ............................... C=1, kernel=linear, total= 1.2min\n",
      "[CV] C=10, kernel=linear .............................................\n",
      "[CV] ............................... C=1, kernel=linear, total= 1.3min\n",
      "[CV] C=10, kernel=linear .............................................\n",
      "[CV] ............................... C=1, kernel=linear, total= 1.3min\n",
      "[CV] C=10, kernel=linear .............................................\n",
      "[CV] ............................... C=1, kernel=linear, total= 1.4min\n",
      "[CV] C=10, kernel=linear .............................................\n",
      "[CV] ............................... C=1, kernel=linear, total= 1.5min\n",
      "[CV] C=10, kernel=linear .............................................\n",
      "[CV] .............................. C=10, kernel=linear, total=28.4min\n",
      "[CV] C=100, kernel=linear ............................................\n",
      "[CV] .............................. C=10, kernel=linear, total=29.1min\n",
      "[CV] C=100, kernel=linear ............................................\n",
      "[CV] .............................. C=10, kernel=linear, total=30.0min\n",
      "[CV] C=100, kernel=linear ............................................\n",
      "[CV] .............................. C=10, kernel=linear, total=30.4min\n",
      "[CV] C=100, kernel=linear ............................................\n",
      "[CV] .............................. C=10, kernel=linear, total=31.3min\n",
      "[CV] C=100, kernel=linear ............................................\n",
      "[CV] ............................ C=100, kernel=linear, total=112.5min\n",
      "[CV] ............................ C=100, kernel=linear, total=119.7min\n",
      "[CV] ............................ C=100, kernel=linear, total=120.9min\n",
      "[CV] ............................ C=100, kernel=linear, total=130.1min\n",
      "[CV] ............................ C=100, kernel=linear, total=144.0min\n"
     ]
    },
    {
     "name": "stderr",
     "output_type": "stream",
     "text": [
      "[Parallel(n_jobs=5)]: Done  55 out of  55 | elapsed: 181.0min finished\n"
     ]
    }
   ],
   "source": [
    "model_A = GridSearchCV(svm_model,param_grid=parameters, n_jobs=5,\n",
    "                       cv=StratifiedKFold(ay_train, n_folds=5,shuffle=True),\n",
    "                       scoring='roc_auc',\n",
    "                       verbose=2).fit(trans_atrain, ay_train)"
   ]
  },
  {
   "cell_type": "code",
   "execution_count": 103,
   "metadata": {
    "scrolled": true
   },
   "outputs": [
    {
     "name": "stdout",
     "output_type": "stream",
     "text": [
      "Fitting 5 folds for each of 16 candidates, totalling 80 fits\n",
      "[CV] C=1, class_weight=balanced, gamma=0.1, kernel=rbf ...............\n",
      "[CV] C=1, class_weight=balanced, gamma=0.1, kernel=rbf ...............\n",
      "[CV] C=1, class_weight=balanced, gamma=0.1, kernel=rbf ...............\n",
      "[CV] C=1, class_weight=balanced, gamma=0.1, kernel=rbf ...............\n",
      "[CV] C=1, class_weight=balanced, gamma=0.1, kernel=rbf ...............\n",
      "[CV]  C=1, class_weight=balanced, gamma=0.1, kernel=rbf, total=   8.3s\n",
      "[CV] C=1, class_weight=balanced, gamma=0.01, kernel=rbf ..............\n",
      "[CV]  C=1, class_weight=balanced, gamma=0.1, kernel=rbf, total=   8.3s\n",
      "[CV]  C=1, class_weight=balanced, gamma=0.1, kernel=rbf, total=   8.3s\n",
      "[CV] C=1, class_weight=balanced, gamma=0.01, kernel=rbf ..............\n",
      "[CV] C=1, class_weight=balanced, gamma=0.01, kernel=rbf ..............\n",
      "[CV]  C=1, class_weight=balanced, gamma=0.1, kernel=rbf, total=   8.3s\n",
      "[CV] C=1, class_weight=balanced, gamma=0.01, kernel=rbf ..............\n",
      "[CV]  C=1, class_weight=balanced, gamma=0.1, kernel=rbf, total=   8.2s\n",
      "[CV] C=1, class_weight=balanced, gamma=0.01, kernel=rbf ..............\n",
      "[CV]  C=1, class_weight=balanced, gamma=0.01, kernel=rbf, total=   7.4s\n",
      "[CV] C=1, class_weight=balanced, gamma=0.003, kernel=rbf .............\n",
      "[CV]  C=1, class_weight=balanced, gamma=0.01, kernel=rbf, total=   7.2s\n",
      "[CV]  C=1, class_weight=balanced, gamma=0.01, kernel=rbf, total=   7.3s\n",
      "[CV] C=1, class_weight=balanced, gamma=0.003, kernel=rbf .............\n",
      "[CV] C=1, class_weight=balanced, gamma=0.003, kernel=rbf .............\n",
      "[CV]  C=1, class_weight=balanced, gamma=0.01, kernel=rbf, total=   7.2s\n",
      "[CV] C=1, class_weight=balanced, gamma=0.003, kernel=rbf .............\n",
      "[CV]  C=1, class_weight=balanced, gamma=0.01, kernel=rbf, total=   7.2s\n",
      "[CV] C=1, class_weight=balanced, gamma=0.003, kernel=rbf .............\n",
      "[CV]  C=1, class_weight=balanced, gamma=0.003, kernel=rbf, total=   6.1s\n",
      "[CV]  C=1, class_weight=balanced, gamma=0.003, kernel=rbf, total=   6.3s\n",
      "[CV] C=1, class_weight=balanced, gamma=0.005, kernel=rbf .............\n",
      "[CV] C=1, class_weight=balanced, gamma=0.005, kernel=rbf .............\n",
      "[CV]  C=1, class_weight=balanced, gamma=0.003, kernel=rbf, total=   6.2s\n",
      "[CV] C=1, class_weight=balanced, gamma=0.005, kernel=rbf .............\n",
      "[CV]  C=1, class_weight=balanced, gamma=0.003, kernel=rbf, total=   6.3s\n",
      "[CV]  C=1, class_weight=balanced, gamma=0.003, kernel=rbf, total=   6.1s\n",
      "[CV] C=1, class_weight=balanced, gamma=0.005, kernel=rbf .............\n",
      "[CV] C=1, class_weight=balanced, gamma=0.005, kernel=rbf .............\n",
      "[CV]  C=1, class_weight=balanced, gamma=0.005, kernel=rbf, total=   7.0s\n",
      "[CV] C=30, class_weight=balanced, gamma=0.1, kernel=rbf ..............\n",
      "[CV]  C=1, class_weight=balanced, gamma=0.005, kernel=rbf, total=   7.0s\n",
      "[CV] C=30, class_weight=balanced, gamma=0.1, kernel=rbf ..............\n",
      "[CV]  C=1, class_weight=balanced, gamma=0.005, kernel=rbf, total=   6.9s\n",
      "[CV] C=30, class_weight=balanced, gamma=0.1, kernel=rbf ..............\n",
      "[CV]  C=1, class_weight=balanced, gamma=0.005, kernel=rbf, total=   7.0s\n",
      "[CV] C=30, class_weight=balanced, gamma=0.1, kernel=rbf ..............\n",
      "[CV]  C=1, class_weight=balanced, gamma=0.005, kernel=rbf, total=   6.9s\n",
      "[CV] C=30, class_weight=balanced, gamma=0.1, kernel=rbf ..............\n",
      "[CV]  C=30, class_weight=balanced, gamma=0.1, kernel=rbf, total=   7.5s\n",
      "[CV] C=30, class_weight=balanced, gamma=0.01, kernel=rbf .............\n",
      "[CV]  C=30, class_weight=balanced, gamma=0.1, kernel=rbf, total=   7.4s\n",
      "[CV] C=30, class_weight=balanced, gamma=0.01, kernel=rbf .............\n",
      "[CV]  C=30, class_weight=balanced, gamma=0.1, kernel=rbf, total=   7.4s\n",
      "[CV]  C=30, class_weight=balanced, gamma=0.1, kernel=rbf, total=   7.4s\n",
      "[CV] C=30, class_weight=balanced, gamma=0.01, kernel=rbf .............\n",
      "[CV] C=30, class_weight=balanced, gamma=0.01, kernel=rbf .............\n",
      "[CV]  C=30, class_weight=balanced, gamma=0.1, kernel=rbf, total=   7.3s\n",
      "[CV] C=30, class_weight=balanced, gamma=0.01, kernel=rbf .............\n",
      "[CV]  C=30, class_weight=balanced, gamma=0.01, kernel=rbf, total=   7.3s\n",
      "[CV]  C=30, class_weight=balanced, gamma=0.01, kernel=rbf, total=   7.3s\n",
      "[CV] C=30, class_weight=balanced, gamma=0.003, kernel=rbf ............\n",
      "[CV] C=30, class_weight=balanced, gamma=0.003, kernel=rbf ............\n",
      "[CV]  C=30, class_weight=balanced, gamma=0.01, kernel=rbf, total=   7.2s\n",
      "[CV] C=30, class_weight=balanced, gamma=0.003, kernel=rbf ............\n",
      "[CV]  C=30, class_weight=balanced, gamma=0.01, kernel=rbf, total=   7.2s\n",
      "[CV] C=30, class_weight=balanced, gamma=0.003, kernel=rbf ............\n",
      "[CV]  C=30, class_weight=balanced, gamma=0.01, kernel=rbf, total=   7.2s\n",
      "[CV] C=30, class_weight=balanced, gamma=0.003, kernel=rbf ............\n",
      "[CV]  C=30, class_weight=balanced, gamma=0.003, kernel=rbf, total=   6.8s\n",
      "[CV] C=30, class_weight=balanced, gamma=0.005, kernel=rbf ............\n",
      "[CV]  C=30, class_weight=balanced, gamma=0.003, kernel=rbf, total=   6.8s\n",
      "[CV] C=30, class_weight=balanced, gamma=0.005, kernel=rbf ............\n",
      "[CV]  C=30, class_weight=balanced, gamma=0.003, kernel=rbf, total=   6.9s\n",
      "[CV] C=30, class_weight=balanced, gamma=0.005, kernel=rbf ............\n",
      "[CV]  C=30, class_weight=balanced, gamma=0.003, kernel=rbf, total=   7.0s\n"
     ]
    },
    {
     "name": "stderr",
     "output_type": "stream",
     "text": [
      "[Parallel(n_jobs=5)]: Done  31 tasks      | elapsed:  1.4min\n"
     ]
    },
    {
     "name": "stdout",
     "output_type": "stream",
     "text": [
      "[CV] C=30, class_weight=balanced, gamma=0.005, kernel=rbf ............\n",
      "[CV]  C=30, class_weight=balanced, gamma=0.003, kernel=rbf, total=   6.8s\n",
      "[CV] C=30, class_weight=balanced, gamma=0.005, kernel=rbf ............\n",
      "[CV]  C=30, class_weight=balanced, gamma=0.005, kernel=rbf, total=   7.1s\n",
      "[CV] C=60, class_weight=balanced, gamma=0.1, kernel=rbf ..............\n",
      "[CV]  C=30, class_weight=balanced, gamma=0.005, kernel=rbf, total=   7.0s\n",
      "[CV] C=60, class_weight=balanced, gamma=0.1, kernel=rbf ..............\n",
      "[CV]  C=30, class_weight=balanced, gamma=0.005, kernel=rbf, total=   7.0s\n",
      "[CV]  C=30, class_weight=balanced, gamma=0.005, kernel=rbf, total=   7.1s\n",
      "[CV] C=60, class_weight=balanced, gamma=0.1, kernel=rbf ..............\n",
      "[CV]  C=30, class_weight=balanced, gamma=0.005, kernel=rbf, total=   6.9s\n",
      "[CV] C=60, class_weight=balanced, gamma=0.1, kernel=rbf ..............\n",
      "[CV] C=60, class_weight=balanced, gamma=0.1, kernel=rbf ..............\n",
      "[CV]  C=60, class_weight=balanced, gamma=0.1, kernel=rbf, total=   7.2s\n",
      "[CV] C=60, class_weight=balanced, gamma=0.01, kernel=rbf .............\n",
      "[CV]  C=60, class_weight=balanced, gamma=0.1, kernel=rbf, total=   7.2s\n",
      "[CV] C=60, class_weight=balanced, gamma=0.01, kernel=rbf .............\n",
      "[CV]  C=60, class_weight=balanced, gamma=0.1, kernel=rbf, total=   7.1s\n",
      "[CV] C=60, class_weight=balanced, gamma=0.01, kernel=rbf .............\n",
      "[CV]  C=60, class_weight=balanced, gamma=0.1, kernel=rbf, total=   7.1s\n",
      "[CV] C=60, class_weight=balanced, gamma=0.01, kernel=rbf .............\n",
      "[CV]  C=60, class_weight=balanced, gamma=0.1, kernel=rbf, total=   7.1s\n",
      "[CV] C=60, class_weight=balanced, gamma=0.01, kernel=rbf .............\n",
      "[CV]  C=60, class_weight=balanced, gamma=0.01, kernel=rbf, total=   7.4s\n",
      "[CV] C=60, class_weight=balanced, gamma=0.003, kernel=rbf ............\n",
      "[CV]  C=60, class_weight=balanced, gamma=0.01, kernel=rbf, total=   7.4s\n",
      "[CV] C=60, class_weight=balanced, gamma=0.003, kernel=rbf ............\n",
      "[CV]  C=60, class_weight=balanced, gamma=0.01, kernel=rbf, total=   7.3s\n",
      "[CV] C=60, class_weight=balanced, gamma=0.003, kernel=rbf ............\n",
      "[CV]  C=60, class_weight=balanced, gamma=0.01, kernel=rbf, total=   7.2s\n",
      "[CV] C=60, class_weight=balanced, gamma=0.003, kernel=rbf ............\n",
      "[CV]  C=60, class_weight=balanced, gamma=0.01, kernel=rbf, total=   7.2s\n",
      "[CV] C=60, class_weight=balanced, gamma=0.003, kernel=rbf ............\n",
      "[CV]  C=60, class_weight=balanced, gamma=0.003, kernel=rbf, total=   6.7s\n",
      "[CV] C=60, class_weight=balanced, gamma=0.005, kernel=rbf ............\n",
      "[CV]  C=60, class_weight=balanced, gamma=0.003, kernel=rbf, total=   6.6s\n",
      "[CV] C=60, class_weight=balanced, gamma=0.005, kernel=rbf ............\n",
      "[CV]  C=60, class_weight=balanced, gamma=0.003, kernel=rbf, total=   6.7s\n",
      "[CV] C=60, class_weight=balanced, gamma=0.005, kernel=rbf ............\n",
      "[CV]  C=60, class_weight=balanced, gamma=0.003, kernel=rbf, total=   6.7s\n",
      "[CV] C=60, class_weight=balanced, gamma=0.005, kernel=rbf ............\n",
      "[CV]  C=60, class_weight=balanced, gamma=0.003, kernel=rbf, total=   6.6s\n",
      "[CV] C=60, class_weight=balanced, gamma=0.005, kernel=rbf ............\n",
      "[CV]  C=60, class_weight=balanced, gamma=0.005, kernel=rbf, total=   8.8s\n",
      "[CV] C=100, class_weight=balanced, gamma=0.1, kernel=rbf .............\n",
      "[CV]  C=60, class_weight=balanced, gamma=0.005, kernel=rbf, total=   8.6s\n",
      "[CV]  C=60, class_weight=balanced, gamma=0.005, kernel=rbf, total=   8.7s\n",
      "[CV] C=100, class_weight=balanced, gamma=0.1, kernel=rbf .............\n",
      "[CV] C=100, class_weight=balanced, gamma=0.1, kernel=rbf .............\n",
      "[CV]  C=60, class_weight=balanced, gamma=0.005, kernel=rbf, total=   8.8s\n",
      "[CV] C=100, class_weight=balanced, gamma=0.1, kernel=rbf .............\n",
      "[CV]  C=60, class_weight=balanced, gamma=0.005, kernel=rbf, total=   8.6s\n",
      "[CV] C=100, class_weight=balanced, gamma=0.1, kernel=rbf .............\n",
      "[CV]  C=100, class_weight=balanced, gamma=0.1, kernel=rbf, total=   8.8s\n",
      "[CV] C=100, class_weight=balanced, gamma=0.01, kernel=rbf ............\n",
      "[CV]  C=100, class_weight=balanced, gamma=0.1, kernel=rbf, total=   8.7s\n",
      "[CV]  C=100, class_weight=balanced, gamma=0.1, kernel=rbf, total=   8.7s\n",
      "[CV] C=100, class_weight=balanced, gamma=0.01, kernel=rbf ............\n",
      "[CV] C=100, class_weight=balanced, gamma=0.01, kernel=rbf ............\n",
      "[CV]  C=100, class_weight=balanced, gamma=0.1, kernel=rbf, total=   8.6s\n",
      "[CV] C=100, class_weight=balanced, gamma=0.01, kernel=rbf ............\n",
      "[CV]  C=100, class_weight=balanced, gamma=0.1, kernel=rbf, total=   8.6s\n",
      "[CV] C=100, class_weight=balanced, gamma=0.01, kernel=rbf ............\n",
      "[CV]  C=100, class_weight=balanced, gamma=0.01, kernel=rbf, total=   8.8s\n",
      "[CV] C=100, class_weight=balanced, gamma=0.003, kernel=rbf ...........\n",
      "[CV]  C=100, class_weight=balanced, gamma=0.01, kernel=rbf, total=   8.7s\n",
      "[CV]  C=100, class_weight=balanced, gamma=0.01, kernel=rbf, total=   8.7s\n",
      "[CV] C=100, class_weight=balanced, gamma=0.003, kernel=rbf ...........\n",
      "[CV]  C=100, class_weight=balanced, gamma=0.01, kernel=rbf, total=   8.7s\n",
      "[CV] C=100, class_weight=balanced, gamma=0.003, kernel=rbf ...........\n",
      "[CV] C=100, class_weight=balanced, gamma=0.003, kernel=rbf ...........\n",
      "[CV]  C=100, class_weight=balanced, gamma=0.01, kernel=rbf, total=   8.6s\n",
      "[CV] C=100, class_weight=balanced, gamma=0.003, kernel=rbf ...........\n",
      "[CV]  C=100, class_weight=balanced, gamma=0.003, kernel=rbf, total=   7.6s\n",
      "[CV]  C=100, class_weight=balanced, gamma=0.003, kernel=rbf, total=   7.6s\n",
      "[CV]  C=100, class_weight=balanced, gamma=0.003, kernel=rbf, total=   7.7s\n",
      "[CV] C=100, class_weight=balanced, gamma=0.005, kernel=rbf ...........\n",
      "[CV] C=100, class_weight=balanced, gamma=0.005, kernel=rbf ...........\n",
      "[CV] C=100, class_weight=balanced, gamma=0.005, kernel=rbf ...........\n",
      "[CV]  C=100, class_weight=balanced, gamma=0.003, kernel=rbf, total=   7.7s\n",
      "[CV] C=100, class_weight=balanced, gamma=0.005, kernel=rbf ...........\n",
      "[CV]  C=100, class_weight=balanced, gamma=0.003, kernel=rbf, total=   7.5s\n",
      "[CV] C=100, class_weight=balanced, gamma=0.005, kernel=rbf ...........\n",
      "[CV]  C=100, class_weight=balanced, gamma=0.005, kernel=rbf, total=   8.5s\n",
      "[CV]  C=100, class_weight=balanced, gamma=0.005, kernel=rbf, total=   8.5s\n",
      "[CV]  C=100, class_weight=balanced, gamma=0.005, kernel=rbf, total=   8.5s\n",
      "[CV]  C=100, class_weight=balanced, gamma=0.005, kernel=rbf, total=   8.6s\n",
      "[CV]  C=100, class_weight=balanced, gamma=0.005, kernel=rbf, total=   8.4s\n"
     ]
    },
    {
     "name": "stderr",
     "output_type": "stream",
     "text": [
      "[Parallel(n_jobs=5)]: Done  80 out of  80 | elapsed:  3.5min finished\n"
     ]
    }
   ],
   "source": [
    "model_B = GridSearchCV(svm_model,param_grid=parameters, n_jobs=5,\n",
    "                       cv=StratifiedKFold(by_train, n_folds=5,shuffle=True),\n",
    "                       scoring='roc_auc',\n",
    "                       verbose=2,\n",
    "                       refit=True).fit(trans_btrain, by_train)"
   ]
  },
  {
   "cell_type": "code",
   "execution_count": 49,
   "metadata": {
    "scrolled": true
   },
   "outputs": [
    {
     "name": "stdout",
     "output_type": "stream",
     "text": [
      "Fitting 5 folds for each of 9 candidates, totalling 45 fits\n",
      "[CV] C=3000, gamma=0.001, kernel=rbf .................................\n",
      "[CV] C=3000, gamma=0.001, kernel=rbf .................................\n",
      "[CV] C=3000, gamma=0.001, kernel=rbf .................................\n",
      "[CV] C=3000, gamma=0.001, kernel=rbf .................................\n",
      "[CV] C=3000, gamma=0.001, kernel=rbf .................................\n",
      "[CV] .................. C=3000, gamma=0.001, kernel=rbf, total=   9.4s\n",
      "[CV] C=3000, gamma=0.0001, kernel=rbf ................................\n",
      "[CV] .................. C=3000, gamma=0.001, kernel=rbf, total=   9.5s\n",
      "[CV] C=3000, gamma=0.0001, kernel=rbf ................................\n",
      "[CV] .................. C=3000, gamma=0.001, kernel=rbf, total=   9.5s\n",
      "[CV] C=3000, gamma=0.0001, kernel=rbf ................................\n",
      "[CV] .................. C=3000, gamma=0.001, kernel=rbf, total=   9.5s\n",
      "[CV] C=3000, gamma=0.0001, kernel=rbf ................................\n",
      "[CV] .................. C=3000, gamma=0.001, kernel=rbf, total=   9.8s\n",
      "[CV] C=3000, gamma=0.0001, kernel=rbf ................................\n",
      "[CV] ................. C=3000, gamma=0.0001, kernel=rbf, total=  15.7s\n",
      "[CV] C=3000, gamma=1e-05, kernel=rbf .................................\n",
      "[CV] ................. C=3000, gamma=0.0001, kernel=rbf, total=  16.1s\n",
      "[CV] C=3000, gamma=1e-05, kernel=rbf .................................\n",
      "[CV] ................. C=3000, gamma=0.0001, kernel=rbf, total=  16.5s\n",
      "[CV] C=3000, gamma=1e-05, kernel=rbf .................................\n",
      "[CV] ................. C=3000, gamma=0.0001, kernel=rbf, total=  16.8s\n",
      "[CV] C=3000, gamma=1e-05, kernel=rbf .................................\n",
      "[CV] ................. C=3000, gamma=0.0001, kernel=rbf, total=  16.2s\n",
      "[CV] C=3000, gamma=1e-05, kernel=rbf .................................\n",
      "[CV] .................. C=3000, gamma=1e-05, kernel=rbf, total=   6.6s\n",
      "[CV] C=3500, gamma=0.001, kernel=rbf .................................\n",
      "[CV] .................. C=3000, gamma=1e-05, kernel=rbf, total=   6.4s\n",
      "[CV] C=3500, gamma=0.001, kernel=rbf .................................\n",
      "[CV] .................. C=3000, gamma=1e-05, kernel=rbf, total=   6.0s\n",
      "[CV] C=3500, gamma=0.001, kernel=rbf .................................\n",
      "[CV] .................. C=3000, gamma=1e-05, kernel=rbf, total=   6.1s\n",
      "[CV] C=3500, gamma=0.001, kernel=rbf .................................\n",
      "[CV] .................. C=3000, gamma=1e-05, kernel=rbf, total=   6.2s\n",
      "[CV] C=3500, gamma=0.001, kernel=rbf .................................\n",
      "[CV] .................. C=3500, gamma=0.001, kernel=rbf, total=   8.4s\n",
      "[CV] C=3500, gamma=0.0001, kernel=rbf ................................\n",
      "[CV] .................. C=3500, gamma=0.001, kernel=rbf, total=   8.8s\n",
      "[CV] C=3500, gamma=0.0001, kernel=rbf ................................\n",
      "[CV] .................. C=3500, gamma=0.001, kernel=rbf, total=   8.4s\n",
      "[CV] .................. C=3500, gamma=0.001, kernel=rbf, total=   8.1s\n",
      "[CV] C=3500, gamma=0.0001, kernel=rbf ................................\n",
      "[CV] C=3500, gamma=0.0001, kernel=rbf ................................\n",
      "[CV] .................. C=3500, gamma=0.001, kernel=rbf, total=   8.3s\n",
      "[CV] C=3500, gamma=0.0001, kernel=rbf ................................\n",
      "[CV] ................. C=3500, gamma=0.0001, kernel=rbf, total=  12.9s\n",
      "[CV] C=3500, gamma=1e-05, kernel=rbf .................................\n",
      "[CV] ................. C=3500, gamma=0.0001, kernel=rbf, total=  13.3s\n",
      "[CV] C=3500, gamma=1e-05, kernel=rbf .................................\n",
      "[CV] ................. C=3500, gamma=0.0001, kernel=rbf, total=  13.9s\n",
      "[CV] C=3500, gamma=1e-05, kernel=rbf .................................\n",
      "[CV] ................. C=3500, gamma=0.0001, kernel=rbf, total=  13.2s\n",
      "[CV] C=3500, gamma=1e-05, kernel=rbf .................................\n",
      "[CV] ................. C=3500, gamma=0.0001, kernel=rbf, total=  13.6s\n",
      "[CV] C=3500, gamma=1e-05, kernel=rbf .................................\n",
      "[CV] .................. C=3500, gamma=1e-05, kernel=rbf, total=   5.2s\n",
      "[CV] C=4000, gamma=0.001, kernel=rbf .................................\n",
      "[CV] .................. C=3500, gamma=1e-05, kernel=rbf, total=   5.0s\n",
      "[CV] C=4000, gamma=0.001, kernel=rbf .................................\n",
      "[CV] .................. C=3500, gamma=1e-05, kernel=rbf, total=   4.7s\n",
      "[CV] C=4000, gamma=0.001, kernel=rbf .................................\n",
      "[CV] .................. C=3500, gamma=1e-05, kernel=rbf, total=   4.7s\n",
      "[CV] C=4000, gamma=0.001, kernel=rbf .................................\n",
      "[CV] .................. C=3500, gamma=1e-05, kernel=rbf, total=   4.8s\n",
      "[CV] C=4000, gamma=0.001, kernel=rbf .................................\n",
      "[CV] .................. C=4000, gamma=0.001, kernel=rbf, total=   6.8s\n",
      "[CV] C=4000, gamma=0.0001, kernel=rbf ................................\n",
      "[CV] .................. C=4000, gamma=0.001, kernel=rbf, total=   6.8s\n"
     ]
    },
    {
     "name": "stderr",
     "output_type": "stream",
     "text": [
      "[Parallel(n_jobs=5)]: Done  31 tasks      | elapsed:  1.5min\n"
     ]
    },
    {
     "name": "stdout",
     "output_type": "stream",
     "text": [
      "[CV] C=4000, gamma=0.0001, kernel=rbf ................................\n",
      "[CV] .................. C=4000, gamma=0.001, kernel=rbf, total=   7.1s\n",
      "[CV] C=4000, gamma=0.0001, kernel=rbf ................................\n",
      "[CV] .................. C=4000, gamma=0.001, kernel=rbf, total=   6.5s\n",
      "[CV] C=4000, gamma=0.0001, kernel=rbf ................................\n",
      "[CV] .................. C=4000, gamma=0.001, kernel=rbf, total=   6.6s\n",
      "[CV] C=4000, gamma=0.0001, kernel=rbf ................................\n",
      "[CV] ................. C=4000, gamma=0.0001, kernel=rbf, total=  16.0s\n",
      "[CV] ................. C=4000, gamma=0.0001, kernel=rbf, total=  16.2s\n",
      "[CV] C=4000, gamma=1e-05, kernel=rbf .................................\n",
      "[CV] C=4000, gamma=1e-05, kernel=rbf .................................\n",
      "[CV] ................. C=4000, gamma=0.0001, kernel=rbf, total=  16.2s\n",
      "[CV] C=4000, gamma=1e-05, kernel=rbf .................................\n",
      "[CV] ................. C=4000, gamma=0.0001, kernel=rbf, total=  15.9s\n",
      "[CV] C=4000, gamma=1e-05, kernel=rbf .................................\n",
      "[CV] ................. C=4000, gamma=0.0001, kernel=rbf, total=  16.9s\n",
      "[CV] C=4000, gamma=1e-05, kernel=rbf .................................\n",
      "[CV] .................. C=4000, gamma=1e-05, kernel=rbf, total=   5.9s\n",
      "[CV] .................. C=4000, gamma=1e-05, kernel=rbf, total=   6.0s\n",
      "[CV] .................. C=4000, gamma=1e-05, kernel=rbf, total=   5.7s\n",
      "[CV] .................. C=4000, gamma=1e-05, kernel=rbf, total=   5.7s\n",
      "[CV] .................. C=4000, gamma=1e-05, kernel=rbf, total=   5.7s\n"
     ]
    },
    {
     "name": "stderr",
     "output_type": "stream",
     "text": [
      "[Parallel(n_jobs=5)]: Done  45 out of  45 | elapsed:  2.0min finished\n"
     ]
    }
   ],
   "source": [
    "model_C = GridSearchCV(svm_model,param_grid=parameters, n_jobs=5,\n",
    "                       cv=StratifiedKFold(cy_train, n_folds=5,shuffle=True),\n",
    "                       scoring='roc_auc',\n",
    "                       verbose=2,\n",
    "                       refit=True).fit(trans_ctrain, cy_train)"
   ]
  },
  {
   "cell_type": "code",
   "execution_count": 23,
   "metadata": {},
   "outputs": [
    {
     "name": "stdout",
     "output_type": "stream",
     "text": [
      "Raw ACU score 0.946174614135\n",
      "C: 10\n",
      "gamma: 0.001\n",
      "kernel: 'rbf'\n"
     ]
    },
    {
     "name": "stderr",
     "output_type": "stream",
     "text": [
      "/Library/Frameworks/Python.framework/Versions/3.6/lib/python3.6/site-packages/sklearn/model_selection/_search.py:761: DeprecationWarning: The grid_scores_ attribute was deprecated in version 0.18 in favor of the more elaborate cv_results_ attribute. The grid_scores_ attribute will not be available from 0.20\n",
      "  DeprecationWarning)\n"
     ]
    }
   ],
   "source": [
    "best_parameters, score, _ = max(model_A.grid_scores_, key=lambda x:x[1])\n",
    "print('Raw ACU score', score)\n",
    "\n",
    "for param_name in sorted(best_parameters.keys()):\n",
    "    print(\"%s: %r\"%(param_name, best_parameters[param_name]))"
   ]
  },
  {
   "cell_type": "code",
   "execution_count": 104,
   "metadata": {},
   "outputs": [
    {
     "name": "stdout",
     "output_type": "stream",
     "text": [
      "Raw ACU score 0.790196851668\n",
      "C: 30\n",
      "class_weight: 'balanced'\n",
      "gamma: 0.003\n",
      "kernel: 'rbf'\n"
     ]
    },
    {
     "name": "stderr",
     "output_type": "stream",
     "text": [
      "/Library/Frameworks/Python.framework/Versions/3.6/lib/python3.6/site-packages/sklearn/model_selection/_search.py:761: DeprecationWarning: The grid_scores_ attribute was deprecated in version 0.18 in favor of the more elaborate cv_results_ attribute. The grid_scores_ attribute will not be available from 0.20\n",
      "  DeprecationWarning)\n"
     ]
    }
   ],
   "source": [
    "best_parameters, score, _ = max(model_B.grid_scores_, key=lambda x:x[1])\n",
    "print('Raw ACU score', score)\n",
    "\n",
    "for param_name in sorted(best_parameters.keys()):\n",
    "    print(\"%s: %r\"%(param_name, best_parameters[param_name]))"
   ]
  },
  {
   "cell_type": "code",
   "execution_count": 73,
   "metadata": {},
   "outputs": [
    {
     "name": "stdout",
     "output_type": "stream",
     "text": [
      "Raw ACU score 0.954474888704\n",
      "C: 3500\n",
      "gamma: 0.0001\n",
      "kernel: 'rbf'\n"
     ]
    },
    {
     "name": "stderr",
     "output_type": "stream",
     "text": [
      "/Library/Frameworks/Python.framework/Versions/3.6/lib/python3.6/site-packages/sklearn/model_selection/_search.py:761: DeprecationWarning: The grid_scores_ attribute was deprecated in version 0.18 in favor of the more elaborate cv_results_ attribute. The grid_scores_ attribute will not be available from 0.20\n",
      "  DeprecationWarning)\n"
     ]
    }
   ],
   "source": [
    "best_parameters, score, _ = max(model_C.grid_scores_, key=lambda x:x[1])\n",
    "print('Raw ACU score', score)\n",
    "\n",
    "for param_name in sorted(best_parameters.keys()):\n",
    "    print(\"%s: %r\"%(param_name, best_parameters[param_name]))"
   ]
  },
  {
   "cell_type": "code",
   "execution_count": 105,
   "metadata": {
    "collapsed": true
   },
   "outputs": [],
   "source": [
    "model_A = SVC(C=10 , gamma= 0.001, kernel='rbf', probability=True).fit(trans_atrain, ay_train)\n",
    "model_B = SVC(C=30 , gamma= 0.003,kernel='rbf',class_weight='balanced', probability=True).fit(trans_btrain, by_train)\n",
    "model_C = SVC(C=3500, gamma= 0.0001 ,kernel='rbf', probability=True).fit(trans_ctrain, cy_train)"
   ]
  },
  {
   "cell_type": "code",
   "execution_count": 106,
   "metadata": {
    "collapsed": true
   },
   "outputs": [],
   "source": [
    "a_preds = model_A.predict_proba(trans_atest)\n",
    "b_preds = model_B.predict_proba(trans_btest)\n",
    "c_preds = model_C.predict_proba(trans_ctest)\n",
    "\n",
    "# convert preds to data frames\n",
    "a_sub = make_country_sub(a_preds, a_test, 'A')\n",
    "b_sub = make_country_sub(b_preds, b_test, 'B')\n",
    "c_sub = make_country_sub(c_preds, c_test, 'C')"
   ]
  },
  {
   "cell_type": "code",
   "execution_count": 107,
   "metadata": {},
   "outputs": [
    {
     "data": {
      "text/html": [
       "<div>\n",
       "<style scoped>\n",
       "    .dataframe tbody tr th:only-of-type {\n",
       "        vertical-align: middle;\n",
       "    }\n",
       "\n",
       "    .dataframe tbody tr th {\n",
       "        vertical-align: top;\n",
       "    }\n",
       "\n",
       "    .dataframe thead th {\n",
       "        text-align: right;\n",
       "    }\n",
       "</style>\n",
       "<table border=\"1\" class=\"dataframe\">\n",
       "  <thead>\n",
       "    <tr style=\"text-align: right;\">\n",
       "      <th></th>\n",
       "      <th>country</th>\n",
       "      <th>poor</th>\n",
       "    </tr>\n",
       "    <tr>\n",
       "      <th>id</th>\n",
       "      <th></th>\n",
       "      <th></th>\n",
       "    </tr>\n",
       "  </thead>\n",
       "  <tbody>\n",
       "    <tr>\n",
       "      <th>418</th>\n",
       "      <td>A</td>\n",
       "      <td>0.905004</td>\n",
       "    </tr>\n",
       "    <tr>\n",
       "      <th>41249</th>\n",
       "      <td>A</td>\n",
       "      <td>0.002598</td>\n",
       "    </tr>\n",
       "    <tr>\n",
       "      <th>16205</th>\n",
       "      <td>A</td>\n",
       "      <td>0.793149</td>\n",
       "    </tr>\n",
       "    <tr>\n",
       "      <th>97501</th>\n",
       "      <td>A</td>\n",
       "      <td>0.001034</td>\n",
       "    </tr>\n",
       "    <tr>\n",
       "      <th>67756</th>\n",
       "      <td>A</td>\n",
       "      <td>0.984502</td>\n",
       "    </tr>\n",
       "  </tbody>\n",
       "</table>\n",
       "</div>"
      ],
      "text/plain": [
       "      country      poor\n",
       "id                     \n",
       "418         A  0.905004\n",
       "41249       A  0.002598\n",
       "16205       A  0.793149\n",
       "97501       A  0.001034\n",
       "67756       A  0.984502"
      ]
     },
     "execution_count": 107,
     "metadata": {},
     "output_type": "execute_result"
    }
   ],
   "source": [
    "submission = pd.concat([a_sub, b_sub, c_sub])\n",
    "submission.head()"
   ]
  },
  {
   "cell_type": "code",
   "execution_count": 108,
   "metadata": {
    "collapsed": true
   },
   "outputs": [],
   "source": [
    "submission.to_csv('SVC_adjusted.csv')"
   ]
  },
  {
   "cell_type": "code",
   "execution_count": null,
   "metadata": {
    "collapsed": true
   },
   "outputs": [],
   "source": []
  }
 ],
 "metadata": {
  "kernelspec": {
   "display_name": "Python 3",
   "language": "python",
   "name": "python3"
  },
  "language_info": {
   "codemirror_mode": {
    "name": "ipython",
    "version": 3
   },
   "file_extension": ".py",
   "mimetype": "text/x-python",
   "name": "python",
   "nbconvert_exporter": "python",
   "pygments_lexer": "ipython3",
   "version": "3.6.2"
  }
 },
 "nbformat": 4,
 "nbformat_minor": 2
}
