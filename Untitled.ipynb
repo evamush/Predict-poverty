{
 "cells": [
  {
   "cell_type": "code",
   "execution_count": 26,
   "metadata": {
    "collapsed": true
   },
   "outputs": [],
   "source": [
    "%matplotlib inline\n",
    "\n",
    "import os\n",
    "\n",
    "import numpy as np\n",
    "import pandas as pd\n",
    "from collections import Counter\n",
    "import matplotlib.pyplot as plt\n",
    "\n",
    "# data directory\n",
    "DATA_DIR = os.path.join( 'data', 'processed')"
   ]
  },
  {
   "cell_type": "code",
   "execution_count": 18,
   "metadata": {},
   "outputs": [
    {
     "name": "stderr",
     "output_type": "stream",
     "text": [
      "Using TensorFlow backend.\n",
      "/Library/Frameworks/Python.framework/Versions/3.6/lib/python3.6/importlib/_bootstrap.py:205: RuntimeWarning: compiletime version 3.5 of module 'tensorflow.python.framework.fast_tensor_util' does not match runtime version 3.6\n",
      "  return f(*args, **kwds)\n"
     ]
    }
   ],
   "source": [
    "import pandas as pd\n",
    "import numpy as np\n",
    "import xgboost as xgb\n",
    "from tqdm import tqdm\n",
    "from sklearn.svm import SVC\n",
    "from keras.models import Sequential\n",
    "from keras.layers.recurrent import LSTM, GRU\n",
    "from keras.layers.core import Dense, Activation, Dropout\n",
    "from keras.layers.embeddings import Embedding\n",
    "from keras.layers.normalization import BatchNormalization\n",
    "from keras.utils import np_utils\n",
    "from sklearn import preprocessing, decomposition, model_selection, metrics, pipeline\n",
    "from sklearn.model_selection import GridSearchCV\n",
    "from sklearn.feature_extraction.text import TfidfVectorizer, CountVectorizer\n",
    "from sklearn.decomposition import TruncatedSVD\n",
    "from sklearn.linear_model import LogisticRegression\n",
    "from sklearn.model_selection import train_test_split\n",
    "from sklearn.naive_bayes import MultinomialNB\n",
    "from keras.layers import GlobalMaxPooling1D, Conv1D, MaxPooling1D, Flatten, Bidirectional, SpatialDropout1D\n",
    "from keras.preprocessing import sequence, text\n",
    "from keras.callbacks import EarlyStopping\n",
    "from nltk import word_tokenize\n",
    "from nltk.corpus import stopwords\n",
    "stop_words = stopwords.words('english')"
   ]
  },
  {
   "cell_type": "code",
   "execution_count": 19,
   "metadata": {
    "collapsed": true
   },
   "outputs": [],
   "source": [
    "data_paths = {'A': {'train': os.path.join(DATA_DIR, 'A', 'A_hhold_train.csv'), \n",
    "                    'test':  os.path.join(DATA_DIR, 'A', 'A_hhold_test.csv'),\n",
    "                    'Itrain': os.path.join(DATA_DIR, 'A', 'A_indiv_train.csv'),\n",
    "                    'Itest': os.path.join(DATA_DIR, 'A', 'A_indiv_test.csv')}, \n",
    "              \n",
    "              'B': {'train': os.path.join(DATA_DIR, 'B', 'B_hhold_train.csv'), \n",
    "                    'test':  os.path.join(DATA_DIR, 'B', 'B_hhold_test.csv'),\n",
    "                    'Itrain': os.path.join(DATA_DIR, 'B', 'B_indiv_train.csv'),\n",
    "                    'Itest': os.path.join(DATA_DIR, 'B', 'B_indiv_test.csv')}, \n",
    "              \n",
    "              'C': {'train': os.path.join(DATA_DIR, 'C', 'C_hhold_train.csv'), \n",
    "                    'test':  os.path.join(DATA_DIR, 'C', 'C_hhold_test.csv'),\n",
    "                    'Itrain': os.path.join(DATA_DIR, 'C', 'C_indiv_train.csv'),\n",
    "                    'Itest': os.path.join(DATA_DIR, 'C', 'C_indiv_test.csv')}}"
   ]
  },
  {
   "cell_type": "code",
   "execution_count": 20,
   "metadata": {
    "collapsed": true
   },
   "outputs": [],
   "source": [
    "# Standardize features\n",
    "def standardize(df, numeric_only=True):\n",
    "    numeric = df.select_dtypes(include=['int64', 'float64'])\n",
    "    df[numeric.columns] = (numeric - numeric.mean()) / numeric.std()\n",
    "    return df\n",
    "    \n",
    "\n",
    "def pre_process_data(df, enforce_cols=None):\n",
    "    \n",
    "    print(\"Input shape:\\t{}\".format(df.shape)) \n",
    "    \n",
    "#     df = standardize(df)\n",
    "\n",
    "    df = pd.get_dummies(df)\n",
    "    print(\"After converting categoricals:\\t{}\".format(df.shape))\n",
    "    if enforce_cols is not None:\n",
    "        to_drop = np.setdiff1d(df.columns, enforce_cols)\n",
    "        to_add = np.setdiff1d(enforce_cols, df.columns)\n",
    "\n",
    "        df.drop(to_drop, axis=1, inplace=True)\n",
    "        df = df.assign(**{c: 0 for c in to_add})\n",
    "    \n",
    "    df.fillna(0, inplace=True)\n",
    "    \n",
    "    return df \n",
    "def drop(df, col, threshold):\n",
    "    poor_count = sum(df['poor'])\n",
    "    non_count = df.shape[0]-poor_count\n",
    "    col_poor = Counter(df[col][df['poor'] == True])\n",
    "    col_non_poor = Counter(df[col][df['poor'] == False])\n",
    "    key = set(col_poor.keys())|set(col_poor.keys())\n",
    "    poor_value, non_poor_value = any([i/poor_count>threshold for i in col_poor.values()]), any([i/non_count>threshold for i in col_non_poor.values()])\n",
    "    if poor_value & non_poor_value:\n",
    "        return df.drop([col],axis=1)\n",
    "    else: return df\n",
    "\n",
    "def drop_col(hhold, indi, hhold_threshold, indi_threshold):\n",
    "    hhold_poor = sum(hhold['poor'])\n",
    "    hhold_no = hhold.shape[0] - hhold_poor\n",
    "    indi_poor = sum(indi['poor'])\n",
    "    indi_no = indi.shape[0] - indi_poor\n",
    "    for col in hhold:\n",
    "        if col == 'poor' or col == 'country': continue\n",
    "        h_col_poor = Counter(hhold[col][hhold['poor'] == True])\n",
    "        h_col_non = Counter(hhold[col][hhold['poor'] == False])\n",
    "        if any([i/hhold_poor>hhold_threshold for i in h_col_poor.values()]) & any([i/hhold_no>hhold_threshold for i in h_col_non.values()]):\n",
    "            hhold = hhold.drop([col], axis = 1)\n",
    "    for col in indi:\n",
    "        if col == 'poor' or col == 'country' or col == 'iid': continue\n",
    "        i_col_poor = Counter(indi[col][indi['poor'] == True])\n",
    "        i_col_non = Counter(indi[col][indi['poor'] == False])\n",
    "        if any([i/indi_poor>indi_threshold for i in i_col_poor.values()]) & any([i/indi_no>indi_threshold for i in i_col_non.values()]):\n",
    "            indi = indi.drop([col], axis = 1)\n",
    "    return hhold, indi.drop(['poor','country'],axis=1)\n",
    "    \n",
    "def combine_hhold_indi(hhold, indi):\n",
    "    hhold = pre_process_data(hhold)\n",
    "    iid_count = pd.DataFrame(indi.groupby('id')['iid'].count())\n",
    "    iid_count.columns = ['family_numbers']\n",
    "    indi = indi.drop('iid',axis=1)\n",
    "    indi_num = indi.select_dtypes(include=['int64', 'float64'])\n",
    "    indi_obj = indi.drop(list(indi_num.columns), axis = 1)\n",
    "    indi_obj = pd.get_dummies(indi_obj)\n",
    "    indi_num = indi_num.fillna(indi_num.mean())\n",
    "    indi_obj = pre_process_data(indi_obj)\n",
    "    indi_num = indi_num.groupby('id')[list(indi_num.columns)].mean()\n",
    "#     indi_num = standardize(indi_num)\n",
    "    indi_obj = indi_obj.groupby('id')[list(indi_obj.columns)].sum()/indi_obj.groupby('id')[list(indi_obj.columns)].count()\n",
    "    com = pd.concat([iid_count,indi_num,indi_obj,hhold],axis=1)\n",
    "    com.fillna(-100,inplace=True)\n",
    "    return com\n",
    "\n",
    "def order(df_test, df_train, ori_test):\n",
    "    new_df = pd.DataFrame()\n",
    "    for key in df_train:\n",
    "        new_df[key] = df_test[key]\n",
    "    new_df = new_df.loc[ori_test.index]\n",
    "    return new_df\n",
    "def mll(y_true,y_pred):\n",
    "    loss = 0\n",
    "    for i in range(3):\n",
    "        for j in range(len(y_true[i])):\n",
    "            loss += y_true[i][j]*np.log(y_pred[i][j])+(1-y_true[i][j])*np.log(1-y_pred[i][j])\n",
    "        loss = loss / (j+1)\n",
    "    return -loss/3\n",
    "\n",
    "def combine_test_hhold_indi(hhold, indi, train):\n",
    "    hhold = pre_process_data(hhold.drop('country',axis = 1))\n",
    "    iid_count = pd.DataFrame(indi.groupby('id')['iid'].count())\n",
    "    iid_count.columns = ['family_numbers']\n",
    "    indi = indi.drop('iid',axis=1)\n",
    "    indi_num = indi.select_dtypes(include=['int64', 'float64'])\n",
    "    indi_obj = indi.drop(list(indi_num.columns), axis = 1)\n",
    "    indi_obj = pd.get_dummies(indi_obj)\n",
    "    indi_num = indi_num.fillna(indi_num.mean())\n",
    "    indi_obj = pre_process_data(indi_obj)\n",
    "    indi_num = indi_num.groupby('id')[list(indi_num.columns)].mean()\n",
    "#     indi_num = standardize(indi_num)\n",
    "    indi_obj = indi_obj.groupby('id')[list(indi_obj.columns)].sum()/indi_obj.groupby('id')[list(indi_obj.columns)].count()\n",
    "    com = pd.concat([iid_count,indi_num,indi_obj,hhold],axis=1)\n",
    "    to_drop = np.setdiff1d(com.columns, train.columns)\n",
    "    to_add = np.setdiff1d(train.columns, com.columns)\n",
    "\n",
    "    com.drop(to_drop, axis=1, inplace=True)\n",
    "    com = com.assign(**{c: 0 for c in to_add})\n",
    "    \n",
    "    com.fillna(0, inplace=True)\n",
    "    return com"
   ]
  },
  {
   "cell_type": "code",
   "execution_count": 21,
   "metadata": {
    "collapsed": true
   },
   "outputs": [],
   "source": [
    "# load training data\n",
    "a_train = pd.read_csv(data_paths['A']['train'], index_col='id')\n",
    "b_train = pd.read_csv(data_paths['B']['train'], index_col='id')\n",
    "c_train = pd.read_csv(data_paths['C']['train'], index_col='id')\n",
    "\n",
    "ai_train = pd.read_csv(data_paths['A']['Itrain'], index_col='id')\n",
    "bi_train = pd.read_csv(data_paths['B']['Itrain'], index_col='id').drop('wJthinfa',axis=1)\n",
    "ci_train = pd.read_csv(data_paths['C']['Itrain'], index_col='id')"
   ]
  },
  {
   "cell_type": "code",
   "execution_count": 22,
   "metadata": {
    "collapsed": true
   },
   "outputs": [],
   "source": [
    "# load test data\n",
    "a_test = pd.read_csv(data_paths['A']['test'], index_col='id')\n",
    "b_test = pd.read_csv(data_paths['B']['test'], index_col='id')\n",
    "c_test = pd.read_csv(data_paths['C']['test'], index_col='id')\n",
    "ai_test = pd.read_csv(data_paths['A']['Itest'], index_col='id')\n",
    "bi_test = pd.read_csv(data_paths['B']['Itest'], index_col='id').drop('wJthinfa',axis=1)\n",
    "ci_test = pd.read_csv(data_paths['C']['Itest'], index_col='id')"
   ]
  },
  {
   "cell_type": "code",
   "execution_count": 23,
   "metadata": {},
   "outputs": [
    {
     "name": "stdout",
     "output_type": "stream",
     "text": [
      "Input shape:\t(8203, 227)\n",
      "After converting categoricals:\t(8203, 612)\n",
      "Input shape:\t(37560, 255)\n",
      "After converting categoricals:\t(37560, 255)\n",
      "Input shape:\t(3255, 340)\n",
      "After converting categoricals:\t(3255, 1221)\n",
      "Input shape:\t(20252, 1039)\n",
      "After converting categoricals:\t(20252, 1039)\n",
      "Input shape:\t(6469, 155)\n",
      "After converting categoricals:\t(6469, 741)\n",
      "Input shape:\t(29913, 279)\n",
      "After converting categoricals:\t(29913, 279)\n"
     ]
    }
   ],
   "source": [
    "train_a,train_ai = drop_col(a_train,ai_train,0.95,0.95)\n",
    "A_train = combine_hhold_indi(train_a,train_ai)\n",
    "train_b,train_bi = drop_col(b_train,bi_train,0.95,0.95)\n",
    "B_train = combine_hhold_indi(train_b,train_bi)\n",
    "train_c,train_ci = drop_col(c_train,ci_train,0.95,0.95)\n",
    "C_train = combine_hhold_indi(train_c,train_ci)\n",
    "A_train = A_train.sample(frac=1)\n",
    "B_train = B_train.sample(frac=1)\n",
    "C_train = C_train.sample(frac=1)"
   ]
  },
  {
   "cell_type": "code",
   "execution_count": 24,
   "metadata": {},
   "outputs": [
    {
     "name": "stdout",
     "output_type": "stream",
     "text": [
      "Input shape:\t(4041, 343)\n",
      "After converting categoricals:\t(4041, 850)\n",
      "Input shape:\t(18535, 271)\n",
      "After converting categoricals:\t(18535, 271)\n",
      "Input shape:\t(1604, 440)\n",
      "After converting categoricals:\t(1604, 1418)\n",
      "Input shape:\t(10066, 1502)\n",
      "After converting categoricals:\t(10066, 1502)\n",
      "Input shape:\t(3187, 162)\n",
      "After converting categoricals:\t(3187, 772)\n",
      "Input shape:\t(14701, 296)\n",
      "After converting categoricals:\t(14701, 296)\n"
     ]
    }
   ],
   "source": [
    "aX_train = A_train.drop('poor', axis = 1) \n",
    "aY_train = A_train['poor'].values\n",
    "bX_train = B_train.drop('poor', axis = 1) \n",
    "bY_train = B_train['poor'].values\n",
    "cX_train = C_train.drop('poor', axis = 1) \n",
    "cY_train = C_train['poor'].values\n",
    "A_test = combine_test_hhold_indi(a_test, ai_test, aX_train)\n",
    "B_test = combine_test_hhold_indi(b_test, bi_test, bX_train)\n",
    "C_test = combine_test_hhold_indi(c_test, ci_test, cX_train)\n",
    "A_test = order(A_test, aX_train, a_test)\n",
    "B_test = order(B_test, bX_train, b_test)\n",
    "C_test = order(C_test, cX_train, c_test)"
   ]
  },
  {
   "cell_type": "code",
   "execution_count": null,
   "metadata": {
    "collapsed": true
   },
   "outputs": [],
   "source": []
  },
  {
   "cell_type": "code",
   "execution_count": 25,
   "metadata": {
    "collapsed": true
   },
   "outputs": [],
   "source": [
    "import math as mt\n",
    "import csv\n",
    "from sparsesvd import sparsesvd #used for matrix factorization\n",
    "import numpy as np\n",
    "from scipy.sparse import csc_matrix #used for sparse matrix\n",
    "from scipy.sparse.linalg import * #used for matrix multiplication\n"
   ]
  },
  {
   "cell_type": "code",
   "execution_count": 27,
   "metadata": {
    "collapsed": true
   },
   "outputs": [],
   "source": [
    "def make_country_sub(preds, test_feat, country):\n",
    "    # make sure we code the country correctly\n",
    "    country_codes = ['A', 'B', 'C']\n",
    "    \n",
    "    # get just the poor probabilities\n",
    "    country_sub = pd.DataFrame(data=preds[:, 1],  # proba p=1\n",
    "                               columns=['poor'], \n",
    "                               index=test_feat.index)\n",
    "\n",
    "    \n",
    "    # add the country code for joining later\n",
    "    country_sub[\"country\"] = country\n",
    "    return country_sub[[\"country\", \"poor\"]]"
   ]
  },
  {
   "cell_type": "code",
   "execution_count": null,
   "metadata": {
    "collapsed": true
   },
   "outputs": [],
   "source": []
  },
  {
   "cell_type": "code",
   "execution_count": 90,
   "metadata": {},
   "outputs": [
    {
     "name": "stdout",
     "output_type": "stream",
     "text": [
      "Train samples: 6562 Validation samples: 1641\n"
     ]
    }
   ],
   "source": [
    "from sklearn.model_selection import train_test_split\n",
    "from sklearn.svm import SVC\n",
    "from sklearn.model_selection import GridSearchCV\n",
    "from sklearn import preprocessing, decomposition, model_selection, metrics, pipeline\n",
    "from sklearn.cross_validation import StratifiedKFold,train_test_split\n",
    "from sklearn.ensemble import RandomForestClassifier, RandomForestRegressor\n",
    "\n",
    "\n",
    "ax_train,ax_valid,ay_train,ay_valid = train_test_split(aX_train, aY_train, test_size=0.2, random_state=4242)\n",
    "print('Train samples: {} Validation samples: {}'.format(len(ax_train), len(ax_valid)))\n",
    "bx_train,bx_valid,by_train,by_valid = train_test_split(bX_train, bY_train, test_size=0.2, random_state=4242)\n",
    "cx_train,cx_valid,cy_train,cy_valid = train_test_split(cX_train, cY_train, test_size=0.2, random_state=4242)"
   ]
  },
  {
   "cell_type": "markdown",
   "metadata": {},
   "source": [
    "# random forest"
   ]
  },
  {
   "cell_type": "code",
   "execution_count": 112,
   "metadata": {
    "collapsed": true
   },
   "outputs": [],
   "source": [
    "params  = { \n",
    "           \"n_estimators\" : [9, 18, 27, 36, 45, 54, 63],\n",
    "           \"max_depth\" : [1, 5, 10, 15, 20, 25, 30],\n",
    "           \"min_samples_leaf\" : [1, 2, 4, 6, 8, 10]}"
   ]
  },
  {
   "cell_type": "code",
   "execution_count": null,
   "metadata": {},
   "outputs": [],
   "source": [
    "RF = RandomForestForest(min_samples_split=100,min_samples_leaf=20,max_depth=8,max_features='sqrt' ,random_state=10)\n",
    "model_A = GridSearchCV(estimator = RF, param_grid=params,cv=10).fit(ax_train, ay_train)"
   ]
  },
  {
   "cell_type": "code",
   "execution_count": null,
   "metadata": {
    "collapsed": true
   },
   "outputs": [],
   "source": [
    "model_B = GridSearchCV(estimator = RandomForestForest(min_samples_split=100,\n",
    "                                  min_samples_leaf=20,max_depth=8,max_features='sqrt' ,random_state=10),\n",
    "                       param_grid=params, n_jobs=5,\n",
    "                       cv=StratifiedKFold(by_train, n_folds=5,shuffle=True),\n",
    "                       scoring='roc_auc').fit(trans_btrain, by_train)"
   ]
  },
  {
   "cell_type": "code",
   "execution_count": 95,
   "metadata": {},
   "outputs": [
    {
     "data": {
      "text/plain": [
       "0.7915904936014625"
      ]
     },
     "execution_count": 95,
     "metadata": {},
     "output_type": "execute_result"
    }
   ],
   "source": [
    "tscore_A =RandomForestClassifier(bootstrap=True, class_weight=None, criterion='gini',\n",
    "            max_depth=7, max_features='sqrt', max_leaf_nodes=None,\n",
    "            min_impurity_decrease=0.0, min_impurity_split=None,\n",
    "            min_samples_leaf=20, min_samples_split=100,\n",
    "            min_weight_fraction_leaf=0.0, n_estimators=60, n_jobs=1,\n",
    "            oob_score=False, random_state=10, verbose=0, warm_start=False).fit(trans_atrain, ay_train)\n",
    "tscore_A.score(trans_avalid, ay_valid)"
   ]
  },
  {
   "cell_type": "code",
   "execution_count": 111,
   "metadata": {
    "collapsed": true
   },
   "outputs": [],
   "source": [
    "from sklearn.ensemble import RandomForestClassifier\n",
    "\n",
    "def randomforest(features, labels, **kwargs):\n",
    "    \n",
    "    # instantiate model\n",
    "    model = RandomForestClassifier(n_estimators=50, random_state=0)\n",
    "    \n",
    "    # train model\n",
    "    model.fit(features, labels)\n",
    "    \n",
    "    # get a (not-very-useful) sense of performance\n",
    "    accuracy = model.score(features, labels)\n",
    "    print(f\"In-sample accuracy: {accuracy:0.2%}\")\n",
    "    \n",
    "    return model"
   ]
  },
  {
   "cell_type": "code",
   "execution_count": 112,
   "metadata": {},
   "outputs": [
    {
     "name": "stdout",
     "output_type": "stream",
     "text": [
      "In-sample accuracy: 100.00%\n",
      "In-sample accuracy: 99.94%\n",
      "In-sample accuracy: 100.00%\n"
     ]
    }
   ],
   "source": [
    "model_a = randomforest(aX_train, aY_train)\n",
    "model_b = randomforest(bX_train, bY_train)\n",
    "model_c = randomforest(cX_train, cY_train)"
   ]
  },
  {
   "cell_type": "code",
   "execution_count": 113,
   "metadata": {},
   "outputs": [
    {
     "name": "stdout",
     "output_type": "stream",
     "text": [
      "Input shape:\t(4041, 344)\n",
      "After standardization (4041, 344)\n",
      "After converting categoricals:\t(4041, 851)\n",
      "Input shape:\t(1604, 441)\n",
      "After standardization (1604, 441)\n",
      "After converting categoricals:\t(1604, 1419)\n",
      "Input shape:\t(3187, 163)\n",
      "After standardization (3187, 163)\n",
      "After converting categoricals:\t(3187, 773)\n"
     ]
    }
   ],
   "source": [
    "# load test data\n",
    "a_test = pd.read_csv(data_paths['A']['test'], index_col='id')\n",
    "b_test = pd.read_csv(data_paths['B']['test'], index_col='id')\n",
    "c_test = pd.read_csv(data_paths['C']['test'], index_col='id')\n",
    "# process the test data\n",
    "a_test = pre_process_data(a_test, enforce_cols=aX_train.columns)\n",
    "b_test = pre_process_data(b_test, enforce_cols=bX_train.columns)\n",
    "c_test = pre_process_data(c_test, enforce_cols=cX_train.columns)"
   ]
  },
  {
   "cell_type": "code",
   "execution_count": 114,
   "metadata": {
    "collapsed": true
   },
   "outputs": [],
   "source": [
    "def make_country_sub(preds, test_feat, country):\n",
    "    # make sure we code the country correctly\n",
    "    country_codes = ['A', 'B', 'C']\n",
    "    \n",
    "    # get just the poor probabilities\n",
    "    country_sub = pd.DataFrame(data=preds[:, 1],  # proba p=1\n",
    "                               columns=['poor'], \n",
    "                               index=test_feat.index)\n",
    "\n",
    "    \n",
    "    # add the country code for joining later\n",
    "    country_sub[\"country\"] = country\n",
    "    return country_sub[[\"country\", \"poor\"]]"
   ]
  },
  {
   "cell_type": "code",
   "execution_count": 115,
   "metadata": {
    "collapsed": true
   },
   "outputs": [],
   "source": [
    "a_preds = model_a.predict_proba(a_test)\n",
    "b_preds = model_b.predict_proba(b_test)\n",
    "c_preds = model_c.predict_proba(c_test)\n",
    "# convert preds to data frames\n",
    "a_sub = make_country_sub(a_preds, a_test, 'A')\n",
    "b_sub = make_country_sub(b_preds, b_test, 'B')\n",
    "c_sub = make_country_sub(c_preds, c_test, 'C')"
   ]
  },
  {
   "cell_type": "code",
   "execution_count": 116,
   "metadata": {},
   "outputs": [
    {
     "data": {
      "text/html": [
       "<div>\n",
       "<style scoped>\n",
       "    .dataframe tbody tr th:only-of-type {\n",
       "        vertical-align: middle;\n",
       "    }\n",
       "\n",
       "    .dataframe tbody tr th {\n",
       "        vertical-align: top;\n",
       "    }\n",
       "\n",
       "    .dataframe thead th {\n",
       "        text-align: right;\n",
       "    }\n",
       "</style>\n",
       "<table border=\"1\" class=\"dataframe\">\n",
       "  <thead>\n",
       "    <tr style=\"text-align: right;\">\n",
       "      <th></th>\n",
       "      <th>country</th>\n",
       "      <th>poor</th>\n",
       "    </tr>\n",
       "    <tr>\n",
       "      <th>id</th>\n",
       "      <th></th>\n",
       "      <th></th>\n",
       "    </tr>\n",
       "  </thead>\n",
       "  <tbody>\n",
       "    <tr>\n",
       "      <th>6775</th>\n",
       "      <td>C</td>\n",
       "      <td>0.30</td>\n",
       "    </tr>\n",
       "    <tr>\n",
       "      <th>88300</th>\n",
       "      <td>C</td>\n",
       "      <td>0.20</td>\n",
       "    </tr>\n",
       "    <tr>\n",
       "      <th>35424</th>\n",
       "      <td>C</td>\n",
       "      <td>0.20</td>\n",
       "    </tr>\n",
       "    <tr>\n",
       "      <th>81668</th>\n",
       "      <td>C</td>\n",
       "      <td>0.28</td>\n",
       "    </tr>\n",
       "    <tr>\n",
       "      <th>98377</th>\n",
       "      <td>C</td>\n",
       "      <td>0.18</td>\n",
       "    </tr>\n",
       "  </tbody>\n",
       "</table>\n",
       "</div>"
      ],
      "text/plain": [
       "      country  poor\n",
       "id                 \n",
       "6775        C  0.30\n",
       "88300       C  0.20\n",
       "35424       C  0.20\n",
       "81668       C  0.28\n",
       "98377       C  0.18"
      ]
     },
     "execution_count": 116,
     "metadata": {},
     "output_type": "execute_result"
    }
   ],
   "source": [
    "submission = pd.concat([a_sub, b_sub, c_sub])\n",
    "submission.head()\n",
    "submission.tail()"
   ]
  },
  {
   "cell_type": "markdown",
   "metadata": {
    "collapsed": true
   },
   "source": [
    "# logistic regression"
   ]
  },
  {
   "cell_type": "code",
   "execution_count": 26,
   "metadata": {
    "collapsed": true
   },
   "outputs": [],
   "source": [
    "xtrain, xvalid, ytrain, yvalid = train_test_split(aX_train, ay_train, \n",
    "                                                  stratify=ay_train, \n",
    "                                                  random_state=42, \n",
    "                                                  test_size=0.1, shuffle=True)"
   ]
  },
  {
   "cell_type": "code",
   "execution_count": 27,
   "metadata": {},
   "outputs": [
    {
     "name": "stdout",
     "output_type": "stream",
     "text": [
      "(7382, 859)\n",
      "(821, 859)\n"
     ]
    }
   ],
   "source": [
    "print (xtrain.shape)\n",
    "print (xvalid.shape)"
   ]
  },
  {
   "cell_type": "code",
   "execution_count": 60,
   "metadata": {
    "collapsed": true
   },
   "outputs": [],
   "source": [
    "from sklearn.linear_model import LogisticRegression\n",
    "\n",
    "def logistic_regression(features, labels, **kwargs):\n",
    "    \n",
    "    # instantiate model\n",
    "    model = LogisticRegression(C=0.0001)\n",
    "    \n",
    "    # train model\n",
    "    model.fit(features, labels)\n",
    "    \n",
    "    # get a (not-very-useful) sense of performance\n",
    "    accuracy = model.score(features, labels)\n",
    "    print(f\"In-sample accuracy: {accuracy:0.2%}\")\n",
    "    \n",
    "    return model"
   ]
  },
  {
   "cell_type": "code",
   "execution_count": 61,
   "metadata": {},
   "outputs": [
    {
     "name": "stdout",
     "output_type": "stream",
     "text": [
      "In-sample accuracy: 79.46%\n",
      "In-sample accuracy: 92.29%\n",
      "In-sample accuracy: 85.02%\n"
     ]
    }
   ],
   "source": [
    "model_a = logistic_regression(aX_train, ay_train)\n",
    "model_b = logistic_regression(bX_train, by_train)\n",
    "model_c = logistic_regression(cX_train, cy_train)\n"
   ]
  },
  {
   "cell_type": "code",
   "execution_count": 49,
   "metadata": {},
   "outputs": [
    {
     "name": "stdout",
     "output_type": "stream",
     "text": [
      "Input shape:\t(4041, 344)\n",
      "After standardization (4041, 344)\n",
      "After converting categoricals:\t(4041, 851)\n",
      "Input shape:\t(1604, 441)\n",
      "After standardization (1604, 441)\n",
      "After converting categoricals:\t(1604, 1419)\n",
      "Input shape:\t(3187, 163)\n",
      "After standardization (3187, 163)\n",
      "After converting categoricals:\t(3187, 773)\n"
     ]
    }
   ],
   "source": [
    "# load test data\n",
    "a_test = pd.read_csv(data_paths['A']['test'], index_col='id')\n",
    "b_test = pd.read_csv(data_paths['B']['test'], index_col='id')\n",
    "c_test = pd.read_csv(data_paths['C']['test'], index_col='id')\n",
    "# process the test data\n",
    "a_test = pre_process_data(a_test, enforce_cols=aX_train.columns)\n",
    "b_test = pre_process_data(b_test, enforce_cols=bX_train.columns)\n",
    "c_test = pre_process_data(c_test, enforce_cols=cX_train.columns)"
   ]
  },
  {
   "cell_type": "code",
   "execution_count": 50,
   "metadata": {
    "collapsed": true
   },
   "outputs": [],
   "source": [
    "a_preds = model_a.predict_proba(a_test)\n",
    "b_preds = model_b.predict_proba(b_test)\n",
    "c_preds = model_c.predict_proba(c_test)\n",
    "# convert preds to data frames\n",
    "a_sub = make_country_sub(a_preds, a_test, 'A')\n",
    "b_sub = make_country_sub(b_preds, b_test, 'B')\n",
    "c_sub = make_country_sub(c_preds, c_test, 'C')"
   ]
  },
  {
   "cell_type": "code",
   "execution_count": 51,
   "metadata": {},
   "outputs": [
    {
     "data": {
      "text/html": [
       "<div>\n",
       "<style scoped>\n",
       "    .dataframe tbody tr th:only-of-type {\n",
       "        vertical-align: middle;\n",
       "    }\n",
       "\n",
       "    .dataframe tbody tr th {\n",
       "        vertical-align: top;\n",
       "    }\n",
       "\n",
       "    .dataframe thead th {\n",
       "        text-align: right;\n",
       "    }\n",
       "</style>\n",
       "<table border=\"1\" class=\"dataframe\">\n",
       "  <thead>\n",
       "    <tr style=\"text-align: right;\">\n",
       "      <th></th>\n",
       "      <th>country</th>\n",
       "      <th>poor</th>\n",
       "    </tr>\n",
       "    <tr>\n",
       "      <th>id</th>\n",
       "      <th></th>\n",
       "      <th></th>\n",
       "    </tr>\n",
       "  </thead>\n",
       "  <tbody>\n",
       "    <tr>\n",
       "      <th>6775</th>\n",
       "      <td>C</td>\n",
       "      <td>0.368843</td>\n",
       "    </tr>\n",
       "    <tr>\n",
       "      <th>88300</th>\n",
       "      <td>C</td>\n",
       "      <td>0.303913</td>\n",
       "    </tr>\n",
       "    <tr>\n",
       "      <th>35424</th>\n",
       "      <td>C</td>\n",
       "      <td>0.302237</td>\n",
       "    </tr>\n",
       "    <tr>\n",
       "      <th>81668</th>\n",
       "      <td>C</td>\n",
       "      <td>0.305962</td>\n",
       "    </tr>\n",
       "    <tr>\n",
       "      <th>98377</th>\n",
       "      <td>C</td>\n",
       "      <td>0.260666</td>\n",
       "    </tr>\n",
       "  </tbody>\n",
       "</table>\n",
       "</div>"
      ],
      "text/plain": [
       "      country      poor\n",
       "id                     \n",
       "6775        C  0.368843\n",
       "88300       C  0.303913\n",
       "35424       C  0.302237\n",
       "81668       C  0.305962\n",
       "98377       C  0.260666"
      ]
     },
     "execution_count": 51,
     "metadata": {},
     "output_type": "execute_result"
    }
   ],
   "source": [
    "submission = pd.concat([a_sub, b_sub, c_sub])\n",
    "submission.head()\n",
    "submission.tail()"
   ]
  },
  {
   "cell_type": "markdown",
   "metadata": {},
   "source": [
    "# SVD"
   ]
  },
  {
   "cell_type": "code",
   "execution_count": 28,
   "metadata": {},
   "outputs": [
    {
     "name": "stdout",
     "output_type": "stream",
     "text": [
      "Train samples: 6562 Validation samples: 1641\n"
     ]
    }
   ],
   "source": [
    "from sklearn.model_selection import train_test_split\n",
    "from sklearn.svm import SVC\n",
    "from sklearn.model_selection import GridSearchCV\n",
    "from sklearn import preprocessing, decomposition, model_selection, metrics, pipeline\n",
    "from sklearn.cross_validation import StratifiedKFold,train_test_split\n",
    "from sklearn.ensemble import RandomForestClassifier\n",
    "\n",
    "\n",
    "ax_train,ax_valid,ay_train,ay_valid = train_test_split(aX_train, aY_train, test_size=0.2, random_state=4242)\n",
    "print('Train samples: {} Validation samples: {}'.format(len(ax_train), len(ax_valid)))\n",
    "bx_train,bx_valid,by_train,by_valid = train_test_split(bX_train, bY_train, test_size=0.2, random_state=4242)\n",
    "cx_train,cx_valid,cy_train,cy_valid = train_test_split(cX_train, cY_train, test_size=0.2, random_state=4242)"
   ]
  },
  {
   "cell_type": "code",
   "execution_count": 29,
   "metadata": {},
   "outputs": [
    {
     "name": "stderr",
     "output_type": "stream",
     "text": [
      "/Library/Frameworks/Python.framework/Versions/3.6/lib/python3.6/site-packages/sklearn/cross_validation.py:41: DeprecationWarning: This module was deprecated in version 0.18 in favor of the model_selection module into which all the refactored classes and functions are moved. Also note that the interface of the new CV iterators are different from that of this module. This module will be removed in 0.20.\n",
      "  \"This module will be removed in 0.20.\", DeprecationWarning)\n"
     ]
    }
   ],
   "source": [
    "def transform(trainfeatures,testfeatures, validfeatures, n,**kwargs):\n",
    "    svd = decomposition.TruncatedSVD(n_components=n)\n",
    "    svd.fit(trainfeatures)\n",
    "    trainfeatures_svd = svd.transform(trainfeatures)\n",
    "    testfeatures_svd = svd.transform(testfeatures)\n",
    "    validfeatures_svd = svd.transform(validfeatures)\n",
    "    \n",
    "    scl = preprocessing.StandardScaler()\n",
    "    scl.fit(trainfeatures_svd)\n",
    "    trainfeatures_svd_scl = scl.transform(trainfeatures_svd)\n",
    "    testfeatures_svd_scl = scl.transform(testfeatures_svd) \n",
    "    validfeatures_svd_scl = scl.transform(validfeatures_svd) \n",
    "    return trainfeatures_svd_scl,testfeatures_svd_scl,validfeatures_svd_scl"
   ]
  },
  {
   "cell_type": "code",
   "execution_count": 30,
   "metadata": {
    "collapsed": true
   },
   "outputs": [],
   "source": [
    "trans_atrain, trans_atest, trans_avalid = transform(ax_train, A_test, ax_valid, 340)\n",
    "trans_btrain, trans_btest, trans_bvalid = transform(bx_train, B_test, bx_valid, 440)\n",
    "trans_ctrain, trans_ctest, trans_cvalid = transform(cx_train, C_test, cx_valid, 160)"
   ]
  },
  {
   "cell_type": "raw",
   "metadata": {
    "collapsed": true
   },
   "source": [
    "from sklearn.svm import SVC\n",
    "def SVC_model(trainfeatures, testfeatures, labels, country,n,**kwargs):\n",
    "    svd = decomposition.TruncatedSVD(n_components=n)\n",
    "    svd.fit(trainfeatures)\n",
    "    trainfeatures_svd = svd.transform(trainfeatures)\n",
    "    testfeatures_svd = svd.transform(testfeatures)\n",
    "   \n",
    "    scl = preprocessing.StandardScaler()\n",
    "    scl.fit(trainfeatures_svd)\n",
    "    trainfeatures_svd_scl = scl.transform(trainfeatures_svd)\n",
    "    testfeatures_svd_scl = scl.transform(testfeatures_svd)\n",
    "    \n",
    "    # instantiate model\n",
    "    model = SVC(C=1.0, probability=True)\n",
    "    \n",
    "    # train model\n",
    "    model.fit(trainfeatures_svd_scl, labels)\n",
    "    \n",
    "    # get a (not-very-useful) sense of performance\n",
    "    accuracy = model.score(trainfeatures_svd_scl, labels)\n",
    "    print(f\"In-sample accuracy: {accuracy:0.2%}\")\n",
    "    \n",
    "    predictions = model.predict_proba(testfeatures_svd_scl)\n",
    "    sub = make_country_sub(predictions, testfeatures, country)\n",
    "    return sub"
   ]
  },
  {
   "cell_type": "code",
   "execution_count": 44,
   "metadata": {
    "collapsed": true
   },
   "outputs": [],
   "source": [
    "svm_model = SVC()\n",
    "parameters = [{'C': [0.1,1,10],'gamma': [0.1,0.01,0.001,0.0001,0.00001],'class_weight':['balanced'],'kernel': ['rbf']}]"
   ]
  },
  {
   "cell_type": "code",
   "execution_count": 45,
   "metadata": {},
   "outputs": [
    {
     "name": "stdout",
     "output_type": "stream",
     "text": [
      "Fitting 5 folds for each of 15 candidates, totalling 75 fits\n",
      "[CV] C=0.1, class_weight=balanced, gamma=0.1, kernel=rbf .............\n",
      "[CV] C=0.1, class_weight=balanced, gamma=0.1, kernel=rbf .............\n",
      "[CV] C=0.1, class_weight=balanced, gamma=0.1, kernel=rbf .............\n",
      "[CV] C=0.1, class_weight=balanced, gamma=0.1, kernel=rbf .............\n",
      "[CV] C=0.1, class_weight=balanced, gamma=0.1, kernel=rbf .............\n",
      "[CV]  C=0.1, class_weight=balanced, gamma=0.1, kernel=rbf, total=  30.1s\n",
      "[CV] C=0.1, class_weight=balanced, gamma=0.01, kernel=rbf ............\n",
      "[CV]  C=0.1, class_weight=balanced, gamma=0.1, kernel=rbf, total=  30.1s\n",
      "[CV] C=0.1, class_weight=balanced, gamma=0.01, kernel=rbf ............\n",
      "[CV]  C=0.1, class_weight=balanced, gamma=0.1, kernel=rbf, total=  30.1s\n",
      "[CV]  C=0.1, class_weight=balanced, gamma=0.1, kernel=rbf, total=  30.0s\n",
      "[CV]  C=0.1, class_weight=balanced, gamma=0.1, kernel=rbf, total=  30.0s\n",
      "[CV] C=0.1, class_weight=balanced, gamma=0.01, kernel=rbf ............\n",
      "[CV] C=0.1, class_weight=balanced, gamma=0.01, kernel=rbf ............\n",
      "[CV] C=0.1, class_weight=balanced, gamma=0.01, kernel=rbf ............\n",
      "[CV]  C=0.1, class_weight=balanced, gamma=0.01, kernel=rbf, total=  32.1s\n",
      "[CV] C=0.1, class_weight=balanced, gamma=0.001, kernel=rbf ...........\n",
      "[CV]  C=0.1, class_weight=balanced, gamma=0.01, kernel=rbf, total=  32.0s\n",
      "[CV] C=0.1, class_weight=balanced, gamma=0.001, kernel=rbf ...........\n",
      "[CV]  C=0.1, class_weight=balanced, gamma=0.01, kernel=rbf, total=  32.1s\n",
      "[CV]  C=0.1, class_weight=balanced, gamma=0.01, kernel=rbf, total=  32.0s\n",
      "[CV] C=0.1, class_weight=balanced, gamma=0.001, kernel=rbf ...........\n",
      "[CV]  C=0.1, class_weight=balanced, gamma=0.01, kernel=rbf, total=  32.0s\n",
      "[CV] C=0.1, class_weight=balanced, gamma=0.001, kernel=rbf ...........\n",
      "[CV] C=0.1, class_weight=balanced, gamma=0.001, kernel=rbf ...........\n",
      "[CV]  C=0.1, class_weight=balanced, gamma=0.001, kernel=rbf, total=  22.7s\n",
      "[CV] C=0.1, class_weight=balanced, gamma=0.0001, kernel=rbf ..........\n",
      "[CV]  C=0.1, class_weight=balanced, gamma=0.001, kernel=rbf, total=  23.0s\n",
      "[CV]  C=0.1, class_weight=balanced, gamma=0.001, kernel=rbf, total=  23.1s\n",
      "[CV] C=0.1, class_weight=balanced, gamma=0.0001, kernel=rbf ..........\n",
      "[CV] C=0.1, class_weight=balanced, gamma=0.0001, kernel=rbf ..........\n",
      "[CV]  C=0.1, class_weight=balanced, gamma=0.001, kernel=rbf, total=  23.0s\n",
      "[CV] C=0.1, class_weight=balanced, gamma=0.0001, kernel=rbf ..........\n",
      "[CV]  C=0.1, class_weight=balanced, gamma=0.001, kernel=rbf, total=  22.9s\n",
      "[CV] C=0.1, class_weight=balanced, gamma=0.0001, kernel=rbf ..........\n",
      "[CV]  C=0.1, class_weight=balanced, gamma=0.0001, kernel=rbf, total=  28.9s\n",
      "[CV] C=0.1, class_weight=balanced, gamma=1e-05, kernel=rbf ...........\n",
      "[CV]  C=0.1, class_weight=balanced, gamma=0.0001, kernel=rbf, total=  28.7s\n",
      "[CV] C=0.1, class_weight=balanced, gamma=1e-05, kernel=rbf ...........\n",
      "[CV]  C=0.1, class_weight=balanced, gamma=0.0001, kernel=rbf, total=  28.8s\n",
      "[CV] C=0.1, class_weight=balanced, gamma=1e-05, kernel=rbf ...........\n",
      "[CV]  C=0.1, class_weight=balanced, gamma=0.0001, kernel=rbf, total=  28.7s\n",
      "[CV] C=0.1, class_weight=balanced, gamma=1e-05, kernel=rbf ...........\n",
      "[CV]  C=0.1, class_weight=balanced, gamma=0.0001, kernel=rbf, total=  28.6s\n",
      "[CV] C=0.1, class_weight=balanced, gamma=1e-05, kernel=rbf ...........\n",
      "[CV]  C=0.1, class_weight=balanced, gamma=1e-05, kernel=rbf, total=  25.0s\n",
      "[CV] C=1, class_weight=balanced, gamma=0.1, kernel=rbf ...............\n",
      "[CV]  C=0.1, class_weight=balanced, gamma=1e-05, kernel=rbf, total=  24.9s\n",
      "[CV]  C=0.1, class_weight=balanced, gamma=1e-05, kernel=rbf, total=  24.8s\n",
      "[CV] C=1, class_weight=balanced, gamma=0.1, kernel=rbf ...............\n",
      "[CV] C=1, class_weight=balanced, gamma=0.1, kernel=rbf ...............\n",
      "[CV]  C=0.1, class_weight=balanced, gamma=1e-05, kernel=rbf, total=  24.8s\n",
      "[CV] C=1, class_weight=balanced, gamma=0.1, kernel=rbf ...............\n",
      "[CV]  C=0.1, class_weight=balanced, gamma=1e-05, kernel=rbf, total=  24.8s\n",
      "[CV] C=1, class_weight=balanced, gamma=0.1, kernel=rbf ...............\n",
      "[CV]  C=1, class_weight=balanced, gamma=0.1, kernel=rbf, total=  24.0s\n",
      "[CV] C=1, class_weight=balanced, gamma=0.01, kernel=rbf ..............\n",
      "[CV]  C=1, class_weight=balanced, gamma=0.1, kernel=rbf, total=  23.9s\n",
      "[CV]  C=1, class_weight=balanced, gamma=0.1, kernel=rbf, total=  23.9s\n",
      "[CV] C=1, class_weight=balanced, gamma=0.01, kernel=rbf ..............\n",
      "[CV] C=1, class_weight=balanced, gamma=0.01, kernel=rbf ..............\n",
      "[CV]  C=1, class_weight=balanced, gamma=0.1, kernel=rbf, total=  23.8s\n",
      "[CV] C=1, class_weight=balanced, gamma=0.01, kernel=rbf ..............\n",
      "[CV]  C=1, class_weight=balanced, gamma=0.1, kernel=rbf, total=  23.8s\n",
      "[CV] C=1, class_weight=balanced, gamma=0.01, kernel=rbf ..............\n",
      "[CV]  C=1, class_weight=balanced, gamma=0.01, kernel=rbf, total=  22.8s\n",
      "[CV] C=1, class_weight=balanced, gamma=0.001, kernel=rbf .............\n"
     ]
    },
    {
     "name": "stderr",
     "output_type": "stream",
     "text": [
      "[Parallel(n_jobs=5)]: Done  31 tasks      | elapsed:  5.1min\n"
     ]
    },
    {
     "name": "stdout",
     "output_type": "stream",
     "text": [
      "[CV]  C=1, class_weight=balanced, gamma=0.01, kernel=rbf, total=  22.5s\n",
      "[CV] C=1, class_weight=balanced, gamma=0.001, kernel=rbf .............\n",
      "[CV]  C=1, class_weight=balanced, gamma=0.01, kernel=rbf, total=  22.7s\n",
      "[CV] C=1, class_weight=balanced, gamma=0.001, kernel=rbf .............\n",
      "[CV]  C=1, class_weight=balanced, gamma=0.01, kernel=rbf, total=  22.6s\n",
      "[CV] C=1, class_weight=balanced, gamma=0.001, kernel=rbf .............\n",
      "[CV]  C=1, class_weight=balanced, gamma=0.01, kernel=rbf, total=  22.5s\n",
      "[CV] C=1, class_weight=balanced, gamma=0.001, kernel=rbf .............\n",
      "[CV]  C=1, class_weight=balanced, gamma=0.001, kernel=rbf, total=  12.3s\n",
      "[CV]  C=1, class_weight=balanced, gamma=0.001, kernel=rbf, total=  12.8s\n",
      "[CV]  C=1, class_weight=balanced, gamma=0.001, kernel=rbf, total=  12.4s\n",
      "[CV] C=1, class_weight=balanced, gamma=0.0001, kernel=rbf ............\n",
      "[CV] C=1, class_weight=balanced, gamma=0.0001, kernel=rbf ............\n",
      "[CV] C=1, class_weight=balanced, gamma=0.0001, kernel=rbf ............\n",
      "[CV]  C=1, class_weight=balanced, gamma=0.001, kernel=rbf, total=  12.5s\n",
      "[CV] C=1, class_weight=balanced, gamma=0.0001, kernel=rbf ............\n",
      "[CV]  C=1, class_weight=balanced, gamma=0.001, kernel=rbf, total=  12.4s\n",
      "[CV] C=1, class_weight=balanced, gamma=0.0001, kernel=rbf ............\n",
      "[CV]  C=1, class_weight=balanced, gamma=0.0001, kernel=rbf, total=  21.4s\n",
      "[CV] C=1, class_weight=balanced, gamma=1e-05, kernel=rbf .............\n",
      "[CV]  C=1, class_weight=balanced, gamma=0.0001, kernel=rbf, total=  21.6s\n",
      "[CV] C=1, class_weight=balanced, gamma=1e-05, kernel=rbf .............\n",
      "[CV]  C=1, class_weight=balanced, gamma=0.0001, kernel=rbf, total=  21.7s\n",
      "[CV] C=1, class_weight=balanced, gamma=1e-05, kernel=rbf .............\n",
      "[CV]  C=1, class_weight=balanced, gamma=0.0001, kernel=rbf, total=  21.8s\n",
      "[CV] C=1, class_weight=balanced, gamma=1e-05, kernel=rbf .............\n",
      "[CV]  C=1, class_weight=balanced, gamma=0.0001, kernel=rbf, total=  21.4s\n",
      "[CV] C=1, class_weight=balanced, gamma=1e-05, kernel=rbf .............\n",
      "[CV]  C=1, class_weight=balanced, gamma=1e-05, kernel=rbf, total=  25.2s\n",
      "[CV]  C=1, class_weight=balanced, gamma=1e-05, kernel=rbf, total=  25.3s\n",
      "[CV] C=10, class_weight=balanced, gamma=0.1, kernel=rbf ..............\n",
      "[CV] C=10, class_weight=balanced, gamma=0.1, kernel=rbf ..............\n",
      "[CV]  C=1, class_weight=balanced, gamma=1e-05, kernel=rbf, total=  25.0s\n",
      "[CV]  C=1, class_weight=balanced, gamma=1e-05, kernel=rbf, total=  24.9s\n",
      "[CV] C=10, class_weight=balanced, gamma=0.1, kernel=rbf ..............\n",
      "[CV] C=10, class_weight=balanced, gamma=0.1, kernel=rbf ..............\n",
      "[CV]  C=1, class_weight=balanced, gamma=1e-05, kernel=rbf, total=  24.8s\n",
      "[CV] C=10, class_weight=balanced, gamma=0.1, kernel=rbf ..............\n",
      "[CV]  C=10, class_weight=balanced, gamma=0.1, kernel=rbf, total=  26.9s\n",
      "[CV] C=10, class_weight=balanced, gamma=0.01, kernel=rbf .............\n",
      "[CV]  C=10, class_weight=balanced, gamma=0.1, kernel=rbf, total=  26.9s\n",
      "[CV] C=10, class_weight=balanced, gamma=0.01, kernel=rbf .............\n",
      "[CV]  C=10, class_weight=balanced, gamma=0.1, kernel=rbf, total=  26.7s\n",
      "[CV]  C=10, class_weight=balanced, gamma=0.1, kernel=rbf, total=  26.7s\n",
      "[CV] C=10, class_weight=balanced, gamma=0.01, kernel=rbf .............\n",
      "[CV] C=10, class_weight=balanced, gamma=0.01, kernel=rbf .............\n",
      "[CV]  C=10, class_weight=balanced, gamma=0.1, kernel=rbf, total=  26.4s\n",
      "[CV] C=10, class_weight=balanced, gamma=0.01, kernel=rbf .............\n",
      "[CV]  C=10, class_weight=balanced, gamma=0.01, kernel=rbf, total=  22.8s\n",
      "[CV]  C=10, class_weight=balanced, gamma=0.01, kernel=rbf, total=  22.9s\n",
      "[CV] C=10, class_weight=balanced, gamma=0.001, kernel=rbf ............\n",
      "[CV] C=10, class_weight=balanced, gamma=0.001, kernel=rbf ............\n",
      "[CV]  C=10, class_weight=balanced, gamma=0.01, kernel=rbf, total=  22.9s\n",
      "[CV] C=10, class_weight=balanced, gamma=0.001, kernel=rbf ............\n",
      "[CV]  C=10, class_weight=balanced, gamma=0.01, kernel=rbf, total=  22.9s\n",
      "[CV] C=10, class_weight=balanced, gamma=0.001, kernel=rbf ............\n",
      "[CV]  C=10, class_weight=balanced, gamma=0.01, kernel=rbf, total=  22.8s\n",
      "[CV] C=10, class_weight=balanced, gamma=0.001, kernel=rbf ............\n",
      "[CV]  C=10, class_weight=balanced, gamma=0.001, kernel=rbf, total=  11.7s\n",
      "[CV] C=10, class_weight=balanced, gamma=0.0001, kernel=rbf ...........\n",
      "[CV]  C=10, class_weight=balanced, gamma=0.001, kernel=rbf, total=  11.7s\n",
      "[CV] C=10, class_weight=balanced, gamma=0.0001, kernel=rbf ...........\n",
      "[CV]  C=10, class_weight=balanced, gamma=0.001, kernel=rbf, total=  11.9s\n",
      "[CV] C=10, class_weight=balanced, gamma=0.0001, kernel=rbf ...........\n",
      "[CV]  C=10, class_weight=balanced, gamma=0.001, kernel=rbf, total=  11.9s\n",
      "[CV] C=10, class_weight=balanced, gamma=0.0001, kernel=rbf ...........\n",
      "[CV]  C=10, class_weight=balanced, gamma=0.001, kernel=rbf, total=  11.8s\n",
      "[CV] C=10, class_weight=balanced, gamma=0.0001, kernel=rbf ...........\n",
      "[CV]  C=10, class_weight=balanced, gamma=0.0001, kernel=rbf, total=  12.9s\n",
      "[CV] C=10, class_weight=balanced, gamma=1e-05, kernel=rbf ............\n",
      "[CV]  C=10, class_weight=balanced, gamma=0.0001, kernel=rbf, total=  12.8s\n",
      "[CV] C=10, class_weight=balanced, gamma=1e-05, kernel=rbf ............\n",
      "[CV]  C=10, class_weight=balanced, gamma=0.0001, kernel=rbf, total=  12.9s\n",
      "[CV] C=10, class_weight=balanced, gamma=1e-05, kernel=rbf ............\n",
      "[CV]  C=10, class_weight=balanced, gamma=0.0001, kernel=rbf, total=  13.0s\n",
      "[CV] C=10, class_weight=balanced, gamma=1e-05, kernel=rbf ............\n",
      "[CV]  C=10, class_weight=balanced, gamma=0.0001, kernel=rbf, total=  13.0s\n",
      "[CV] C=10, class_weight=balanced, gamma=1e-05, kernel=rbf ............\n",
      "[CV]  C=10, class_weight=balanced, gamma=1e-05, kernel=rbf, total=  23.6s\n",
      "[CV]  C=10, class_weight=balanced, gamma=1e-05, kernel=rbf, total=  23.5s\n",
      "[CV]  C=10, class_weight=balanced, gamma=1e-05, kernel=rbf, total=  23.4s\n",
      "[CV]  C=10, class_weight=balanced, gamma=1e-05, kernel=rbf, total=  23.6s\n",
      "[CV]  C=10, class_weight=balanced, gamma=1e-05, kernel=rbf, total=  23.4s\n"
     ]
    },
    {
     "name": "stderr",
     "output_type": "stream",
     "text": [
      "[Parallel(n_jobs=5)]: Done  75 out of  75 | elapsed:  9.6min finished\n"
     ]
    }
   ],
   "source": [
    "model_A = GridSearchCV(svm_model,param_grid=parameters, n_jobs=5,\n",
    "                       cv=StratifiedKFold(ay_train, n_folds=5,shuffle=True),\n",
    "                       scoring='roc_auc',\n",
    "                       verbose=2).fit(trans_atrain, ay_train)"
   ]
  },
  {
   "cell_type": "code",
   "execution_count": 46,
   "metadata": {},
   "outputs": [
    {
     "data": {
      "text/plain": [
       "SVC(C=10, cache_size=200, class_weight='balanced', coef0=0.0,\n",
       "  decision_function_shape='ovr', degree=3, gamma=0.001, kernel='rbf',\n",
       "  max_iter=-1, probability=False, random_state=None, shrinking=True,\n",
       "  tol=0.001, verbose=False)"
      ]
     },
     "execution_count": 46,
     "metadata": {},
     "output_type": "execute_result"
    }
   ],
   "source": [
    "model_A.best_estimator_"
   ]
  },
  {
   "cell_type": "code",
   "execution_count": 47,
   "metadata": {},
   "outputs": [
    {
     "data": {
      "text/plain": [
       "0.95061715930450497"
      ]
     },
     "execution_count": 47,
     "metadata": {},
     "output_type": "execute_result"
    }
   ],
   "source": [
    "model_A.best_score_"
   ]
  },
  {
   "cell_type": "code",
   "execution_count": 56,
   "metadata": {},
   "outputs": [
    {
     "data": {
      "text/plain": [
       "0.86227909811090797"
      ]
     },
     "execution_count": 56,
     "metadata": {},
     "output_type": "execute_result"
    }
   ],
   "source": [
    "model_A = SVC(C=10, cache_size=200, class_weight='balanced', coef0=0.0,\n",
    "  decision_function_shape='ovr', degree=3, gamma=0.001, kernel='rbf',\n",
    "  max_iter=-1, probability=True, random_state=None, shrinking=True,\n",
    "  tol=0.001, verbose=False).fit(trans_atrain, ay_train)\n",
    "model_A.score(trans_avalid, ay_valid)"
   ]
  },
  {
   "cell_type": "code",
   "execution_count": null,
   "metadata": {
    "collapsed": true
   },
   "outputs": [],
   "source": []
  },
  {
   "cell_type": "code",
   "execution_count": 15,
   "metadata": {},
   "outputs": [
    {
     "name": "stdout",
     "output_type": "stream",
     "text": [
      "Fitting 5 folds for each of 15 candidates, totalling 75 fits\n",
      "[CV] C=0.1, class_weight=balanced, gamma=0.1, kernel=rbf .............\n",
      "[CV] C=0.1, class_weight=balanced, gamma=0.1, kernel=rbf .............\n",
      "[CV] C=0.1, class_weight=balanced, gamma=0.1, kernel=rbf .............\n",
      "[CV] C=0.1, class_weight=balanced, gamma=0.1, kernel=rbf .............\n",
      "[CV] C=0.1, class_weight=balanced, gamma=0.1, kernel=rbf .............\n",
      "[CV]  C=0.1, class_weight=balanced, gamma=0.1, kernel=rbf, total=   5.6s\n",
      "[CV] C=0.1, class_weight=balanced, gamma=0.01, kernel=rbf ............\n",
      "[CV]  C=0.1, class_weight=balanced, gamma=0.1, kernel=rbf, total=   5.6s\n",
      "[CV]  C=0.1, class_weight=balanced, gamma=0.1, kernel=rbf, total=   5.6s\n",
      "[CV] C=0.1, class_weight=balanced, gamma=0.01, kernel=rbf ............\n",
      "[CV] C=0.1, class_weight=balanced, gamma=0.01, kernel=rbf ............\n",
      "[CV]  C=0.1, class_weight=balanced, gamma=0.1, kernel=rbf, total=   5.5s\n",
      "[CV] C=0.1, class_weight=balanced, gamma=0.01, kernel=rbf ............\n",
      "[CV]  C=0.1, class_weight=balanced, gamma=0.1, kernel=rbf, total=   5.5s\n",
      "[CV] C=0.1, class_weight=balanced, gamma=0.01, kernel=rbf ............\n",
      "[CV]  C=0.1, class_weight=balanced, gamma=0.01, kernel=rbf, total=   6.0s\n",
      "[CV] C=0.1, class_weight=balanced, gamma=0.001, kernel=rbf ...........\n",
      "[CV]  C=0.1, class_weight=balanced, gamma=0.01, kernel=rbf, total=   6.1s\n",
      "[CV]  C=0.1, class_weight=balanced, gamma=0.01, kernel=rbf, total=   6.0s\n",
      "[CV] C=0.1, class_weight=balanced, gamma=0.001, kernel=rbf ...........\n",
      "[CV] C=0.1, class_weight=balanced, gamma=0.001, kernel=rbf ...........\n",
      "[CV]  C=0.1, class_weight=balanced, gamma=0.01, kernel=rbf, total=   6.0s\n",
      "[CV] C=0.1, class_weight=balanced, gamma=0.001, kernel=rbf ...........\n",
      "[CV]  C=0.1, class_weight=balanced, gamma=0.01, kernel=rbf, total=   6.0s\n",
      "[CV] C=0.1, class_weight=balanced, gamma=0.001, kernel=rbf ...........\n",
      "[CV]  C=0.1, class_weight=balanced, gamma=0.001, kernel=rbf, total=   8.4s\n",
      "[CV] C=0.1, class_weight=balanced, gamma=0.0001, kernel=rbf ..........\n",
      "[CV]  C=0.1, class_weight=balanced, gamma=0.001, kernel=rbf, total=   8.3s\n",
      "[CV]  C=0.1, class_weight=balanced, gamma=0.001, kernel=rbf, total=   8.3s\n",
      "[CV] C=0.1, class_weight=balanced, gamma=0.0001, kernel=rbf ..........\n",
      "[CV] C=0.1, class_weight=balanced, gamma=0.0001, kernel=rbf ..........\n",
      "[CV]  C=0.1, class_weight=balanced, gamma=0.001, kernel=rbf, total=   8.3s\n",
      "[CV]  C=0.1, class_weight=balanced, gamma=0.001, kernel=rbf, total=   8.3s\n",
      "[CV] C=0.1, class_weight=balanced, gamma=0.0001, kernel=rbf ..........\n",
      "[CV] C=0.1, class_weight=balanced, gamma=0.0001, kernel=rbf ..........\n",
      "[CV]  C=0.1, class_weight=balanced, gamma=0.0001, kernel=rbf, total=   7.1s\n",
      "[CV] C=0.1, class_weight=balanced, gamma=1e-05, kernel=rbf ...........\n",
      "[CV]  C=0.1, class_weight=balanced, gamma=0.0001, kernel=rbf, total=   7.1s\n",
      "[CV]  C=0.1, class_weight=balanced, gamma=0.0001, kernel=rbf, total=   7.1s\n",
      "[CV] C=0.1, class_weight=balanced, gamma=1e-05, kernel=rbf ...........\n",
      "[CV] C=0.1, class_weight=balanced, gamma=1e-05, kernel=rbf ...........\n",
      "[CV]  C=0.1, class_weight=balanced, gamma=0.0001, kernel=rbf, total=   7.3s\n",
      "[CV] C=0.1, class_weight=balanced, gamma=1e-05, kernel=rbf ...........\n",
      "[CV]  C=0.1, class_weight=balanced, gamma=0.0001, kernel=rbf, total=   7.2s\n",
      "[CV] C=0.1, class_weight=balanced, gamma=1e-05, kernel=rbf ...........\n",
      "[CV]  C=0.1, class_weight=balanced, gamma=1e-05, kernel=rbf, total=   5.4s\n",
      "[CV] C=1, class_weight=balanced, gamma=0.1, kernel=rbf ...............\n",
      "[CV]  C=0.1, class_weight=balanced, gamma=1e-05, kernel=rbf, total=   5.3s\n",
      "[CV] C=1, class_weight=balanced, gamma=0.1, kernel=rbf ...............\n",
      "[CV]  C=0.1, class_weight=balanced, gamma=1e-05, kernel=rbf, total=   5.3s\n",
      "[CV] C=1, class_weight=balanced, gamma=0.1, kernel=rbf ...............\n",
      "[CV]  C=0.1, class_weight=balanced, gamma=1e-05, kernel=rbf, total=   5.2s\n",
      "[CV] C=1, class_weight=balanced, gamma=0.1, kernel=rbf ...............\n",
      "[CV]  C=0.1, class_weight=balanced, gamma=1e-05, kernel=rbf, total=   5.2s\n",
      "[CV] C=1, class_weight=balanced, gamma=0.1, kernel=rbf ...............\n",
      "[CV]  C=1, class_weight=balanced, gamma=0.1, kernel=rbf, total=   5.0s\n",
      "[CV] C=1, class_weight=balanced, gamma=0.01, kernel=rbf ..............\n",
      "[CV]  C=1, class_weight=balanced, gamma=0.1, kernel=rbf, total=   5.0s\n",
      "[CV] C=1, class_weight=balanced, gamma=0.01, kernel=rbf ..............\n",
      "[CV]  C=1, class_weight=balanced, gamma=0.1, kernel=rbf, total=   5.0s\n",
      "[CV] C=1, class_weight=balanced, gamma=0.01, kernel=rbf ..............\n",
      "[CV]  C=1, class_weight=balanced, gamma=0.1, kernel=rbf, total=   5.0s\n",
      "[CV] C=1, class_weight=balanced, gamma=0.01, kernel=rbf ..............\n",
      "[CV]  C=1, class_weight=balanced, gamma=0.1, kernel=rbf, total=   5.0s\n",
      "[CV] C=1, class_weight=balanced, gamma=0.01, kernel=rbf ..............\n",
      "[CV]  C=1, class_weight=balanced, gamma=0.01, kernel=rbf, total=   6.4s\n",
      "[CV] C=1, class_weight=balanced, gamma=0.001, kernel=rbf .............\n",
      "[CV]  C=1, class_weight=balanced, gamma=0.01, kernel=rbf, total=   6.4s\n",
      "[CV] C=1, class_weight=balanced, gamma=0.001, kernel=rbf .............\n"
     ]
    },
    {
     "name": "stderr",
     "output_type": "stream",
     "text": [
      "[Parallel(n_jobs=5)]: Done  31 tasks      | elapsed:  1.3min\n"
     ]
    },
    {
     "name": "stdout",
     "output_type": "stream",
     "text": [
      "[CV]  C=1, class_weight=balanced, gamma=0.01, kernel=rbf, total=   6.4s\n",
      "[CV] C=1, class_weight=balanced, gamma=0.001, kernel=rbf .............\n",
      "[CV]  C=1, class_weight=balanced, gamma=0.01, kernel=rbf, total=   6.4s\n",
      "[CV] C=1, class_weight=balanced, gamma=0.001, kernel=rbf .............\n",
      "[CV]  C=1, class_weight=balanced, gamma=0.01, kernel=rbf, total=   6.4s\n",
      "[CV] C=1, class_weight=balanced, gamma=0.001, kernel=rbf .............\n",
      "[CV]  C=1, class_weight=balanced, gamma=0.001, kernel=rbf, total=   3.1s\n",
      "[CV] C=1, class_weight=balanced, gamma=0.0001, kernel=rbf ............\n",
      "[CV]  C=1, class_weight=balanced, gamma=0.001, kernel=rbf, total=   3.0s\n",
      "[CV] C=1, class_weight=balanced, gamma=0.0001, kernel=rbf ............\n",
      "[CV]  C=1, class_weight=balanced, gamma=0.001, kernel=rbf, total=   2.9s\n",
      "[CV] C=1, class_weight=balanced, gamma=0.0001, kernel=rbf ............\n",
      "[CV]  C=1, class_weight=balanced, gamma=0.001, kernel=rbf, total=   3.1s\n",
      "[CV] C=1, class_weight=balanced, gamma=0.0001, kernel=rbf ............\n",
      "[CV]  C=1, class_weight=balanced, gamma=0.001, kernel=rbf, total=   3.0s\n",
      "[CV] C=1, class_weight=balanced, gamma=0.0001, kernel=rbf ............\n",
      "[CV]  C=1, class_weight=balanced, gamma=0.0001, kernel=rbf, total=   4.5s\n",
      "[CV] C=1, class_weight=balanced, gamma=1e-05, kernel=rbf .............\n",
      "[CV]  C=1, class_weight=balanced, gamma=0.0001, kernel=rbf, total=   4.6s\n",
      "[CV] C=1, class_weight=balanced, gamma=1e-05, kernel=rbf .............\n",
      "[CV]  C=1, class_weight=balanced, gamma=0.0001, kernel=rbf, total=   4.6s\n",
      "[CV] C=1, class_weight=balanced, gamma=1e-05, kernel=rbf .............\n",
      "[CV]  C=1, class_weight=balanced, gamma=0.0001, kernel=rbf, total=   4.5s\n",
      "[CV] C=1, class_weight=balanced, gamma=1e-05, kernel=rbf .............\n",
      "[CV]  C=1, class_weight=balanced, gamma=0.0001, kernel=rbf, total=   4.5s\n",
      "[CV] C=1, class_weight=balanced, gamma=1e-05, kernel=rbf .............\n",
      "[CV]  C=1, class_weight=balanced, gamma=1e-05, kernel=rbf, total=   4.8s\n",
      "[CV] C=10, class_weight=balanced, gamma=0.1, kernel=rbf ..............\n",
      "[CV]  C=1, class_weight=balanced, gamma=1e-05, kernel=rbf, total=   4.8s\n",
      "[CV] C=10, class_weight=balanced, gamma=0.1, kernel=rbf ..............\n",
      "[CV]  C=1, class_weight=balanced, gamma=1e-05, kernel=rbf, total=   4.8s\n",
      "[CV]  C=1, class_weight=balanced, gamma=1e-05, kernel=rbf, total=   4.7s\n",
      "[CV] C=10, class_weight=balanced, gamma=0.1, kernel=rbf ..............\n",
      "[CV] C=10, class_weight=balanced, gamma=0.1, kernel=rbf ..............\n",
      "[CV]  C=1, class_weight=balanced, gamma=1e-05, kernel=rbf, total=   4.7s\n",
      "[CV] C=10, class_weight=balanced, gamma=0.1, kernel=rbf ..............\n",
      "[CV]  C=10, class_weight=balanced, gamma=0.1, kernel=rbf, total=   4.7s\n",
      "[CV] C=10, class_weight=balanced, gamma=0.01, kernel=rbf .............\n",
      "[CV]  C=10, class_weight=balanced, gamma=0.1, kernel=rbf, total=   4.7s\n",
      "[CV] C=10, class_weight=balanced, gamma=0.01, kernel=rbf .............\n",
      "[CV]  C=10, class_weight=balanced, gamma=0.1, kernel=rbf, total=   4.6s\n",
      "[CV] C=10, class_weight=balanced, gamma=0.01, kernel=rbf .............\n",
      "[CV]  C=10, class_weight=balanced, gamma=0.1, kernel=rbf, total=   4.7s\n",
      "[CV] C=10, class_weight=balanced, gamma=0.01, kernel=rbf .............\n",
      "[CV]  C=10, class_weight=balanced, gamma=0.1, kernel=rbf, total=   4.6s\n",
      "[CV] C=10, class_weight=balanced, gamma=0.01, kernel=rbf .............\n",
      "[CV]  C=10, class_weight=balanced, gamma=0.01, kernel=rbf, total=   4.7s\n",
      "[CV] C=10, class_weight=balanced, gamma=0.001, kernel=rbf ............\n",
      "[CV]  C=10, class_weight=balanced, gamma=0.01, kernel=rbf, total=   4.7s\n",
      "[CV] C=10, class_weight=balanced, gamma=0.001, kernel=rbf ............\n",
      "[CV]  C=10, class_weight=balanced, gamma=0.01, kernel=rbf, total=   4.7s\n",
      "[CV] C=10, class_weight=balanced, gamma=0.001, kernel=rbf ............\n",
      "[CV]  C=10, class_weight=balanced, gamma=0.01, kernel=rbf, total=   4.7s\n",
      "[CV] C=10, class_weight=balanced, gamma=0.001, kernel=rbf ............\n",
      "[CV]  C=10, class_weight=balanced, gamma=0.01, kernel=rbf, total=   4.7s\n",
      "[CV] C=10, class_weight=balanced, gamma=0.001, kernel=rbf ............\n",
      "[CV]  C=10, class_weight=balanced, gamma=0.001, kernel=rbf, total=   1.9s\n",
      "[CV] C=10, class_weight=balanced, gamma=0.0001, kernel=rbf ...........\n",
      "[CV]  C=10, class_weight=balanced, gamma=0.001, kernel=rbf, total=   1.9s\n",
      "[CV] C=10, class_weight=balanced, gamma=0.0001, kernel=rbf ...........\n",
      "[CV]  C=10, class_weight=balanced, gamma=0.001, kernel=rbf, total=   1.9s\n",
      "[CV]  C=10, class_weight=balanced, gamma=0.001, kernel=rbf, total=   1.9s\n",
      "[CV] C=10, class_weight=balanced, gamma=0.0001, kernel=rbf ...........\n",
      "[CV] C=10, class_weight=balanced, gamma=0.0001, kernel=rbf ...........\n",
      "[CV]  C=10, class_weight=balanced, gamma=0.001, kernel=rbf, total=   1.9s\n",
      "[CV] C=10, class_weight=balanced, gamma=0.0001, kernel=rbf ...........\n",
      "[CV]  C=10, class_weight=balanced, gamma=0.0001, kernel=rbf, total=   2.5s\n",
      "[CV] C=10, class_weight=balanced, gamma=1e-05, kernel=rbf ............\n",
      "[CV]  C=10, class_weight=balanced, gamma=0.0001, kernel=rbf, total=   2.5s\n",
      "[CV] C=10, class_weight=balanced, gamma=1e-05, kernel=rbf ............\n",
      "[CV]  C=10, class_weight=balanced, gamma=0.0001, kernel=rbf, total=   2.5s\n",
      "[CV]  C=10, class_weight=balanced, gamma=0.0001, kernel=rbf, total=   2.4s\n",
      "[CV]  C=10, class_weight=balanced, gamma=0.0001, kernel=rbf, total=   2.5s\n",
      "[CV] C=10, class_weight=balanced, gamma=1e-05, kernel=rbf ............\n",
      "[CV] C=10, class_weight=balanced, gamma=1e-05, kernel=rbf ............\n",
      "[CV] C=10, class_weight=balanced, gamma=1e-05, kernel=rbf ............\n",
      "[CV]  C=10, class_weight=balanced, gamma=1e-05, kernel=rbf, total=   4.5s\n",
      "[CV]  C=10, class_weight=balanced, gamma=1e-05, kernel=rbf, total=   4.5s\n",
      "[CV]  C=10, class_weight=balanced, gamma=1e-05, kernel=rbf, total=   4.5s\n",
      "[CV]  C=10, class_weight=balanced, gamma=1e-05, kernel=rbf, total=   4.5s\n",
      "[CV]  C=10, class_weight=balanced, gamma=1e-05, kernel=rbf, total=   4.5s\n"
     ]
    },
    {
     "name": "stderr",
     "output_type": "stream",
     "text": [
      "[Parallel(n_jobs=5)]: Done  75 out of  75 | elapsed:  2.2min finished\n"
     ]
    }
   ],
   "source": [
    "model_B = GridSearchCV(svm_model,param_grid=parameters, n_jobs=5,\n",
    "                       cv=StratifiedKFold(by_train, n_folds=5,shuffle=True),\n",
    "                       scoring='roc_auc',\n",
    "                       verbose=2,\n",
    "                       refit=True).fit(trans_btrain, by_train)"
   ]
  },
  {
   "cell_type": "code",
   "execution_count": 16,
   "metadata": {},
   "outputs": [
    {
     "data": {
      "text/plain": [
       "0.80145408707639754"
      ]
     },
     "execution_count": 16,
     "metadata": {},
     "output_type": "execute_result"
    }
   ],
   "source": [
    "model_B.best_score_"
   ]
  },
  {
   "cell_type": "code",
   "execution_count": 17,
   "metadata": {},
   "outputs": [
    {
     "data": {
      "text/plain": [
       "SVC(C=1, cache_size=200, class_weight='balanced', coef0=0.0,\n",
       "  decision_function_shape='ovr', degree=3, gamma=0.001, kernel='rbf',\n",
       "  max_iter=-1, probability=False, random_state=None, shrinking=True,\n",
       "  tol=0.001, verbose=False)"
      ]
     },
     "execution_count": 17,
     "metadata": {},
     "output_type": "execute_result"
    }
   ],
   "source": [
    "model_B.best_estimator_"
   ]
  },
  {
   "cell_type": "code",
   "execution_count": 59,
   "metadata": {},
   "outputs": [
    {
     "data": {
      "text/plain": [
       "0.88018433179723499"
      ]
     },
     "execution_count": 59,
     "metadata": {},
     "output_type": "execute_result"
    }
   ],
   "source": [
    "model_B = SVC(C=1, cache_size=200, class_weight='balanced', coef0=0.0,\n",
    "  decision_function_shape='ovr', degree=3, gamma=0.001, kernel='rbf',\n",
    "  max_iter=-1, probability=True, random_state=None, shrinking=True,\n",
    "  tol=0.001, verbose=False).fit(trans_btrain, by_train)\n",
    "model_B.score(trans_bvalid, by_valid)"
   ]
  },
  {
   "cell_type": "code",
   "execution_count": null,
   "metadata": {
    "collapsed": true
   },
   "outputs": [],
   "source": []
  },
  {
   "cell_type": "code",
   "execution_count": 36,
   "metadata": {
    "collapsed": true
   },
   "outputs": [],
   "source": [
    "svm_model = SVC()\n",
    "parameters = [{'C': [1e+7,1e+8,1e+9],'gamma': [1e-4,1e-5,1e-6,1e-7],'class_weight':['balanced'],'kernel': ['rbf']}]"
   ]
  },
  {
   "cell_type": "code",
   "execution_count": 37,
   "metadata": {},
   "outputs": [
    {
     "name": "stdout",
     "output_type": "stream",
     "text": [
      "Fitting 5 folds for each of 12 candidates, totalling 60 fits\n",
      "[CV] C=10000000.0, class_weight=balanced, gamma=0.0001, kernel=rbf ...\n",
      "[CV] C=10000000.0, class_weight=balanced, gamma=0.0001, kernel=rbf ...\n",
      "[CV] C=10000000.0, class_weight=balanced, gamma=0.0001, kernel=rbf ...\n",
      "[CV] C=10000000.0, class_weight=balanced, gamma=0.0001, kernel=rbf ...\n",
      "[CV] C=10000000.0, class_weight=balanced, gamma=0.0001, kernel=rbf ...\n",
      "[CV]  C=10000000.0, class_weight=balanced, gamma=0.0001, kernel=rbf, total=   8.9s\n",
      "[CV] C=10000000.0, class_weight=balanced, gamma=1e-05, kernel=rbf ....\n",
      "[CV]  C=10000000.0, class_weight=balanced, gamma=0.0001, kernel=rbf, total=   9.0s\n",
      "[CV] C=10000000.0, class_weight=balanced, gamma=1e-05, kernel=rbf ....\n",
      "[CV]  C=10000000.0, class_weight=balanced, gamma=0.0001, kernel=rbf, total=   9.1s\n",
      "[CV]  C=10000000.0, class_weight=balanced, gamma=0.0001, kernel=rbf, total=   9.0s\n",
      "[CV] C=10000000.0, class_weight=balanced, gamma=1e-05, kernel=rbf ....\n",
      "[CV] C=10000000.0, class_weight=balanced, gamma=1e-05, kernel=rbf ....\n",
      "[CV]  C=10000000.0, class_weight=balanced, gamma=0.0001, kernel=rbf, total=   9.2s\n",
      "[CV] C=10000000.0, class_weight=balanced, gamma=1e-05, kernel=rbf ....\n",
      "[CV]  C=10000000.0, class_weight=balanced, gamma=1e-05, kernel=rbf, total=  30.0s\n",
      "[CV] C=10000000.0, class_weight=balanced, gamma=1e-06, kernel=rbf ....\n",
      "[CV]  C=10000000.0, class_weight=balanced, gamma=1e-05, kernel=rbf, total=  30.5s\n",
      "[CV] C=10000000.0, class_weight=balanced, gamma=1e-06, kernel=rbf ....\n",
      "[CV]  C=10000000.0, class_weight=balanced, gamma=1e-05, kernel=rbf, total=  31.0s\n",
      "[CV] C=10000000.0, class_weight=balanced, gamma=1e-06, kernel=rbf ....\n",
      "[CV]  C=10000000.0, class_weight=balanced, gamma=1e-05, kernel=rbf, total=  32.2s\n",
      "[CV] C=10000000.0, class_weight=balanced, gamma=1e-06, kernel=rbf ....\n",
      "[CV]  C=10000000.0, class_weight=balanced, gamma=1e-05, kernel=rbf, total=  33.2s\n",
      "[CV] C=10000000.0, class_weight=balanced, gamma=1e-06, kernel=rbf ....\n",
      "[CV]  C=10000000.0, class_weight=balanced, gamma=1e-06, kernel=rbf, total=  45.1s\n",
      "[CV] C=10000000.0, class_weight=balanced, gamma=1e-07, kernel=rbf ....\n",
      "[CV]  C=10000000.0, class_weight=balanced, gamma=1e-07, kernel=rbf, total=   9.3s\n",
      "[CV] C=10000000.0, class_weight=balanced, gamma=1e-07, kernel=rbf ....\n",
      "[CV]  C=10000000.0, class_weight=balanced, gamma=1e-07, kernel=rbf, total=  12.0s\n",
      "[CV] C=10000000.0, class_weight=balanced, gamma=1e-07, kernel=rbf ....\n",
      "[CV]  C=10000000.0, class_weight=balanced, gamma=1e-07, kernel=rbf, total=   8.2s\n",
      "[CV] C=10000000.0, class_weight=balanced, gamma=1e-07, kernel=rbf ....\n",
      "[CV]  C=10000000.0, class_weight=balanced, gamma=1e-07, kernel=rbf, total=  22.9s\n",
      "[CV] C=10000000.0, class_weight=balanced, gamma=1e-07, kernel=rbf ....\n",
      "[CV]  C=10000000.0, class_weight=balanced, gamma=1e-06, kernel=rbf, total= 1.8min\n",
      "[CV] C=100000000.0, class_weight=balanced, gamma=0.0001, kernel=rbf ..\n",
      "[CV]  C=10000000.0, class_weight=balanced, gamma=1e-07, kernel=rbf, total=   6.9s\n",
      "[CV] C=100000000.0, class_weight=balanced, gamma=0.0001, kernel=rbf ..\n",
      "[CV]  C=100000000.0, class_weight=balanced, gamma=0.0001, kernel=rbf, total=   7.8s\n",
      "[CV] C=100000000.0, class_weight=balanced, gamma=0.0001, kernel=rbf ..\n",
      "[CV]  C=100000000.0, class_weight=balanced, gamma=0.0001, kernel=rbf, total=   7.7s\n",
      "[CV] C=100000000.0, class_weight=balanced, gamma=0.0001, kernel=rbf ..\n",
      "[CV]  C=100000000.0, class_weight=balanced, gamma=0.0001, kernel=rbf, total=   7.6s\n",
      "[CV] C=100000000.0, class_weight=balanced, gamma=0.0001, kernel=rbf ..\n",
      "[CV]  C=100000000.0, class_weight=balanced, gamma=0.0001, kernel=rbf, total=   7.5s\n",
      "[CV] C=100000000.0, class_weight=balanced, gamma=1e-05, kernel=rbf ...\n",
      "[CV]  C=100000000.0, class_weight=balanced, gamma=0.0001, kernel=rbf, total=   8.0s\n",
      "[CV] C=100000000.0, class_weight=balanced, gamma=1e-05, kernel=rbf ...\n",
      "[CV]  C=10000000.0, class_weight=balanced, gamma=1e-06, kernel=rbf, total= 2.5min\n",
      "[CV] C=100000000.0, class_weight=balanced, gamma=1e-05, kernel=rbf ...\n",
      "[CV]  C=100000000.0, class_weight=balanced, gamma=1e-05, kernel=rbf, total=  23.8s\n",
      "[CV] C=100000000.0, class_weight=balanced, gamma=1e-05, kernel=rbf ...\n",
      "[CV]  C=10000000.0, class_weight=balanced, gamma=1e-06, kernel=rbf, total= 2.7min\n",
      "[CV] C=100000000.0, class_weight=balanced, gamma=1e-05, kernel=rbf ...\n",
      "[CV]  C=100000000.0, class_weight=balanced, gamma=1e-05, kernel=rbf, total=  25.2s\n",
      "[CV] C=100000000.0, class_weight=balanced, gamma=1e-06, kernel=rbf ...\n",
      "[CV]  C=100000000.0, class_weight=balanced, gamma=1e-05, kernel=rbf, total=  24.2s\n",
      "[CV] C=100000000.0, class_weight=balanced, gamma=1e-06, kernel=rbf ...\n",
      "[CV]  C=100000000.0, class_weight=balanced, gamma=1e-05, kernel=rbf, total=  24.8s\n",
      "[CV] C=100000000.0, class_weight=balanced, gamma=1e-06, kernel=rbf ...\n",
      "[CV]  C=100000000.0, class_weight=balanced, gamma=1e-05, kernel=rbf, total=  26.8s\n",
      "[CV] C=100000000.0, class_weight=balanced, gamma=1e-06, kernel=rbf ...\n",
      "[CV]  C=10000000.0, class_weight=balanced, gamma=1e-06, kernel=rbf, total= 4.1min\n",
      "[CV] C=100000000.0, class_weight=balanced, gamma=1e-06, kernel=rbf ...\n",
      "[CV]  C=100000000.0, class_weight=balanced, gamma=1e-06, kernel=rbf, total= 1.3min\n",
      "[CV] C=100000000.0, class_weight=balanced, gamma=1e-07, kernel=rbf ...\n"
     ]
    },
    {
     "name": "stderr",
     "output_type": "stream",
     "text": [
      "[Parallel(n_jobs=5)]: Done  31 tasks      | elapsed:  5.0min\n"
     ]
    },
    {
     "name": "stdout",
     "output_type": "stream",
     "text": [
      "[CV]  C=100000000.0, class_weight=balanced, gamma=1e-07, kernel=rbf, total=  11.7s\n",
      "[CV] C=100000000.0, class_weight=balanced, gamma=1e-07, kernel=rbf ...\n",
      "[CV]  C=100000000.0, class_weight=balanced, gamma=1e-07, kernel=rbf, total=  17.0s\n",
      "[CV] C=100000000.0, class_weight=balanced, gamma=1e-07, kernel=rbf ...\n",
      "[CV]  C=100000000.0, class_weight=balanced, gamma=1e-07, kernel=rbf, total=  13.2s\n",
      "[CV] C=100000000.0, class_weight=balanced, gamma=1e-07, kernel=rbf ...\n",
      "[CV]  C=100000000.0, class_weight=balanced, gamma=1e-07, kernel=rbf, total=  22.7s\n",
      "[CV] C=100000000.0, class_weight=balanced, gamma=1e-07, kernel=rbf ...\n",
      "[CV]  C=100000000.0, class_weight=balanced, gamma=1e-07, kernel=rbf, total=  25.2s\n",
      "[CV] C=1000000000.0, class_weight=balanced, gamma=0.0001, kernel=rbf .\n",
      "[CV]  C=1000000000.0, class_weight=balanced, gamma=0.0001, kernel=rbf, total=   7.7s\n",
      "[CV] C=1000000000.0, class_weight=balanced, gamma=0.0001, kernel=rbf .\n",
      "[CV]  C=100000000.0, class_weight=balanced, gamma=1e-06, kernel=rbf, total= 2.9min\n",
      "[CV] C=1000000000.0, class_weight=balanced, gamma=0.0001, kernel=rbf .\n",
      "[CV]  C=100000000.0, class_weight=balanced, gamma=1e-06, kernel=rbf, total= 3.5min\n",
      "[CV] C=1000000000.0, class_weight=balanced, gamma=0.0001, kernel=rbf .\n",
      "[CV]  C=1000000000.0, class_weight=balanced, gamma=0.0001, kernel=rbf, total=   7.7s\n",
      "[CV] C=1000000000.0, class_weight=balanced, gamma=0.0001, kernel=rbf .\n",
      "[CV]  C=1000000000.0, class_weight=balanced, gamma=0.0001, kernel=rbf, total=   7.7s\n",
      "[CV] C=1000000000.0, class_weight=balanced, gamma=1e-05, kernel=rbf ..\n",
      "[CV]  C=1000000000.0, class_weight=balanced, gamma=0.0001, kernel=rbf, total=   7.8s\n",
      "[CV] C=1000000000.0, class_weight=balanced, gamma=1e-05, kernel=rbf ..\n",
      "[CV]  C=1000000000.0, class_weight=balanced, gamma=0.0001, kernel=rbf, total=   7.9s\n",
      "[CV] C=1000000000.0, class_weight=balanced, gamma=1e-05, kernel=rbf ..\n",
      "[CV]  C=1000000000.0, class_weight=balanced, gamma=1e-05, kernel=rbf, total=  23.4s\n",
      "[CV] C=1000000000.0, class_weight=balanced, gamma=1e-05, kernel=rbf ..\n",
      "[CV]  C=1000000000.0, class_weight=balanced, gamma=1e-05, kernel=rbf, total=  23.1s\n",
      "[CV] C=1000000000.0, class_weight=balanced, gamma=1e-05, kernel=rbf ..\n",
      "[CV]  C=1000000000.0, class_weight=balanced, gamma=1e-05, kernel=rbf, total=  24.8s\n",
      "[CV] C=1000000000.0, class_weight=balanced, gamma=1e-06, kernel=rbf ..\n",
      "[CV]  C=1000000000.0, class_weight=balanced, gamma=1e-05, kernel=rbf, total=  23.6s\n",
      "[CV] C=1000000000.0, class_weight=balanced, gamma=1e-06, kernel=rbf ..\n",
      "[CV]  C=1000000000.0, class_weight=balanced, gamma=1e-05, kernel=rbf, total=  25.4s\n",
      "[CV] C=1000000000.0, class_weight=balanced, gamma=1e-06, kernel=rbf ..\n",
      "[CV]  C=100000000.0, class_weight=balanced, gamma=1e-06, kernel=rbf, total= 4.4min\n",
      "[CV] C=1000000000.0, class_weight=balanced, gamma=1e-06, kernel=rbf ..\n",
      "[CV]  C=100000000.0, class_weight=balanced, gamma=1e-06, kernel=rbf, total= 3.5min\n",
      "[CV] C=1000000000.0, class_weight=balanced, gamma=1e-06, kernel=rbf ..\n",
      "[CV]  C=1000000000.0, class_weight=balanced, gamma=1e-06, kernel=rbf, total= 2.3min\n",
      "[CV] C=1000000000.0, class_weight=balanced, gamma=1e-07, kernel=rbf ..\n",
      "[CV]  C=1000000000.0, class_weight=balanced, gamma=1e-06, kernel=rbf, total= 1.6min\n",
      "[CV] C=1000000000.0, class_weight=balanced, gamma=1e-07, kernel=rbf ..\n",
      "[CV]  C=1000000000.0, class_weight=balanced, gamma=1e-07, kernel=rbf, total=  18.3s\n",
      "[CV] C=1000000000.0, class_weight=balanced, gamma=1e-07, kernel=rbf ..\n",
      "[CV]  C=1000000000.0, class_weight=balanced, gamma=1e-07, kernel=rbf, total=  26.6s\n",
      "[CV] C=1000000000.0, class_weight=balanced, gamma=1e-07, kernel=rbf ..\n",
      "[CV]  C=1000000000.0, class_weight=balanced, gamma=1e-07, kernel=rbf, total=  20.7s\n",
      "[CV] C=1000000000.0, class_weight=balanced, gamma=1e-07, kernel=rbf ..\n",
      "[CV]  C=1000000000.0, class_weight=balanced, gamma=1e-07, kernel=rbf, total=  20.2s\n",
      "[CV]  C=1000000000.0, class_weight=balanced, gamma=1e-06, kernel=rbf, total= 3.0min\n",
      "[CV]  C=1000000000.0, class_weight=balanced, gamma=1e-06, kernel=rbf, total= 2.8min\n",
      "[CV]  C=1000000000.0, class_weight=balanced, gamma=1e-07, kernel=rbf, total=  23.5s\n",
      "[CV]  C=1000000000.0, class_weight=balanced, gamma=1e-06, kernel=rbf, total= 3.0min\n"
     ]
    },
    {
     "name": "stderr",
     "output_type": "stream",
     "text": [
      "[Parallel(n_jobs=5)]: Done  60 out of  60 | elapsed: 11.0min finished\n"
     ]
    }
   ],
   "source": [
    "model_C = GridSearchCV(svm_model,param_grid=parameters, n_jobs=5,\n",
    "                       cv=StratifiedKFold(cy_train, n_folds=5,shuffle=True),\n",
    "                       scoring='roc_auc',\n",
    "                       verbose=2,\n",
    "                       refit=True).fit(trans_ctrain, cy_train)"
   ]
  },
  {
   "cell_type": "code",
   "execution_count": null,
   "metadata": {
    "collapsed": true
   },
   "outputs": [],
   "source": []
  },
  {
   "cell_type": "code",
   "execution_count": null,
   "metadata": {
    "collapsed": true
   },
   "outputs": [],
   "source": [
    "model_A = SVC(C=10, cache_size=200, class_weight='balanced', coef0=0.0,\n",
    "  decision_function_shape='ovr', degree=3, gamma=0.001, kernel='rbf',\n",
    "  max_iter=-1, probability=True, random_state=None, shrinking=True,\n",
    "  tol=0.001, verbose=False).fit(trans_atrain, ay_train)\n",
    "model_A.score(trans_avalid, ay_valid)"
   ]
  },
  {
   "cell_type": "code",
   "execution_count": null,
   "metadata": {
    "collapsed": true
   },
   "outputs": [],
   "source": [
    "model_B = SVC(C=1, cache_size=200, class_weight='balanced', coef0=0.0,\n",
    "  decision_function_shape='ovr', degree=3, gamma=0.001, kernel='rbf',\n",
    "  max_iter=-1, probability=True, random_state=None, shrinking=True,\n",
    "  tol=0.001, verbose=False).fit(trans_btrain, by_train)\n",
    "model_B.score(trans_bvalid, by_valid)"
   ]
  },
  {
   "cell_type": "code",
   "execution_count": 70,
   "metadata": {},
   "outputs": [
    {
     "data": {
      "text/plain": [
       "0.9667697063369397"
      ]
     },
     "execution_count": 70,
     "metadata": {},
     "output_type": "execute_result"
    }
   ],
   "source": [
    "model_C = SVC(C=1000000.0, cache_size=200, class_weight='balanced', coef0=0.0,\n",
    "  decision_function_shape='ovr', degree=3, gamma=1e-05, kernel='rbf',\n",
    "  max_iter=-1, probability=True, random_state=None, shrinking=True,\n",
    "  tol=0.001, verbose=False).fit(trans_ctrain, cy_train)\n",
    "model_C.score(trans_cvalid, cy_valid)"
   ]
  },
  {
   "cell_type": "markdown",
   "metadata": {},
   "source": [
    "from libsvm import svm\n",
    "from libsvm import svmutil"
   ]
  },
  {
   "cell_type": "code",
   "execution_count": 66,
   "metadata": {
    "collapsed": true
   },
   "outputs": [],
   "source": [
    "a_preds = model_A.predict_proba(trans_atest)\n",
    "b_preds = model_B.predict_proba(trans_btest)\n",
    "c_preds = model_C.predict_proba(trans_ctest)\n",
    "\n",
    "# convert preds to data frames\n",
    "a_sub = make_country_sub(a_preds, a_test, 'A')\n",
    "b_sub = make_country_sub(b_preds, b_test, 'B')\n",
    "c_sub = make_country_sub(c_preds, c_test, 'C')"
   ]
  },
  {
   "cell_type": "code",
   "execution_count": 67,
   "metadata": {},
   "outputs": [
    {
     "data": {
      "text/html": [
       "<div>\n",
       "<style scoped>\n",
       "    .dataframe tbody tr th:only-of-type {\n",
       "        vertical-align: middle;\n",
       "    }\n",
       "\n",
       "    .dataframe tbody tr th {\n",
       "        vertical-align: top;\n",
       "    }\n",
       "\n",
       "    .dataframe thead th {\n",
       "        text-align: right;\n",
       "    }\n",
       "</style>\n",
       "<table border=\"1\" class=\"dataframe\">\n",
       "  <thead>\n",
       "    <tr style=\"text-align: right;\">\n",
       "      <th></th>\n",
       "      <th>country</th>\n",
       "      <th>poor</th>\n",
       "    </tr>\n",
       "    <tr>\n",
       "      <th>id</th>\n",
       "      <th></th>\n",
       "      <th></th>\n",
       "    </tr>\n",
       "  </thead>\n",
       "  <tbody>\n",
       "    <tr>\n",
       "      <th>6775</th>\n",
       "      <td>C</td>\n",
       "      <td>1.000000e-07</td>\n",
       "    </tr>\n",
       "    <tr>\n",
       "      <th>88300</th>\n",
       "      <td>C</td>\n",
       "      <td>1.000000e-07</td>\n",
       "    </tr>\n",
       "    <tr>\n",
       "      <th>35424</th>\n",
       "      <td>C</td>\n",
       "      <td>2.093219e-04</td>\n",
       "    </tr>\n",
       "    <tr>\n",
       "      <th>81668</th>\n",
       "      <td>C</td>\n",
       "      <td>1.000000e-07</td>\n",
       "    </tr>\n",
       "    <tr>\n",
       "      <th>98377</th>\n",
       "      <td>C</td>\n",
       "      <td>1.000000e-07</td>\n",
       "    </tr>\n",
       "  </tbody>\n",
       "</table>\n",
       "</div>"
      ],
      "text/plain": [
       "      country          poor\n",
       "id                         \n",
       "6775        C  1.000000e-07\n",
       "88300       C  1.000000e-07\n",
       "35424       C  2.093219e-04\n",
       "81668       C  1.000000e-07\n",
       "98377       C  1.000000e-07"
      ]
     },
     "execution_count": 67,
     "metadata": {},
     "output_type": "execute_result"
    }
   ],
   "source": [
    "submission = pd.concat([a_sub, b_sub, c_sub])\n",
    "submission.head()\n",
    "submission.tail()"
   ]
  },
  {
   "cell_type": "code",
   "execution_count": 62,
   "metadata": {
    "collapsed": true
   },
   "outputs": [],
   "source": [
    "submission.to_csv('SVM.csv')"
   ]
  },
  {
   "cell_type": "code",
   "execution_count": null,
   "metadata": {
    "collapsed": true
   },
   "outputs": [],
   "source": []
  }
 ],
 "metadata": {
  "kernelspec": {
   "display_name": "Python 3",
   "language": "python",
   "name": "python3"
  },
  "language_info": {
   "codemirror_mode": {
    "name": "ipython",
    "version": 3
   },
   "file_extension": ".py",
   "mimetype": "text/x-python",
   "name": "python",
   "nbconvert_exporter": "python",
   "pygments_lexer": "ipython3",
   "version": "3.6.2"
  }
 },
 "nbformat": 4,
 "nbformat_minor": 2
}
